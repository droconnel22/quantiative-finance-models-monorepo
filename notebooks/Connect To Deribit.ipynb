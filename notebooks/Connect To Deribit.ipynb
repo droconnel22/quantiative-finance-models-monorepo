{
 "cells": [
  {
   "cell_type": "code",
   "execution_count": 1,
   "metadata": {},
   "outputs": [],
   "source": [
    "import asyncio"
   ]
  },
  {
   "cell_type": "code",
   "execution_count": 2,
   "metadata": {},
   "outputs": [],
   "source": [
    "import websockets\n",
    "import json\n",
    "import hmac\n",
    "import hashlib\n",
    "from datetime import datetime"
   ]
  },
  {
   "cell_type": "code",
   "execution_count": 36,
   "metadata": {},
   "outputs": [],
   "source": [
    "import os\n",
    "from dotenv import load_dotenv"
   ]
  },
  {
   "cell_type": "code",
   "execution_count": 37,
   "metadata": {},
   "outputs": [
    {
     "data": {
      "text/plain": [
       "True"
      ]
     },
     "execution_count": 37,
     "metadata": {},
     "output_type": "execute_result"
    }
   ],
   "source": [
    "load_dotenv()"
   ]
  },
  {
   "cell_type": "code",
   "execution_count": 181,
   "metadata": {},
   "outputs": [],
   "source": [
    "test_client_id = os.getenv('DERIBIT_TEST_CLIENT_ID')"
   ]
  },
  {
   "cell_type": "code",
   "execution_count": 182,
   "metadata": {},
   "outputs": [],
   "source": [
    "test_client_secret = os.getenv('DERIBIT_TEST_CLIENT_SECRET')\n",
    "url = os.getenv('DERIBIT_TEST_API_V2_WEBSOCKET_URL')"
   ]
  },
  {
   "cell_type": "code",
   "execution_count": 183,
   "metadata": {},
   "outputs": [],
   "source": [
    "timestamp = round(datetime.now().timestamp() * 1000)"
   ]
  },
  {
   "cell_type": "code",
   "execution_count": 184,
   "metadata": {},
   "outputs": [],
   "source": [
    "nonce = \"abcd\""
   ]
  },
  {
   "cell_type": "code",
   "execution_count": 185,
   "metadata": {},
   "outputs": [],
   "source": [
    "data = \"\""
   ]
  },
  {
   "cell_type": "code",
   "execution_count": 186,
   "metadata": {},
   "outputs": [],
   "source": [
    "signature = hmac.new(\n",
    "    bytes(test_client_secret,\"latin-1\"),\n",
    "    msg=bytes('{}\\n{}\\n{}'.format(timestamp,nonce,data), \"latin-1\"),\n",
    "    digestmod=hashlib.sha256\n",
    ").hexdigest().lower()"
   ]
  },
  {
   "cell_type": "code",
   "execution_count": 187,
   "metadata": {},
   "outputs": [
    {
     "name": "stdout",
     "output_type": "stream",
     "text": [
      "{'jsonrpc': '2.0', 'id': 8748, 'method': 'public/auth', 'params': {'grant_type': 'client_signature', 'client_id': '02_9jPty', 'timestamp': 1628123654634, 'signature': '2ccab1be6a54baadc91721dd19dd0953eaf97d8819fddf50a4f98d6fed66a4c6', 'nonce': 'abcd', 'data': ''}}\n"
     ]
    }
   ],
   "source": [
    "msg = {\n",
    "    \"jsonrpc\": \"2.0\",\n",
    "    \"id\": 8748,\n",
    "    \"method\": \"public/auth\",\n",
    "    \"params\": {\n",
    "        \"grant_type\": \"client_signature\",\n",
    "        \"client_id\": test_client_id,\n",
    "        \"timestamp\": timestamp,\n",
    "        \"signature\": signature,\n",
    "        \"nonce\": nonce,\n",
    "        \"data\": data\n",
    "    }\n",
    "}\n",
    "print(msg)"
   ]
  },
  {
   "cell_type": "code",
   "execution_count": 188,
   "metadata": {},
   "outputs": [],
   "source": [
    "async def call_api(msg):\n",
    "    async with websockets.connect(url) as websocket:\n",
    "        await websocket.send(msg)\n",
    "        while websocket.open:\n",
    "            response = await websocket.recv()\n",
    "            print(response)"
   ]
  },
  {
   "cell_type": "code",
   "execution_count": 189,
   "metadata": {},
   "outputs": [
    {
     "data": {
      "text/plain": [
       "<_UnixSelectorEventLoop running=True closed=False debug=False>"
      ]
     },
     "execution_count": 189,
     "metadata": {},
     "output_type": "execute_result"
    }
   ],
   "source": [
    "loop = asyncio.get_event_loop()\n",
    "loop"
   ]
  },
  {
   "cell_type": "code",
   "execution_count": 190,
   "metadata": {},
   "outputs": [
    {
     "data": {
      "text/plain": [
       "'{\"jsonrpc\": \"2.0\", \"id\": 8748, \"method\": \"public/auth\", \"params\": {\"grant_type\": \"client_signature\", \"client_id\": \"02_9jPty\", \"timestamp\": 1628123654634, \"signature\": \"2ccab1be6a54baadc91721dd19dd0953eaf97d8819fddf50a4f98d6fed66a4c6\", \"nonce\": \"abcd\", \"data\": \"\"}}'"
      ]
     },
     "execution_count": 190,
     "metadata": {},
     "output_type": "execute_result"
    }
   ],
   "source": [
    "raw = json.dumps(msg)\n",
    "raw"
   ]
  },
  {
   "cell_type": "code",
   "execution_count": 191,
   "metadata": {},
   "outputs": [
    {
     "data": {
      "text/plain": [
       "<Task pending coro=<call_api() running at <ipython-input-188-768be9d2a894>:1>>"
      ]
     },
     "execution_count": 191,
     "metadata": {},
     "output_type": "execute_result"
    },
    {
     "name": "stdout",
     "output_type": "stream",
     "text": [
      "{\"jsonrpc\":\"2.0\",\"error\":{\"message\":\"bad_request\",\"data\":\"no method provided\",\"code\":11050},\"usIn\":1628123662046156,\"usOut\":1628123662046190,\"usDiff\":34,\"testnet\":true}\n"
     ]
    }
   ],
   "source": [
    "loop.create_task(call_api(json.dumps(raw)))"
   ]
  },
  {
   "cell_type": "code",
   "execution_count": 192,
   "metadata": {},
   "outputs": [
    {
     "data": {
      "text/plain": [
       "{'jsonrpc': '2.0',\n",
       " 'id': 9929,\n",
       " 'method': 'public/auth',\n",
       " 'params': {'grant_type': 'client_credentials',\n",
       "  'client_id': '02_9jPty',\n",
       "  'client_secret': 'EFw5INxyJ3uow-MQtBlZlT-TGxBCqgb7llkjZIhc1jA'}}"
      ]
     },
     "execution_count": 192,
     "metadata": {},
     "output_type": "execute_result"
    }
   ],
   "source": [
    "sign_in_msg = {\n",
    "  \"jsonrpc\" : \"2.0\",\n",
    "  \"id\" : 9929,\n",
    "  \"method\" : \"public/auth\",\n",
    "  \"params\" : {\n",
    "    \"grant_type\" : \"client_credentials\",\n",
    "    \"client_id\" : test_client_id,\n",
    "    \"client_secret\" : test_client_secret\n",
    "  }\n",
    "}\n",
    "sign_in_msg"
   ]
  },
  {
   "cell_type": "code",
   "execution_count": 197,
   "metadata": {},
   "outputs": [
    {
     "data": {
      "text/plain": [
       "<Task pending coro=<call_api() running at <ipython-input-188-768be9d2a894>:1>>"
      ]
     },
     "execution_count": 197,
     "metadata": {},
     "output_type": "execute_result"
    },
    {
     "name": "stdout",
     "output_type": "stream",
     "text": [
      "{\"jsonrpc\":\"2.0\",\"id\":9929,\"result\":{\"token_type\":\"bearer\",\"scope\":\"account:read_write connection custody:read_write mainaccount name:DrakerTestApi trade:read_write wallet:read_write\",\"refresh_token\":\"1659659732369.1JqQ42J0.27DoK1K3OcJFORVYJ_rKFnpLCKiCpHSh1yEzqVKPOHAiiewGkYOyml1wI0Du7KiiTYH93R-hzAbelgopiJHZ-T63R3jJJMZnApFAragHxPYAHYBVlqAaVmjMRmYaGhhfDKdiMoGjYUwwPGTsf1LfRNkonn_AgAdcaMtabpGnQNYqX-cpXsoZE870uk_ooOpzpjbPrsKMZwt_lZjG0QDhxlT4hT3u_a4STEsjz4lAWQnjuR0XByoolLRHBwb_SO3JR455nqKwuOqpWkPQ-FRwHi_wiE6HhBSOLNyVOA6gdU7OQTePNBcj-1I14Q6uowIyDej0f4g\",\"expires_in\":31535999,\"access_token\":\"1659659732369.1OQBfcDj.522eFg0GiMUHIK2sqoqH8Q4pyTeYByHoKa933eUGOG7ntfbKY-i2NALvNFXP0e25Xkc5p_0OwPGnF_yHue4YJ06MiCLzsqBu1AzXO4viyl7XdDO_9K0ZmiInf3KTY933mmRPPm5HCDB4FPbPA5TLZKfzhS2FMpzAIlX5nSkV8fruwrf0LQe9S_z4FunRkxadu8QMtcK7AvevxiApC3EZoWVjoEZg-0vBXggzmr3FOyM1E8O_UO9V0hZkdVCy-ol1hc7pDhdI6sev_w3NT3YWg_GYnVLoLmUXGX4pmV31I_yaYvmmq_OvJNmjU4K5rujNHruEa56f\"},\"usIn\":1628123732369786,\"usOut\":1628123732370277,\"usDiff\":491,\"testnet\":true}\n"
     ]
    }
   ],
   "source": [
    "loop.create_task(call_api(json.dumps(sign_in_msg)))"
   ]
  },
  {
   "cell_type": "code",
   "execution_count": 199,
   "metadata": {},
   "outputs": [
    {
     "data": {
      "text/plain": [
       "'1659659732369.1OQBfcDj.522eFg0GiMUHIK2sqoqH8Q4pyTeYByHoKa933eUGOG7ntfbKY-i2NALvNFXP0e25Xkc5p_0OwPGnF_yHue4YJ06MiCLzsqBu1AzXO4viyl7XdDO_9K0ZmiInf3KTY933mmRPPm5HCDB4FPbPA5TLZKfzhS2FMpzAIlX5nSkV8fruwrf0LQe9S_z4FunRkxadu8QMtcK7AvevxiApC3EZoWVjoEZg-0vBXggzmr3FOyM1E8O_UO9V0hZkdVCy-ol1hc7pDhdI6sev_w3NT3YWg_GYnVLoLmUXGX4pmV31I_yaYvmmq_OvJNmjU4K5rujNHruEa56f'"
      ]
     },
     "execution_count": 199,
     "metadata": {},
     "output_type": "execute_result"
    }
   ],
   "source": [
    "roo = {\"jsonrpc\":\"2.0\",\"id\":9929,\"result\":{\"token_type\":\"bearer\",\"scope\":\"account:read_write connection custody:read_write mainaccount name:DrakerTestApi trade:read_write wallet:read_write\",\"refresh_token\":\"1659659732369.1JqQ42J0.27DoK1K3OcJFORVYJ_rKFnpLCKiCpHSh1yEzqVKPOHAiiewGkYOyml1wI0Du7KiiTYH93R-hzAbelgopiJHZ-T63R3jJJMZnApFAragHxPYAHYBVlqAaVmjMRmYaGhhfDKdiMoGjYUwwPGTsf1LfRNkonn_AgAdcaMtabpGnQNYqX-cpXsoZE870uk_ooOpzpjbPrsKMZwt_lZjG0QDhxlT4hT3u_a4STEsjz4lAWQnjuR0XByoolLRHBwb_SO3JR455nqKwuOqpWkPQ-FRwHi_wiE6HhBSOLNyVOA6gdU7OQTePNBcj-1I14Q6uowIyDej0f4g\",\"expires_in\":31535999,\"access_token\":\"1659659732369.1OQBfcDj.522eFg0GiMUHIK2sqoqH8Q4pyTeYByHoKa933eUGOG7ntfbKY-i2NALvNFXP0e25Xkc5p_0OwPGnF_yHue4YJ06MiCLzsqBu1AzXO4viyl7XdDO_9K0ZmiInf3KTY933mmRPPm5HCDB4FPbPA5TLZKfzhS2FMpzAIlX5nSkV8fruwrf0LQe9S_z4FunRkxadu8QMtcK7AvevxiApC3EZoWVjoEZg-0vBXggzmr3FOyM1E8O_UO9V0hZkdVCy-ol1hc7pDhdI6sev_w3NT3YWg_GYnVLoLmUXGX4pmV31I_yaYvmmq_OvJNmjU4K5rujNHruEa56f\"},\"usIn\":1628123732369786,\"usOut\":1628123732370277,\"usDiff\":491,\"testnet\":True}\n",
    "\n",
    "rood = json.dumps(roo)\n",
    "rood\n",
    "rook = json.loads(rood)\n",
    "access_token = rook['result']['access_token']\n",
    "access_token"
   ]
  },
  {
   "cell_type": "code",
   "execution_count": 53,
   "metadata": {},
   "outputs": [],
   "source": [
    "get_index_msg = {\"jsonrpc\": \"2.0\",\n",
    "     \"method\": \"public/get_index\",\n",
    "     \"id\": 42,\n",
    "     \"params\": {\n",
    "        \"currency\": \"BTC\"}\n",
    "    }"
   ]
  },
  {
   "cell_type": "code",
   "execution_count": null,
   "metadata": {},
   "outputs": [],
   "source": []
  },
  {
   "cell_type": "code",
   "execution_count": 60,
   "metadata": {},
   "outputs": [
    {
     "data": {
      "text/plain": [
       "<Task pending coro=<call_api() running at <ipython-input-41-768be9d2a894>:1>>"
      ]
     },
     "execution_count": 60,
     "metadata": {},
     "output_type": "execute_result"
    },
    {
     "name": "stdout",
     "output_type": "stream",
     "text": [
      "{\"jsonrpc\":\"2.0\",\"id\":42,\"result\":{\"edp\":39779.38,\"BTC\":39779.38},\"usIn\":1628120470981611,\"usOut\":1628120470982143,\"usDiff\":532,\"testnet\":true}\n"
     ]
    }
   ],
   "source": [
    "loop.create_task(call_api(json.dumps(get_index_msg)))"
   ]
  },
  {
   "cell_type": "code",
   "execution_count": 56,
   "metadata": {},
   "outputs": [
    {
     "data": {
      "text/plain": [
       "{'jsonrpc': '2.0',\n",
       " 'method': 'public/get_index_price',\n",
       " 'id': 42,\n",
       " 'params': {'index_name': 'btc_usd'}}"
      ]
     },
     "execution_count": 56,
     "metadata": {},
     "output_type": "execute_result"
    }
   ],
   "source": [
    "get_index_price_msg = {\"jsonrpc\": \"2.0\",\n",
    "     \"method\": \"public/get_index_price\",\n",
    "     \"id\": 42,\n",
    "     \"params\": {\n",
    "        \"index_name\": \"btc_usd\"}\n",
    "    }\n",
    "get_index_price_msg"
   ]
  },
  {
   "cell_type": "code",
   "execution_count": 58,
   "metadata": {},
   "outputs": [
    {
     "data": {
      "text/plain": [
       "<_UnixSelectorEventLoop running=True closed=False debug=False>"
      ]
     },
     "execution_count": 58,
     "metadata": {},
     "output_type": "execute_result"
    }
   ],
   "source": [
    "asyncio.get_event_loop()\n"
   ]
  },
  {
   "cell_type": "code",
   "execution_count": 59,
   "metadata": {},
   "outputs": [
    {
     "data": {
      "text/plain": [
       "<Task pending coro=<call_api() running at <ipython-input-41-768be9d2a894>:1>>"
      ]
     },
     "execution_count": 59,
     "metadata": {},
     "output_type": "execute_result"
    },
    {
     "name": "stdout",
     "output_type": "stream",
     "text": [
      "{\"jsonrpc\":\"2.0\",\"id\":42,\"result\":{\"index_price\":39800.48,\"estimated_delivery_price\":39800.48},\"usIn\":1628120459043643,\"usOut\":1628120459043822,\"usDiff\":179,\"testnet\":true}\n"
     ]
    }
   ],
   "source": [
    "loop.create_task(call_api(json.dumps(get_index_price_msg)))"
   ]
  },
  {
   "cell_type": "code",
   "execution_count": 66,
   "metadata": {},
   "outputs": [],
   "source": [
    "get_instrument_msg = {\n",
    "  \"method\" : \"public/get_instrument\",\n",
    "  \"params\" : {\n",
    "    \"instrument_name\" : \"BTC-13AUG21\"\n",
    "  },\n",
    "  \"jsonrpc\" : \"2.0\",\n",
    "  \"id\" : 0\n",
    "}"
   ]
  },
  {
   "cell_type": "code",
   "execution_count": 67,
   "metadata": {},
   "outputs": [
    {
     "data": {
      "text/plain": [
       "<Task pending coro=<call_api() running at <ipython-input-41-768be9d2a894>:1>>"
      ]
     },
     "execution_count": 67,
     "metadata": {},
     "output_type": "execute_result"
    },
    {
     "name": "stdout",
     "output_type": "stream",
     "text": [
      "{\"jsonrpc\":\"2.0\",\"id\":0,\"result\":{\"tick_size\":0.5,\"taker_commission\":0.0005,\"settlement_period\":\"week\",\"quote_currency\":\"USD\",\"min_trade_amount\":10.0,\"max_liquidation_commission\":0.005,\"max_leverage\":100,\"maker_commission\":-0.0001,\"kind\":\"future\",\"is_active\":true,\"instrument_name\":\"BTC-13AUG21\",\"expiration_timestamp\":1628841600000,\"creation_timestamp\":1627027203000,\"contract_size\":10.0,\"block_trade_commission\":0.0001,\"base_currency\":\"BTC\"},\"usIn\":1628120631559912,\"usOut\":1628120631560152,\"usDiff\":240,\"testnet\":true}\n"
     ]
    }
   ],
   "source": [
    "loop.create_task(call_api(json.dumps(get_instrument_msg)))"
   ]
  },
  {
   "cell_type": "code",
   "execution_count": 103,
   "metadata": {},
   "outputs": [],
   "source": [
    "get_order_book_msg = \\\n",
    "{\n",
    "  \"jsonrpc\" : \"2.0\",\n",
    "  \"id\" : 8772,\n",
    "  \"method\" : \"public/get_order_book\",\n",
    "  \"params\" : {\n",
    "    \"instrument_name\" : \"BTC-13AUG21\",\n",
    "    \"depth\" : 10\n",
    "  }\n",
    "}"
   ]
  },
  {
   "cell_type": "code",
   "execution_count": 104,
   "metadata": {},
   "outputs": [
    {
     "data": {
      "text/plain": [
       "<Task pending coro=<call_api() running at <ipython-input-41-768be9d2a894>:1>>"
      ]
     },
     "execution_count": 104,
     "metadata": {},
     "output_type": "execute_result"
    },
    {
     "name": "stdout",
     "output_type": "stream",
     "text": [
      "{\"jsonrpc\":\"2.0\",\"id\":0,\"result\":{\"tick_size\":0.5,\"taker_commission\":0.0005,\"settlement_period\":\"week\",\"quote_currency\":\"USD\",\"min_trade_amount\":10.0,\"max_liquidation_commission\":0.005,\"max_leverage\":100,\"maker_commission\":-0.0001,\"kind\":\"future\",\"is_active\":true,\"instrument_name\":\"BTC-13AUG21\",\"expiration_timestamp\":1628841600000,\"creation_timestamp\":1627027203000,\"contract_size\":10.0,\"block_trade_commission\":0.0001,\"base_currency\":\"BTC\"},\"usIn\":1628121245187401,\"usOut\":1628121245187651,\"usDiff\":250,\"testnet\":true}\n"
     ]
    }
   ],
   "source": [
    "loop.create_task(call_api(json.dumps(get_instrument_msg)))"
   ]
  },
  {
   "cell_type": "raw",
   "metadata": {},
   "source": []
  },
  {
   "cell_type": "code",
   "execution_count": 79,
   "metadata": {},
   "outputs": [],
   "source": [
    "import pandas as pd"
   ]
  },
  {
   "cell_type": "code",
   "execution_count": 105,
   "metadata": {},
   "outputs": [
    {
     "data": {
      "text/html": [
       "<div>\n",
       "<style scoped>\n",
       "    .dataframe tbody tr th:only-of-type {\n",
       "        vertical-align: middle;\n",
       "    }\n",
       "\n",
       "    .dataframe tbody tr th {\n",
       "        vertical-align: top;\n",
       "    }\n",
       "\n",
       "    .dataframe thead th {\n",
       "        text-align: right;\n",
       "    }\n",
       "</style>\n",
       "<table border=\"1\" class=\"dataframe\">\n",
       "  <thead>\n",
       "    <tr style=\"text-align: right;\">\n",
       "      <th></th>\n",
       "      <th>jsonrpc</th>\n",
       "      <th>id</th>\n",
       "      <th>result</th>\n",
       "      <th>usIn</th>\n",
       "      <th>usOut</th>\n",
       "      <th>usDiff</th>\n",
       "      <th>testnet</th>\n",
       "    </tr>\n",
       "  </thead>\n",
       "  <tbody>\n",
       "    <tr>\n",
       "      <th>base_currency</th>\n",
       "      <td>2</td>\n",
       "      <td>0</td>\n",
       "      <td>BTC</td>\n",
       "      <td>1628121245187401</td>\n",
       "      <td>1628121245187651</td>\n",
       "      <td>250</td>\n",
       "      <td>True</td>\n",
       "    </tr>\n",
       "    <tr>\n",
       "      <th>block_trade_commission</th>\n",
       "      <td>2</td>\n",
       "      <td>0</td>\n",
       "      <td>0.0001</td>\n",
       "      <td>1628121245187401</td>\n",
       "      <td>1628121245187651</td>\n",
       "      <td>250</td>\n",
       "      <td>True</td>\n",
       "    </tr>\n",
       "    <tr>\n",
       "      <th>contract_size</th>\n",
       "      <td>2</td>\n",
       "      <td>0</td>\n",
       "      <td>10</td>\n",
       "      <td>1628121245187401</td>\n",
       "      <td>1628121245187651</td>\n",
       "      <td>250</td>\n",
       "      <td>True</td>\n",
       "    </tr>\n",
       "    <tr>\n",
       "      <th>creation_timestamp</th>\n",
       "      <td>2</td>\n",
       "      <td>0</td>\n",
       "      <td>1627027203000</td>\n",
       "      <td>1628121245187401</td>\n",
       "      <td>1628121245187651</td>\n",
       "      <td>250</td>\n",
       "      <td>True</td>\n",
       "    </tr>\n",
       "    <tr>\n",
       "      <th>expiration_timestamp</th>\n",
       "      <td>2</td>\n",
       "      <td>0</td>\n",
       "      <td>1628841600000</td>\n",
       "      <td>1628121245187401</td>\n",
       "      <td>1628121245187651</td>\n",
       "      <td>250</td>\n",
       "      <td>True</td>\n",
       "    </tr>\n",
       "    <tr>\n",
       "      <th>instrument_name</th>\n",
       "      <td>2</td>\n",
       "      <td>0</td>\n",
       "      <td>BTC-13AUG21</td>\n",
       "      <td>1628121245187401</td>\n",
       "      <td>1628121245187651</td>\n",
       "      <td>250</td>\n",
       "      <td>True</td>\n",
       "    </tr>\n",
       "    <tr>\n",
       "      <th>is_active</th>\n",
       "      <td>2</td>\n",
       "      <td>0</td>\n",
       "      <td>True</td>\n",
       "      <td>1628121245187401</td>\n",
       "      <td>1628121245187651</td>\n",
       "      <td>250</td>\n",
       "      <td>True</td>\n",
       "    </tr>\n",
       "    <tr>\n",
       "      <th>kind</th>\n",
       "      <td>2</td>\n",
       "      <td>0</td>\n",
       "      <td>future</td>\n",
       "      <td>1628121245187401</td>\n",
       "      <td>1628121245187651</td>\n",
       "      <td>250</td>\n",
       "      <td>True</td>\n",
       "    </tr>\n",
       "    <tr>\n",
       "      <th>maker_commission</th>\n",
       "      <td>2</td>\n",
       "      <td>0</td>\n",
       "      <td>-0.0001</td>\n",
       "      <td>1628121245187401</td>\n",
       "      <td>1628121245187651</td>\n",
       "      <td>250</td>\n",
       "      <td>True</td>\n",
       "    </tr>\n",
       "    <tr>\n",
       "      <th>max_leverage</th>\n",
       "      <td>2</td>\n",
       "      <td>0</td>\n",
       "      <td>100</td>\n",
       "      <td>1628121245187401</td>\n",
       "      <td>1628121245187651</td>\n",
       "      <td>250</td>\n",
       "      <td>True</td>\n",
       "    </tr>\n",
       "    <tr>\n",
       "      <th>max_liquidation_commission</th>\n",
       "      <td>2</td>\n",
       "      <td>0</td>\n",
       "      <td>0.005</td>\n",
       "      <td>1628121245187401</td>\n",
       "      <td>1628121245187651</td>\n",
       "      <td>250</td>\n",
       "      <td>True</td>\n",
       "    </tr>\n",
       "    <tr>\n",
       "      <th>min_trade_amount</th>\n",
       "      <td>2</td>\n",
       "      <td>0</td>\n",
       "      <td>10</td>\n",
       "      <td>1628121245187401</td>\n",
       "      <td>1628121245187651</td>\n",
       "      <td>250</td>\n",
       "      <td>True</td>\n",
       "    </tr>\n",
       "    <tr>\n",
       "      <th>quote_currency</th>\n",
       "      <td>2</td>\n",
       "      <td>0</td>\n",
       "      <td>USD</td>\n",
       "      <td>1628121245187401</td>\n",
       "      <td>1628121245187651</td>\n",
       "      <td>250</td>\n",
       "      <td>True</td>\n",
       "    </tr>\n",
       "    <tr>\n",
       "      <th>settlement_period</th>\n",
       "      <td>2</td>\n",
       "      <td>0</td>\n",
       "      <td>week</td>\n",
       "      <td>1628121245187401</td>\n",
       "      <td>1628121245187651</td>\n",
       "      <td>250</td>\n",
       "      <td>True</td>\n",
       "    </tr>\n",
       "    <tr>\n",
       "      <th>taker_commission</th>\n",
       "      <td>2</td>\n",
       "      <td>0</td>\n",
       "      <td>0.0005</td>\n",
       "      <td>1628121245187401</td>\n",
       "      <td>1628121245187651</td>\n",
       "      <td>250</td>\n",
       "      <td>True</td>\n",
       "    </tr>\n",
       "    <tr>\n",
       "      <th>tick_size</th>\n",
       "      <td>2</td>\n",
       "      <td>0</td>\n",
       "      <td>0.5</td>\n",
       "      <td>1628121245187401</td>\n",
       "      <td>1628121245187651</td>\n",
       "      <td>250</td>\n",
       "      <td>True</td>\n",
       "    </tr>\n",
       "  </tbody>\n",
       "</table>\n",
       "</div>"
      ],
      "text/plain": [
       "                            jsonrpc  id         result              usIn  \\\n",
       "base_currency                     2   0            BTC  1628121245187401   \n",
       "block_trade_commission            2   0         0.0001  1628121245187401   \n",
       "contract_size                     2   0             10  1628121245187401   \n",
       "creation_timestamp                2   0  1627027203000  1628121245187401   \n",
       "expiration_timestamp              2   0  1628841600000  1628121245187401   \n",
       "instrument_name                   2   0    BTC-13AUG21  1628121245187401   \n",
       "is_active                         2   0           True  1628121245187401   \n",
       "kind                              2   0         future  1628121245187401   \n",
       "maker_commission                  2   0        -0.0001  1628121245187401   \n",
       "max_leverage                      2   0            100  1628121245187401   \n",
       "max_liquidation_commission        2   0          0.005  1628121245187401   \n",
       "min_trade_amount                  2   0             10  1628121245187401   \n",
       "quote_currency                    2   0            USD  1628121245187401   \n",
       "settlement_period                 2   0           week  1628121245187401   \n",
       "taker_commission                  2   0         0.0005  1628121245187401   \n",
       "tick_size                         2   0            0.5  1628121245187401   \n",
       "\n",
       "                                       usOut  usDiff  testnet  \n",
       "base_currency               1628121245187651     250     True  \n",
       "block_trade_commission      1628121245187651     250     True  \n",
       "contract_size               1628121245187651     250     True  \n",
       "creation_timestamp          1628121245187651     250     True  \n",
       "expiration_timestamp        1628121245187651     250     True  \n",
       "instrument_name             1628121245187651     250     True  \n",
       "is_active                   1628121245187651     250     True  \n",
       "kind                        1628121245187651     250     True  \n",
       "maker_commission            1628121245187651     250     True  \n",
       "max_leverage                1628121245187651     250     True  \n",
       "max_liquidation_commission  1628121245187651     250     True  \n",
       "min_trade_amount            1628121245187651     250     True  \n",
       "quote_currency              1628121245187651     250     True  \n",
       "settlement_period           1628121245187651     250     True  \n",
       "taker_commission            1628121245187651     250     True  \n",
       "tick_size                   1628121245187651     250     True  "
      ]
     },
     "execution_count": 105,
     "metadata": {},
     "output_type": "execute_result"
    }
   ],
   "source": [
    "r= json.dumps({\"jsonrpc\":\"2.0\",\"id\":0,\"result\":{\"tick_size\":0.5,\"taker_commission\":0.0005,\"settlement_period\":\"week\",\"quote_currency\":\"USD\",\"min_trade_amount\":10.0,\"max_liquidation_commission\":0.005,\"max_leverage\":100,\"maker_commission\":-0.0001,\"kind\":\"future\",\"is_active\":True,\"instrument_name\":\"BTC-13AUG21\",\"expiration_timestamp\":1628841600000,\"creation_timestamp\":1627027203000,\"contract_size\":10.0,\"block_trade_commission\":0.0001,\"base_currency\":\"BTC\"},\"usIn\":1628121245187401,\"usOut\":1628121245187651,\"usDiff\":250,\"testnet\":True})\n",
    "df1 = pd.read_json(r)\n",
    "df1"
   ]
  },
  {
   "cell_type": "code",
   "execution_count": 92,
   "metadata": {},
   "outputs": [
    {
     "data": {
      "text/plain": [
       "<Task pending coro=<call_api() running at <ipython-input-41-768be9d2a894>:1>>"
      ]
     },
     "execution_count": 92,
     "metadata": {},
     "output_type": "execute_result"
    },
    {
     "name": "stdout",
     "output_type": "stream",
     "text": [
      "{\"jsonrpc\":\"2.0\",\"id\":8772,\"result\":{\"timestamp\":1628121099514,\"stats\":{\"volume_usd\":16593080.0,\"volume\":429.34536056,\"price_change\":4.35,\"low\":37623.5,\"high\":39929.0},\"state\":\"open\",\"settlement_price\":37880.99,\"open_interest\":8935160,\"min_price\":39259.0,\"max_price\":40455.0,\"mark_price\":39855.77,\"last_price\":39929.0,\"instrument_name\":\"BTC-13AUG21\",\"index_price\":39769.87,\"estimated_delivery_price\":39769.87,\"change_id\":6251580893,\"bids\":[[39830.0,1310.0],[39829.5,35000.0],[39827.5,2500.0],[39827.0,970.0],[39817.0,4450.0]],\"best_bid_price\":39830.0,\"best_bid_amount\":1310.0,\"best_ask_price\":39854.5,\"best_ask_amount\":2000.0,\"asks\":[[39854.5,2000.0],[39855.0,1920.0],[39858.5,2500.0],[39864.5,1200.0],[39866.5,930.0]]},\"usIn\":1628121099750015,\"usOut\":1628121099750330,\"usDiff\":315,\"testnet\":true}\n"
     ]
    }
   ],
   "source": [
    "get_perp_order_book_msg = \\\n",
    "{\n",
    "  \"jsonrpc\" : \"2.0\",\n",
    "  \"id\" : 8772,\n",
    "  \"method\" : \"public/get_order_book\",\n",
    "  \"params\" : {\n",
    "    \"instrument_name\" : \"BTC-13AUG21\",\n",
    "    \"depth\" : 5\n",
    "  }\n",
    "}\n",
    "loop.create_task(call_api(json.dumps(get_perp_order_book_msg)))"
   ]
  },
  {
   "cell_type": "code",
   "execution_count": 98,
   "metadata": {},
   "outputs": [],
   "source": [
    "r = json.dumps({\"jsonrpc\":\"2.0\",\"id\":8772,\"result\":{\"timestamp\":1628121009538,\"stats\":{\"volume_usd\":16593080.0,\"volume\":429.34536056,\"price_change\":4.35,\"low\":37623.5,\"high\":39929.0},\"state\":\"open\",\"settlement_price\":37880.99,\"open_interest\":8935160,\"min_price\":39236.5,\"max_price\":40432.5,\"mark_price\":39839.96,\"last_price\":39929.0,\"instrument_name\":\"BTC-13AUG21\",\"index_price\":39750.34,\"estimated_delivery_price\":39750.34,\"change_id\":6251577268,\"bids\":[[39805.0,1200.0],[39799.0,2500.0],[39794.5,1840.0],[39790.0,60.0],[39788.5,5000.0]],\"best_bid_price\":39805.0,\"best_bid_amount\":1200.0,\"best_ask_price\":39829.5,\"best_ask_amount\":1200.0,\"asks\":[[39829.5,1200.0],[39830.0,2000.0],[39831.0,1820.0],[39832.0,2500.0],[39837.0,100000.0]]},\"usIn\":1628121009631782,\"usOut\":1628121009632063,\"usDiff\":281,\"testnet\":True})\n"
   ]
  },
  {
   "cell_type": "code",
   "execution_count": 99,
   "metadata": {},
   "outputs": [
    {
     "data": {
      "text/html": [
       "<div>\n",
       "<style scoped>\n",
       "    .dataframe tbody tr th:only-of-type {\n",
       "        vertical-align: middle;\n",
       "    }\n",
       "\n",
       "    .dataframe tbody tr th {\n",
       "        vertical-align: top;\n",
       "    }\n",
       "\n",
       "    .dataframe thead th {\n",
       "        text-align: right;\n",
       "    }\n",
       "</style>\n",
       "<table border=\"1\" class=\"dataframe\">\n",
       "  <thead>\n",
       "    <tr style=\"text-align: right;\">\n",
       "      <th></th>\n",
       "      <th>jsonrpc</th>\n",
       "      <th>id</th>\n",
       "      <th>result</th>\n",
       "      <th>usIn</th>\n",
       "      <th>usOut</th>\n",
       "      <th>usDiff</th>\n",
       "      <th>testnet</th>\n",
       "    </tr>\n",
       "  </thead>\n",
       "  <tbody>\n",
       "    <tr>\n",
       "      <th>asks</th>\n",
       "      <td>2</td>\n",
       "      <td>8772</td>\n",
       "      <td>[[39829.5, 1200.0], [39830.0, 2000.0], [39831....</td>\n",
       "      <td>1628121009631782</td>\n",
       "      <td>1628121009632063</td>\n",
       "      <td>281</td>\n",
       "      <td>True</td>\n",
       "    </tr>\n",
       "    <tr>\n",
       "      <th>best_ask_amount</th>\n",
       "      <td>2</td>\n",
       "      <td>8772</td>\n",
       "      <td>1200</td>\n",
       "      <td>1628121009631782</td>\n",
       "      <td>1628121009632063</td>\n",
       "      <td>281</td>\n",
       "      <td>True</td>\n",
       "    </tr>\n",
       "    <tr>\n",
       "      <th>best_ask_price</th>\n",
       "      <td>2</td>\n",
       "      <td>8772</td>\n",
       "      <td>39829.5</td>\n",
       "      <td>1628121009631782</td>\n",
       "      <td>1628121009632063</td>\n",
       "      <td>281</td>\n",
       "      <td>True</td>\n",
       "    </tr>\n",
       "    <tr>\n",
       "      <th>best_bid_amount</th>\n",
       "      <td>2</td>\n",
       "      <td>8772</td>\n",
       "      <td>1200</td>\n",
       "      <td>1628121009631782</td>\n",
       "      <td>1628121009632063</td>\n",
       "      <td>281</td>\n",
       "      <td>True</td>\n",
       "    </tr>\n",
       "    <tr>\n",
       "      <th>best_bid_price</th>\n",
       "      <td>2</td>\n",
       "      <td>8772</td>\n",
       "      <td>39805</td>\n",
       "      <td>1628121009631782</td>\n",
       "      <td>1628121009632063</td>\n",
       "      <td>281</td>\n",
       "      <td>True</td>\n",
       "    </tr>\n",
       "    <tr>\n",
       "      <th>bids</th>\n",
       "      <td>2</td>\n",
       "      <td>8772</td>\n",
       "      <td>[[39805.0, 1200.0], [39799.0, 2500.0], [39794....</td>\n",
       "      <td>1628121009631782</td>\n",
       "      <td>1628121009632063</td>\n",
       "      <td>281</td>\n",
       "      <td>True</td>\n",
       "    </tr>\n",
       "    <tr>\n",
       "      <th>change_id</th>\n",
       "      <td>2</td>\n",
       "      <td>8772</td>\n",
       "      <td>6251577268</td>\n",
       "      <td>1628121009631782</td>\n",
       "      <td>1628121009632063</td>\n",
       "      <td>281</td>\n",
       "      <td>True</td>\n",
       "    </tr>\n",
       "    <tr>\n",
       "      <th>estimated_delivery_price</th>\n",
       "      <td>2</td>\n",
       "      <td>8772</td>\n",
       "      <td>39750.3</td>\n",
       "      <td>1628121009631782</td>\n",
       "      <td>1628121009632063</td>\n",
       "      <td>281</td>\n",
       "      <td>True</td>\n",
       "    </tr>\n",
       "    <tr>\n",
       "      <th>index_price</th>\n",
       "      <td>2</td>\n",
       "      <td>8772</td>\n",
       "      <td>39750.3</td>\n",
       "      <td>1628121009631782</td>\n",
       "      <td>1628121009632063</td>\n",
       "      <td>281</td>\n",
       "      <td>True</td>\n",
       "    </tr>\n",
       "    <tr>\n",
       "      <th>instrument_name</th>\n",
       "      <td>2</td>\n",
       "      <td>8772</td>\n",
       "      <td>BTC-13AUG21</td>\n",
       "      <td>1628121009631782</td>\n",
       "      <td>1628121009632063</td>\n",
       "      <td>281</td>\n",
       "      <td>True</td>\n",
       "    </tr>\n",
       "    <tr>\n",
       "      <th>last_price</th>\n",
       "      <td>2</td>\n",
       "      <td>8772</td>\n",
       "      <td>39929</td>\n",
       "      <td>1628121009631782</td>\n",
       "      <td>1628121009632063</td>\n",
       "      <td>281</td>\n",
       "      <td>True</td>\n",
       "    </tr>\n",
       "    <tr>\n",
       "      <th>mark_price</th>\n",
       "      <td>2</td>\n",
       "      <td>8772</td>\n",
       "      <td>39840</td>\n",
       "      <td>1628121009631782</td>\n",
       "      <td>1628121009632063</td>\n",
       "      <td>281</td>\n",
       "      <td>True</td>\n",
       "    </tr>\n",
       "    <tr>\n",
       "      <th>max_price</th>\n",
       "      <td>2</td>\n",
       "      <td>8772</td>\n",
       "      <td>40432.5</td>\n",
       "      <td>1628121009631782</td>\n",
       "      <td>1628121009632063</td>\n",
       "      <td>281</td>\n",
       "      <td>True</td>\n",
       "    </tr>\n",
       "    <tr>\n",
       "      <th>min_price</th>\n",
       "      <td>2</td>\n",
       "      <td>8772</td>\n",
       "      <td>39236.5</td>\n",
       "      <td>1628121009631782</td>\n",
       "      <td>1628121009632063</td>\n",
       "      <td>281</td>\n",
       "      <td>True</td>\n",
       "    </tr>\n",
       "    <tr>\n",
       "      <th>open_interest</th>\n",
       "      <td>2</td>\n",
       "      <td>8772</td>\n",
       "      <td>8935160</td>\n",
       "      <td>1628121009631782</td>\n",
       "      <td>1628121009632063</td>\n",
       "      <td>281</td>\n",
       "      <td>True</td>\n",
       "    </tr>\n",
       "    <tr>\n",
       "      <th>settlement_price</th>\n",
       "      <td>2</td>\n",
       "      <td>8772</td>\n",
       "      <td>37881</td>\n",
       "      <td>1628121009631782</td>\n",
       "      <td>1628121009632063</td>\n",
       "      <td>281</td>\n",
       "      <td>True</td>\n",
       "    </tr>\n",
       "    <tr>\n",
       "      <th>state</th>\n",
       "      <td>2</td>\n",
       "      <td>8772</td>\n",
       "      <td>open</td>\n",
       "      <td>1628121009631782</td>\n",
       "      <td>1628121009632063</td>\n",
       "      <td>281</td>\n",
       "      <td>True</td>\n",
       "    </tr>\n",
       "    <tr>\n",
       "      <th>stats</th>\n",
       "      <td>2</td>\n",
       "      <td>8772</td>\n",
       "      <td>{'volume_usd': 16593080.0, 'volume': 429.34536...</td>\n",
       "      <td>1628121009631782</td>\n",
       "      <td>1628121009632063</td>\n",
       "      <td>281</td>\n",
       "      <td>True</td>\n",
       "    </tr>\n",
       "    <tr>\n",
       "      <th>timestamp</th>\n",
       "      <td>2</td>\n",
       "      <td>8772</td>\n",
       "      <td>1628121009538</td>\n",
       "      <td>1628121009631782</td>\n",
       "      <td>1628121009632063</td>\n",
       "      <td>281</td>\n",
       "      <td>True</td>\n",
       "    </tr>\n",
       "  </tbody>\n",
       "</table>\n",
       "</div>"
      ],
      "text/plain": [
       "                          jsonrpc    id  \\\n",
       "asks                            2  8772   \n",
       "best_ask_amount                 2  8772   \n",
       "best_ask_price                  2  8772   \n",
       "best_bid_amount                 2  8772   \n",
       "best_bid_price                  2  8772   \n",
       "bids                            2  8772   \n",
       "change_id                       2  8772   \n",
       "estimated_delivery_price        2  8772   \n",
       "index_price                     2  8772   \n",
       "instrument_name                 2  8772   \n",
       "last_price                      2  8772   \n",
       "mark_price                      2  8772   \n",
       "max_price                       2  8772   \n",
       "min_price                       2  8772   \n",
       "open_interest                   2  8772   \n",
       "settlement_price                2  8772   \n",
       "state                           2  8772   \n",
       "stats                           2  8772   \n",
       "timestamp                       2  8772   \n",
       "\n",
       "                                                                     result  \\\n",
       "asks                      [[39829.5, 1200.0], [39830.0, 2000.0], [39831....   \n",
       "best_ask_amount                                                        1200   \n",
       "best_ask_price                                                      39829.5   \n",
       "best_bid_amount                                                        1200   \n",
       "best_bid_price                                                        39805   \n",
       "bids                      [[39805.0, 1200.0], [39799.0, 2500.0], [39794....   \n",
       "change_id                                                        6251577268   \n",
       "estimated_delivery_price                                            39750.3   \n",
       "index_price                                                         39750.3   \n",
       "instrument_name                                                 BTC-13AUG21   \n",
       "last_price                                                            39929   \n",
       "mark_price                                                            39840   \n",
       "max_price                                                           40432.5   \n",
       "min_price                                                           39236.5   \n",
       "open_interest                                                       8935160   \n",
       "settlement_price                                                      37881   \n",
       "state                                                                  open   \n",
       "stats                     {'volume_usd': 16593080.0, 'volume': 429.34536...   \n",
       "timestamp                                                     1628121009538   \n",
       "\n",
       "                                      usIn             usOut  usDiff  testnet  \n",
       "asks                      1628121009631782  1628121009632063     281     True  \n",
       "best_ask_amount           1628121009631782  1628121009632063     281     True  \n",
       "best_ask_price            1628121009631782  1628121009632063     281     True  \n",
       "best_bid_amount           1628121009631782  1628121009632063     281     True  \n",
       "best_bid_price            1628121009631782  1628121009632063     281     True  \n",
       "bids                      1628121009631782  1628121009632063     281     True  \n",
       "change_id                 1628121009631782  1628121009632063     281     True  \n",
       "estimated_delivery_price  1628121009631782  1628121009632063     281     True  \n",
       "index_price               1628121009631782  1628121009632063     281     True  \n",
       "instrument_name           1628121009631782  1628121009632063     281     True  \n",
       "last_price                1628121009631782  1628121009632063     281     True  \n",
       "mark_price                1628121009631782  1628121009632063     281     True  \n",
       "max_price                 1628121009631782  1628121009632063     281     True  \n",
       "min_price                 1628121009631782  1628121009632063     281     True  \n",
       "open_interest             1628121009631782  1628121009632063     281     True  \n",
       "settlement_price          1628121009631782  1628121009632063     281     True  \n",
       "state                     1628121009631782  1628121009632063     281     True  \n",
       "stats                     1628121009631782  1628121009632063     281     True  \n",
       "timestamp                 1628121009631782  1628121009632063     281     True  "
      ]
     },
     "execution_count": 99,
     "metadata": {},
     "output_type": "execute_result"
    }
   ],
   "source": [
    "df = pd.read_json(r)\n",
    "df"
   ]
  },
  {
   "cell_type": "code",
   "execution_count": 108,
   "metadata": {},
   "outputs": [],
   "source": [
    "get_volatility_msg = \\\n",
    "{\n",
    "  \"jsonrpc\" : \"2.0\",\n",
    "  \"id\" : 8387,\n",
    "  \"method\" : \"public/get_historical_volatility\",\n",
    "  \"params\" : {\n",
    "    \"currency\" : \"BTC\"\n",
    "  }\n",
    "}"
   ]
  },
  {
   "cell_type": "code",
   "execution_count": 109,
   "metadata": {},
   "outputs": [
    {
     "data": {
      "text/plain": [
       "<Task pending coro=<call_api() running at <ipython-input-41-768be9d2a894>:1>>"
      ]
     },
     "execution_count": 109,
     "metadata": {},
     "output_type": "execute_result"
    },
    {
     "name": "stdout",
     "output_type": "stream",
     "text": [
      "{\"jsonrpc\":\"2.0\",\"id\":8387,\"result\":[[1626746400000,56.10354282365002],[1626746400000,56.10354282365002],[1626750000000,56.03801530112875],[1626753600000,56.46705793138607],[1626757200000,57.26482087221048],[1626760800000,57.23147448176428],[1626764400000,57.20942547985415],[1626768000000,57.208622029749506],[1626771600000,57.231511795080245],[1626775200000,57.32300992005365],[1626778800000,57.42086264287769],[1626782400000,57.53477685117171],[1626786000000,55.2685637623973],[1626789600000,55.25498871177368],[1626793200000,55.28626384260809],[1626796800000,55.388711542201904],[1626800400000,55.43771721600575],[1626804000000,55.57502392027133],[1626807600000,55.56840207020216],[1626811200000,55.463162994828636],[1626814800000,55.42405658419588],[1626818400000,55.28771786101264],[1626822000000,55.17203599215535],[1626825600000,55.14619479373436],[1626829200000,55.13986454501533],[1626832800000,54.985576842432195],[1626836400000,54.91721887447378],[1626840000000,54.891952012366865],[1626843600000,54.89330528807394],[1626847200000,55.567256533632566],[1626850800000,55.540220701096914],[1626854400000,55.60287145068775],[1626858000000,55.54233409114014],[1626861600000,55.51839755749072],[1626865200000,54.919379095585434],[1626868800000,54.77089777265868],[1626872400000,54.799107184823505],[1626876000000,54.62264521707523],[1626879600000,54.498865010954205],[1626883200000,54.75229616770779],[1626886800000,54.75747413491959],[1626890400000,54.820553975868044],[1626894000000,54.8159012382228],[1626897600000,55.138432457361866],[1626901200000,55.12854006366664],[1626904800000,55.19769717127489],[1626908400000,55.12984288341234],[1626912000000,55.15126267723876],[1626915600000,55.08451997388755],[1626919200000,55.086969026506424],[1626922800000,55.087192417568914],[1626926400000,55.11300200630061],[1626930000000,55.07300345826252],[1626933600000,54.97373569001421],[1626937200000,55.00373499648069],[1626940800000,55.02303552268653],[1626944400000,55.04737248763538],[1626948000000,55.03579635498679],[1626951600000,55.126565975640794],[1626955200000,55.13241129706313],[1626958800000,55.0731618149645],[1626962400000,55.23728753193107],[1626966000000,55.26511004176782],[1626969600000,55.280325986827],[1626973200000,55.38248177113686],[1626976800000,55.42929380753883],[1626980400000,55.42709572773165],[1626984000000,55.46081690529169],[1626987600000,55.4794382529081],[1626991200000,55.5038584854306],[1626994800000,55.359850100421546],[1626998400000,55.35068572088209],[1627002000000,55.20733959130375],[1627005600000,54.406159321087316],[1627009200000,54.71069613666511],[1627012800000,54.721109123607164],[1627016400000,54.71584646087131],[1627020000000,54.73318277416356],[1627023600000,54.3605304309402],[1627027200000,54.27049953995309],[1627030800000,53.55486922947883],[1627034400000,53.59875381169142],[1627038000000,53.59941538909054],[1627041600000,53.584991030810926],[1627045200000,53.4873778201126],[1627048800000,53.4931473373908],[1627052400000,53.490117142760774],[1627056000000,53.320081742874734],[1627059600000,53.341782206574486],[1627063200000,53.38388335480456],[1627066800000,53.38118062100915],[1627070400000,53.387184295386994],[1627074000000,53.37461128421141],[1627077600000,53.40861071483828],[1627081200000,53.40476790448077],[1627084800000,54.00687817378273],[1627088400000,54.26391808541357],[1627092000000,53.77359763610191],[1627095600000,53.59723761019013],[1627099200000,53.427809555653845],[1627102800000,53.42659203834239],[1627106400000,53.41166538226073],[1627110000000,53.415516668777926],[1627113600000,53.41644530793128],[1627117200000,53.423644036872844],[1627120800000,53.489771987261534],[1627124400000,53.56379797175672],[1627128000000,53.56755839149544],[1627131600000,53.536425375270156],[1627135200000,53.44146370204413],[1627138800000,53.04078488245525],[1627142400000,53.028547313026756],[1627146000000,53.02813487623759],[1627149600000,53.656256745788035],[1627153200000,53.68374295149618],[1627156800000,53.66326442636814],[1627160400000,54.01121496104144],[1627164000000,54.00828876830825],[1627167600000,53.840527276971464],[1627171200000,53.8207734455417],[1627174800000,53.87121429635611],[1627178400000,53.88596089066127],[1627182000000,53.757435056390065],[1627185600000,53.888553102780605],[1627189200000,53.87902486468859],[1627192800000,53.91282788287636],[1627196400000,53.91681156443745],[1627200000000,53.911468033549056],[1627203600000,54.00208454464915],[1627207200000,54.03180694670116],[1627210800000,54.035281953065116],[1627214400000,54.063280534170204],[1627218000000,54.00610797499068],[1627221600000,54.019864992388214],[1627225200000,53.991979389721735],[1627228800000,53.97208693259479],[1627232400000,53.97857476248141],[1627236000000,53.93485704131171],[1627239600000,53.31480806406927],[1627243200000,53.31252600881407],[1627246800000,53.311622588996954],[1627250400000,53.31494105048512],[1627254000000,53.313106112756415],[1627257600000,53.231092189418156],[1627261200000,54.24379807686093],[1627264800000,57.18288150090975],[1627268400000,60.78116011379902],[1627272000000,60.85896543016548],[1627275600000,60.92883831845856],[1627279200000,60.92842483877576],[1627282800000,61.01735896723089],[1627286400000,60.99454237258181],[1627290000000,61.31966765183549],[1627293600000,61.25949118016191],[1627297200000,61.26152581625885],[1627300800000,61.45328960796171],[1627304400000,61.47258693377402],[1627308000000,61.503566008206],[1627311600000,61.60955294470087],[1627315200000,61.60920639174204],[1627318800000,61.71128574063457],[1627322400000,61.97558480565503],[1627326000000,62.0059470718783],[1627329600000,62.30197997716678],[1627333200000,62.43822731467686],[1627336800000,65.9368355229572],[1627340400000,65.7834557296721],[1627344000000,66.04591871065458],[1627347600000,66.14043665360583],[1627351200000,66.18501192019606],[1627354800000,66.60805585722981],[1627358400000,66.7360882157785],[1627362000000,66.79903635518531],[1627365600000,66.7898210572899],[1627369200000,66.8225439071437],[1627372800000,66.84170231242625],[1627376400000,66.85368253994032],[1627380000000,66.87542157574221],[1627383600000,66.8127528132831],[1627387200000,66.77391669391776],[1627390800000,66.91861074437477],[1627394400000,67.03107873183201],[1627398000000,67.04506815302123],[1627401600000,67.0636659752719],[1627405200000,67.05813752654244],[1627408800000,67.42156657524377],[1627412400000,67.44569545894959],[1627416000000,67.44763441018746],[1627419600000,67.40896631013969],[1627423200000,67.48211727764088],[1627426800000,67.60152739010692],[1627430400000,68.39830828291288],[1627434000000,68.49331659919925],[1627437600000,68.66295147124113],[1627441200000,69.33872295776352],[1627444800000,69.32777644456017],[1627448400000,69.32805194378261],[1627452000000,69.35107577784346],[1627455600000,69.42486620326885],[1627459200000,69.76622608807274],[1627462800000,69.82996145761228],[1627466400000,69.98410120388793],[1627470000000,70.1685090628312],[1627473600000,70.1902805998183],[1627477200000,70.54251977297879],[1627480800000,71.03240060587206],[1627484400000,70.9447952256475],[1627488000000,70.95808954965095],[1627491600000,70.89874772289154],[1627495200000,71.09842765067683],[1627498800000,72.55905488035934],[1627502400000,74.71589089579967],[1627506000000,74.66655064403206],[1627509600000,74.7636948698171],[1627513200000,74.77002466814922],[1627516800000,74.88896750029078],[1627520400000,74.92322805951044],[1627524000000,75.08265599693455],[1627527600000,75.1156593246744],[1627531200000,75.07260801183683],[1627534800000,74.30122968821465],[1627538400000,74.41588307423505],[1627542000000,74.40560488491789],[1627545600000,74.41573654461504],[1627549200000,74.41356285519545],[1627552800000,74.35795518139548],[1627556400000,73.98596558771172],[1627560000000,74.01279312646506],[1627563600000,74.18477403289482],[1627567200000,74.15991806488195],[1627570800000,73.8358474883358],[1627574400000,73.83282963712975],[1627578000000,73.82328410640179],[1627581600000,73.8611672236641],[1627585200000,73.87928750616213],[1627588800000,73.87228646411809],[1627592400000,73.89367369689411],[1627596000000,73.88475594728773],[1627599600000,73.90835402210315],[1627603200000,73.94779420210878],[1627606800000,73.96892702190425],[1627610400000,73.95439507121134],[1627614000000,73.95228978367757],[1627617600000,73.96763648771604],[1627621200000,73.94740676191645],[1627624800000,73.97640100831565],[1627628400000,73.97403216950713],[1627632000000,73.97786863971359],[1627635600000,73.99340751173743],[1627639200000,75.01116833151086],[1627642800000,74.99182469147034],[1627646400000,74.35283159732839],[1627650000000,74.40075508827604],[1627653600000,74.36744567781555],[1627657200000,74.36768877085638],[1627660800000,74.39882413741627],[1627664400000,74.38616097358238],[1627668000000,74.39219109601538],[1627671600000,74.24081606859262],[1627675200000,74.19085603284634],[1627678800000,74.79427443601463],[1627682400000,75.37326286338642],[1627686000000,75.62248460774653],[1627689600000,75.63712169385471],[1627693200000,76.25871113647715],[1627696800000,76.26097313480143],[1627700400000,76.21718601006246],[1627704000000,76.2026928011768],[1627707600000,76.2224735125479],[1627711200000,76.22239385255442],[1627714800000,76.21945018768517],[1627718400000,76.18864794396055],[1627722000000,76.16414677202769],[1627725600000,76.07739018931935],[1627729200000,76.07345417640079],[1627732800000,76.08293652668061],[1627736400000,76.03660477005053],[1627740000000,75.42667633603526],[1627743600000,75.4847288288314],[1627747200000,75.46952508915398],[1627750800000,75.36943201376218],[1627754400000,75.4230720558255],[1627758000000,75.436493294384],[1627761600000,75.46976670327624],[1627765200000,75.47058588951413],[1627768800000,75.50161029295487],[1627772400000,75.6761003587711],[1627776000000,75.64968369637548],[1627779600000,75.7473747015782],[1627783200000,75.73443291885344],[1627786800000,75.65359129401942],[1627790400000,75.65792212206208],[1627794000000,76.01424567687633],[1627797600000,76.13828219135114],[1627801200000,76.17398799545731],[1627804800000,76.16398151344674],[1627808400000,76.15641726882843],[1627812000000,76.10516965591454],[1627815600000,76.11798152835567],[1627819200000,76.08522707342377],[1627822800000,76.07146388430145],[1627826400000,76.05165057102589],[1627830000000,76.04590025181601],[1627833600000,76.05309470695904],[1627837200000,76.03060485554641],[1627840800000,76.02139962240847],[1627844400000,76.04934615005897],[1627848000000,76.04919542619426],[1627851600000,76.06891516919242],[1627855200000,76.04842132254804],[1627858800000,76.07811065865315],[1627862400000,76.69474351910044],[1627866000000,76.83932084829807],[1627869600000,76.60939401774135],[1627873200000,76.53741763108827],[1627876800000,76.56660904107595],[1627880400000,76.56364052101998],[1627884000000,76.57030661010855],[1627887600000,76.57382143415113],[1627891200000,76.81731235607768],[1627894800000,76.79519554951028],[1627898400000,77.1469225190627],[1627902000000,77.1566663137394],[1627905600000,77.16392198494336],[1627909200000,77.17983148008955],[1627912800000,77.24996508383289],[1627916400000,77.34215229428897],[1627920000000,77.1190101446895],[1627923600000,77.11885369250933],[1627927200000,77.11799602357972],[1627930800000,77.1045557168476],[1627934400000,77.1065569623502],[1627938000000,77.33647235702001],[1627941600000,77.44166004497698],[1627945200000,77.51460435719791],[1627948800000,77.4513655309483],[1627952400000,77.44493094899197],[1627956000000,77.43088182919591],[1627959600000,77.69828231683621],[1627963200000,77.69617629636025],[1627966800000,77.76935934130296],[1627970400000,77.82280903217016],[1627974000000,77.8244647811935],[1627977600000,77.83916135475468],[1627981200000,77.8370479788082],[1627984800000,77.81840066170084],[1627988400000,77.81286692501243],[1627992000000,77.76963663128863],[1627995600000,77.83027244206504],[1627999200000,77.32114958230528],[1628002800000,77.30623788449606],[1628006400000,77.28007097094455],[1628010000000,77.25058945538909],[1628013600000,77.30936053705443],[1628017200000,77.48322123058917],[1628020800000,77.51223809356495],[1628024400000,77.53775978989057],[1628028000000,77.54041642577928],[1628031600000,77.6036048231009],[1628035200000,77.57422051280165],[1628038800000,77.5953795642036],[1628042400000,77.64025886763322],[1628046000000,77.58393329114767],[1628049600000,77.59700175740878],[1628053200000,77.28233873844519],[1628056800000,76.68404272124455],[1628060400000,76.67965269566399],[1628064000000,76.71308087613615],[1628067600000,76.71308295036883],[1628071200000,76.6968446183194],[1628074800000,76.63600857952343],[1628078400000,76.63038097609703],[1628082000000,76.51372977255161],[1628085600000,77.03321197815002],[1628089200000,77.06665187473789],[1628092800000,77.01904779129914],[1628096400000,76.97090939255908],[1628100000000,76.95655302749812],[1628103600000,76.86430043424117],[1628107200000,76.89791729804429],[1628110800000,76.90273666310219],[1628114400000,76.90269283718561],[1628118000000,76.90194442468447],[1628121600000,76.86849027506447]],\"usIn\":1628121479221952,\"usOut\":1628121479222109,\"usDiff\":157,\"testnet\":true}\n"
     ]
    }
   ],
   "source": [
    "loop.create_task(call_api(json.dumps(get_volatility_msg)))"
   ]
  },
  {
   "cell_type": "code",
   "execution_count": 110,
   "metadata": {},
   "outputs": [],
   "source": [
    "vol_json = {\"jsonrpc\":\"2.0\",\"id\":8387,\"result\":[[1626746400000,56.10354282365002],[1626746400000,56.10354282365002],[1626750000000,56.03801530112875],[1626753600000,56.46705793138607],[1626757200000,57.26482087221048],[1626760800000,57.23147448176428],[1626764400000,57.20942547985415],[1626768000000,57.208622029749506],[1626771600000,57.231511795080245],[1626775200000,57.32300992005365],[1626778800000,57.42086264287769],[1626782400000,57.53477685117171],[1626786000000,55.2685637623973],[1626789600000,55.25498871177368],[1626793200000,55.28626384260809],[1626796800000,55.388711542201904],[1626800400000,55.43771721600575],[1626804000000,55.57502392027133],[1626807600000,55.56840207020216],[1626811200000,55.463162994828636],[1626814800000,55.42405658419588],[1626818400000,55.28771786101264],[1626822000000,55.17203599215535],[1626825600000,55.14619479373436],[1626829200000,55.13986454501533],[1626832800000,54.985576842432195],[1626836400000,54.91721887447378],[1626840000000,54.891952012366865],[1626843600000,54.89330528807394],[1626847200000,55.567256533632566],[1626850800000,55.540220701096914],[1626854400000,55.60287145068775],[1626858000000,55.54233409114014],[1626861600000,55.51839755749072],[1626865200000,54.919379095585434],[1626868800000,54.77089777265868],[1626872400000,54.799107184823505],[1626876000000,54.62264521707523],[1626879600000,54.498865010954205],[1626883200000,54.75229616770779],[1626886800000,54.75747413491959],[1626890400000,54.820553975868044],[1626894000000,54.8159012382228],[1626897600000,55.138432457361866],[1626901200000,55.12854006366664],[1626904800000,55.19769717127489],[1626908400000,55.12984288341234],[1626912000000,55.15126267723876],[1626915600000,55.08451997388755],[1626919200000,55.086969026506424],[1626922800000,55.087192417568914],[1626926400000,55.11300200630061],[1626930000000,55.07300345826252],[1626933600000,54.97373569001421],[1626937200000,55.00373499648069],[1626940800000,55.02303552268653],[1626944400000,55.04737248763538],[1626948000000,55.03579635498679],[1626951600000,55.126565975640794],[1626955200000,55.13241129706313],[1626958800000,55.0731618149645],[1626962400000,55.23728753193107],[1626966000000,55.26511004176782],[1626969600000,55.280325986827],[1626973200000,55.38248177113686],[1626976800000,55.42929380753883],[1626980400000,55.42709572773165],[1626984000000,55.46081690529169],[1626987600000,55.4794382529081],[1626991200000,55.5038584854306],[1626994800000,55.359850100421546],[1626998400000,55.35068572088209],[1627002000000,55.20733959130375],[1627005600000,54.406159321087316],[1627009200000,54.71069613666511],[1627012800000,54.721109123607164],[1627016400000,54.71584646087131],[1627020000000,54.73318277416356],[1627023600000,54.3605304309402],[1627027200000,54.27049953995309],[1627030800000,53.55486922947883],[1627034400000,53.59875381169142],[1627038000000,53.59941538909054],[1627041600000,53.584991030810926],[1627045200000,53.4873778201126],[1627048800000,53.4931473373908],[1627052400000,53.490117142760774],[1627056000000,53.320081742874734],[1627059600000,53.341782206574486],[1627063200000,53.38388335480456],[1627066800000,53.38118062100915],[1627070400000,53.387184295386994],[1627074000000,53.37461128421141],[1627077600000,53.40861071483828],[1627081200000,53.40476790448077],[1627084800000,54.00687817378273],[1627088400000,54.26391808541357],[1627092000000,53.77359763610191],[1627095600000,53.59723761019013],[1627099200000,53.427809555653845],[1627102800000,53.42659203834239],[1627106400000,53.41166538226073],[1627110000000,53.415516668777926],[1627113600000,53.41644530793128],[1627117200000,53.423644036872844],[1627120800000,53.489771987261534],[1627124400000,53.56379797175672],[1627128000000,53.56755839149544],[1627131600000,53.536425375270156],[1627135200000,53.44146370204413],[1627138800000,53.04078488245525],[1627142400000,53.028547313026756],[1627146000000,53.02813487623759],[1627149600000,53.656256745788035],[1627153200000,53.68374295149618],[1627156800000,53.66326442636814],[1627160400000,54.01121496104144],[1627164000000,54.00828876830825],[1627167600000,53.840527276971464],[1627171200000,53.8207734455417],[1627174800000,53.87121429635611],[1627178400000,53.88596089066127],[1627182000000,53.757435056390065],[1627185600000,53.888553102780605],[1627189200000,53.87902486468859],[1627192800000,53.91282788287636],[1627196400000,53.91681156443745],[1627200000000,53.911468033549056],[1627203600000,54.00208454464915],[1627207200000,54.03180694670116],[1627210800000,54.035281953065116],[1627214400000,54.063280534170204],[1627218000000,54.00610797499068],[1627221600000,54.019864992388214],[1627225200000,53.991979389721735],[1627228800000,53.97208693259479],[1627232400000,53.97857476248141],[1627236000000,53.93485704131171],[1627239600000,53.31480806406927],[1627243200000,53.31252600881407],[1627246800000,53.311622588996954],[1627250400000,53.31494105048512],[1627254000000,53.313106112756415],[1627257600000,53.231092189418156],[1627261200000,54.24379807686093],[1627264800000,57.18288150090975],[1627268400000,60.78116011379902],[1627272000000,60.85896543016548],[1627275600000,60.92883831845856],[1627279200000,60.92842483877576],[1627282800000,61.01735896723089],[1627286400000,60.99454237258181],[1627290000000,61.31966765183549],[1627293600000,61.25949118016191],[1627297200000,61.26152581625885],[1627300800000,61.45328960796171],[1627304400000,61.47258693377402],[1627308000000,61.503566008206],[1627311600000,61.60955294470087],[1627315200000,61.60920639174204],[1627318800000,61.71128574063457],[1627322400000,61.97558480565503],[1627326000000,62.0059470718783],[1627329600000,62.30197997716678],[1627333200000,62.43822731467686],[1627336800000,65.9368355229572],[1627340400000,65.7834557296721],[1627344000000,66.04591871065458],[1627347600000,66.14043665360583],[1627351200000,66.18501192019606],[1627354800000,66.60805585722981],[1627358400000,66.7360882157785],[1627362000000,66.79903635518531],[1627365600000,66.7898210572899],[1627369200000,66.8225439071437],[1627372800000,66.84170231242625],[1627376400000,66.85368253994032],[1627380000000,66.87542157574221],[1627383600000,66.8127528132831],[1627387200000,66.77391669391776],[1627390800000,66.91861074437477],[1627394400000,67.03107873183201],[1627398000000,67.04506815302123],[1627401600000,67.0636659752719],[1627405200000,67.05813752654244],[1627408800000,67.42156657524377],[1627412400000,67.44569545894959],[1627416000000,67.44763441018746],[1627419600000,67.40896631013969],[1627423200000,67.48211727764088],[1627426800000,67.60152739010692],[1627430400000,68.39830828291288],[1627434000000,68.49331659919925],[1627437600000,68.66295147124113],[1627441200000,69.33872295776352],[1627444800000,69.32777644456017],[1627448400000,69.32805194378261],[1627452000000,69.35107577784346],[1627455600000,69.42486620326885],[1627459200000,69.76622608807274],[1627462800000,69.82996145761228],[1627466400000,69.98410120388793],[1627470000000,70.1685090628312],[1627473600000,70.1902805998183],[1627477200000,70.54251977297879],[1627480800000,71.03240060587206],[1627484400000,70.9447952256475],[1627488000000,70.95808954965095],[1627491600000,70.89874772289154],[1627495200000,71.09842765067683],[1627498800000,72.55905488035934],[1627502400000,74.71589089579967],[1627506000000,74.66655064403206],[1627509600000,74.7636948698171],[1627513200000,74.77002466814922],[1627516800000,74.88896750029078],[1627520400000,74.92322805951044],[1627524000000,75.08265599693455],[1627527600000,75.1156593246744],[1627531200000,75.07260801183683],[1627534800000,74.30122968821465],[1627538400000,74.41588307423505],[1627542000000,74.40560488491789],[1627545600000,74.41573654461504],[1627549200000,74.41356285519545],[1627552800000,74.35795518139548],[1627556400000,73.98596558771172],[1627560000000,74.01279312646506],[1627563600000,74.18477403289482],[1627567200000,74.15991806488195],[1627570800000,73.8358474883358],[1627574400000,73.83282963712975],[1627578000000,73.82328410640179],[1627581600000,73.8611672236641],[1627585200000,73.87928750616213],[1627588800000,73.87228646411809],[1627592400000,73.89367369689411],[1627596000000,73.88475594728773],[1627599600000,73.90835402210315],[1627603200000,73.94779420210878],[1627606800000,73.96892702190425],[1627610400000,73.95439507121134],[1627614000000,73.95228978367757],[1627617600000,73.96763648771604],[1627621200000,73.94740676191645],[1627624800000,73.97640100831565],[1627628400000,73.97403216950713],[1627632000000,73.97786863971359],[1627635600000,73.99340751173743],[1627639200000,75.01116833151086],[1627642800000,74.99182469147034],[1627646400000,74.35283159732839],[1627650000000,74.40075508827604],[1627653600000,74.36744567781555],[1627657200000,74.36768877085638],[1627660800000,74.39882413741627],[1627664400000,74.38616097358238],[1627668000000,74.39219109601538],[1627671600000,74.24081606859262],[1627675200000,74.19085603284634],[1627678800000,74.79427443601463],[1627682400000,75.37326286338642],[1627686000000,75.62248460774653],[1627689600000,75.63712169385471],[1627693200000,76.25871113647715],[1627696800000,76.26097313480143],[1627700400000,76.21718601006246],[1627704000000,76.2026928011768],[1627707600000,76.2224735125479],[1627711200000,76.22239385255442],[1627714800000,76.21945018768517],[1627718400000,76.18864794396055],[1627722000000,76.16414677202769],[1627725600000,76.07739018931935],[1627729200000,76.07345417640079],[1627732800000,76.08293652668061],[1627736400000,76.03660477005053],[1627740000000,75.42667633603526],[1627743600000,75.4847288288314],[1627747200000,75.46952508915398],[1627750800000,75.36943201376218],[1627754400000,75.4230720558255],[1627758000000,75.436493294384],[1627761600000,75.46976670327624],[1627765200000,75.47058588951413],[1627768800000,75.50161029295487],[1627772400000,75.6761003587711],[1627776000000,75.64968369637548],[1627779600000,75.7473747015782],[1627783200000,75.73443291885344],[1627786800000,75.65359129401942],[1627790400000,75.65792212206208],[1627794000000,76.01424567687633],[1627797600000,76.13828219135114],[1627801200000,76.17398799545731],[1627804800000,76.16398151344674],[1627808400000,76.15641726882843],[1627812000000,76.10516965591454],[1627815600000,76.11798152835567],[1627819200000,76.08522707342377],[1627822800000,76.07146388430145],[1627826400000,76.05165057102589],[1627830000000,76.04590025181601],[1627833600000,76.05309470695904],[1627837200000,76.03060485554641],[1627840800000,76.02139962240847],[1627844400000,76.04934615005897],[1627848000000,76.04919542619426],[1627851600000,76.06891516919242],[1627855200000,76.04842132254804],[1627858800000,76.07811065865315],[1627862400000,76.69474351910044],[1627866000000,76.83932084829807],[1627869600000,76.60939401774135],[1627873200000,76.53741763108827],[1627876800000,76.56660904107595],[1627880400000,76.56364052101998],[1627884000000,76.57030661010855],[1627887600000,76.57382143415113],[1627891200000,76.81731235607768],[1627894800000,76.79519554951028],[1627898400000,77.1469225190627],[1627902000000,77.1566663137394],[1627905600000,77.16392198494336],[1627909200000,77.17983148008955],[1627912800000,77.24996508383289],[1627916400000,77.34215229428897],[1627920000000,77.1190101446895],[1627923600000,77.11885369250933],[1627927200000,77.11799602357972],[1627930800000,77.1045557168476],[1627934400000,77.1065569623502],[1627938000000,77.33647235702001],[1627941600000,77.44166004497698],[1627945200000,77.51460435719791],[1627948800000,77.4513655309483],[1627952400000,77.44493094899197],[1627956000000,77.43088182919591],[1627959600000,77.69828231683621],[1627963200000,77.69617629636025],[1627966800000,77.76935934130296],[1627970400000,77.82280903217016],[1627974000000,77.8244647811935],[1627977600000,77.83916135475468],[1627981200000,77.8370479788082],[1627984800000,77.81840066170084],[1627988400000,77.81286692501243],[1627992000000,77.76963663128863],[1627995600000,77.83027244206504],[1627999200000,77.32114958230528],[1628002800000,77.30623788449606],[1628006400000,77.28007097094455],[1628010000000,77.25058945538909],[1628013600000,77.30936053705443],[1628017200000,77.48322123058917],[1628020800000,77.51223809356495],[1628024400000,77.53775978989057],[1628028000000,77.54041642577928],[1628031600000,77.6036048231009],[1628035200000,77.57422051280165],[1628038800000,77.5953795642036],[1628042400000,77.64025886763322],[1628046000000,77.58393329114767],[1628049600000,77.59700175740878],[1628053200000,77.28233873844519],[1628056800000,76.68404272124455],[1628060400000,76.67965269566399],[1628064000000,76.71308087613615],[1628067600000,76.71308295036883],[1628071200000,76.6968446183194],[1628074800000,76.63600857952343],[1628078400000,76.63038097609703],[1628082000000,76.51372977255161],[1628085600000,77.03321197815002],[1628089200000,77.06665187473789],[1628092800000,77.01904779129914],[1628096400000,76.97090939255908],[1628100000000,76.95655302749812],[1628103600000,76.86430043424117],[1628107200000,76.89791729804429],[1628110800000,76.90273666310219],[1628114400000,76.90269283718561],[1628118000000,76.90194442468447],[1628121600000,76.86849027506447]],\"usIn\":1628121479221952,\"usOut\":1628121479222109,\"usDiff\":157,\"testnet\":True}"
   ]
  },
  {
   "cell_type": "code",
   "execution_count": 111,
   "metadata": {},
   "outputs": [
    {
     "data": {
      "text/html": [
       "<div>\n",
       "<style scoped>\n",
       "    .dataframe tbody tr th:only-of-type {\n",
       "        vertical-align: middle;\n",
       "    }\n",
       "\n",
       "    .dataframe tbody tr th {\n",
       "        vertical-align: top;\n",
       "    }\n",
       "\n",
       "    .dataframe thead th {\n",
       "        text-align: right;\n",
       "    }\n",
       "</style>\n",
       "<table border=\"1\" class=\"dataframe\">\n",
       "  <thead>\n",
       "    <tr style=\"text-align: right;\">\n",
       "      <th></th>\n",
       "      <th>jsonrpc</th>\n",
       "      <th>id</th>\n",
       "      <th>result</th>\n",
       "      <th>usIn</th>\n",
       "      <th>usOut</th>\n",
       "      <th>usDiff</th>\n",
       "      <th>testnet</th>\n",
       "    </tr>\n",
       "  </thead>\n",
       "  <tbody>\n",
       "    <tr>\n",
       "      <th>0</th>\n",
       "      <td>2</td>\n",
       "      <td>8387</td>\n",
       "      <td>[1626746400000, 56.10354282365002]</td>\n",
       "      <td>1628121479221952</td>\n",
       "      <td>1628121479222109</td>\n",
       "      <td>157</td>\n",
       "      <td>True</td>\n",
       "    </tr>\n",
       "    <tr>\n",
       "      <th>1</th>\n",
       "      <td>2</td>\n",
       "      <td>8387</td>\n",
       "      <td>[1626746400000, 56.10354282365002]</td>\n",
       "      <td>1628121479221952</td>\n",
       "      <td>1628121479222109</td>\n",
       "      <td>157</td>\n",
       "      <td>True</td>\n",
       "    </tr>\n",
       "    <tr>\n",
       "      <th>2</th>\n",
       "      <td>2</td>\n",
       "      <td>8387</td>\n",
       "      <td>[1626750000000, 56.03801530112875]</td>\n",
       "      <td>1628121479221952</td>\n",
       "      <td>1628121479222109</td>\n",
       "      <td>157</td>\n",
       "      <td>True</td>\n",
       "    </tr>\n",
       "    <tr>\n",
       "      <th>3</th>\n",
       "      <td>2</td>\n",
       "      <td>8387</td>\n",
       "      <td>[1626753600000, 56.46705793138607]</td>\n",
       "      <td>1628121479221952</td>\n",
       "      <td>1628121479222109</td>\n",
       "      <td>157</td>\n",
       "      <td>True</td>\n",
       "    </tr>\n",
       "    <tr>\n",
       "      <th>4</th>\n",
       "      <td>2</td>\n",
       "      <td>8387</td>\n",
       "      <td>[1626757200000, 57.26482087221048]</td>\n",
       "      <td>1628121479221952</td>\n",
       "      <td>1628121479222109</td>\n",
       "      <td>157</td>\n",
       "      <td>True</td>\n",
       "    </tr>\n",
       "    <tr>\n",
       "      <th>...</th>\n",
       "      <td>...</td>\n",
       "      <td>...</td>\n",
       "      <td>...</td>\n",
       "      <td>...</td>\n",
       "      <td>...</td>\n",
       "      <td>...</td>\n",
       "      <td>...</td>\n",
       "    </tr>\n",
       "    <tr>\n",
       "      <th>379</th>\n",
       "      <td>2</td>\n",
       "      <td>8387</td>\n",
       "      <td>[1628107200000, 76.89791729804429]</td>\n",
       "      <td>1628121479221952</td>\n",
       "      <td>1628121479222109</td>\n",
       "      <td>157</td>\n",
       "      <td>True</td>\n",
       "    </tr>\n",
       "    <tr>\n",
       "      <th>380</th>\n",
       "      <td>2</td>\n",
       "      <td>8387</td>\n",
       "      <td>[1628110800000, 76.90273666310219]</td>\n",
       "      <td>1628121479221952</td>\n",
       "      <td>1628121479222109</td>\n",
       "      <td>157</td>\n",
       "      <td>True</td>\n",
       "    </tr>\n",
       "    <tr>\n",
       "      <th>381</th>\n",
       "      <td>2</td>\n",
       "      <td>8387</td>\n",
       "      <td>[1628114400000, 76.90269283718561]</td>\n",
       "      <td>1628121479221952</td>\n",
       "      <td>1628121479222109</td>\n",
       "      <td>157</td>\n",
       "      <td>True</td>\n",
       "    </tr>\n",
       "    <tr>\n",
       "      <th>382</th>\n",
       "      <td>2</td>\n",
       "      <td>8387</td>\n",
       "      <td>[1628118000000, 76.90194442468447]</td>\n",
       "      <td>1628121479221952</td>\n",
       "      <td>1628121479222109</td>\n",
       "      <td>157</td>\n",
       "      <td>True</td>\n",
       "    </tr>\n",
       "    <tr>\n",
       "      <th>383</th>\n",
       "      <td>2</td>\n",
       "      <td>8387</td>\n",
       "      <td>[1628121600000, 76.86849027506447]</td>\n",
       "      <td>1628121479221952</td>\n",
       "      <td>1628121479222109</td>\n",
       "      <td>157</td>\n",
       "      <td>True</td>\n",
       "    </tr>\n",
       "  </tbody>\n",
       "</table>\n",
       "<p>384 rows × 7 columns</p>\n",
       "</div>"
      ],
      "text/plain": [
       "     jsonrpc    id                              result              usIn  \\\n",
       "0          2  8387  [1626746400000, 56.10354282365002]  1628121479221952   \n",
       "1          2  8387  [1626746400000, 56.10354282365002]  1628121479221952   \n",
       "2          2  8387  [1626750000000, 56.03801530112875]  1628121479221952   \n",
       "3          2  8387  [1626753600000, 56.46705793138607]  1628121479221952   \n",
       "4          2  8387  [1626757200000, 57.26482087221048]  1628121479221952   \n",
       "..       ...   ...                                 ...               ...   \n",
       "379        2  8387  [1628107200000, 76.89791729804429]  1628121479221952   \n",
       "380        2  8387  [1628110800000, 76.90273666310219]  1628121479221952   \n",
       "381        2  8387  [1628114400000, 76.90269283718561]  1628121479221952   \n",
       "382        2  8387  [1628118000000, 76.90194442468447]  1628121479221952   \n",
       "383        2  8387  [1628121600000, 76.86849027506447]  1628121479221952   \n",
       "\n",
       "                usOut  usDiff  testnet  \n",
       "0    1628121479222109     157     True  \n",
       "1    1628121479222109     157     True  \n",
       "2    1628121479222109     157     True  \n",
       "3    1628121479222109     157     True  \n",
       "4    1628121479222109     157     True  \n",
       "..                ...     ...      ...  \n",
       "379  1628121479222109     157     True  \n",
       "380  1628121479222109     157     True  \n",
       "381  1628121479222109     157     True  \n",
       "382  1628121479222109     157     True  \n",
       "383  1628121479222109     157     True  \n",
       "\n",
       "[384 rows x 7 columns]"
      ]
     },
     "execution_count": 111,
     "metadata": {},
     "output_type": "execute_result"
    }
   ],
   "source": [
    "vol_df = pd.read_json(json.dumps(vol_json))\n",
    "vol_df"
   ]
  },
  {
   "cell_type": "code",
   "execution_count": 208,
   "metadata": {},
   "outputs": [
    {
     "name": "stdout",
     "output_type": "stream",
     "text": [
      "{'jsonrpc': '2.0', 'id': 2236, 'method': 'private/get_positions', 'params': {'currency': 'BTC', 'kind': 'future', 'access_token': '1659659732369.1OQBfcDj.522eFg0GiMUHIK2sqoqH8Q4pyTeYByHoKa933eUGOG7ntfbKY-i2NALvNFXP0e25Xkc5p_0OwPGnF_yHue4YJ06MiCLzsqBu1AzXO4viyl7XdDO_9K0ZmiInf3KTY933mmRPPm5HCDB4FPbPA5TLZKfzhS2FMpzAIlX5nSkV8fruwrf0LQe9S_z4FunRkxadu8QMtcK7AvevxiApC3EZoWVjoEZg-0vBXggzmr3FOyM1E8O_UO9V0hZkdVCy-ol1hc7pDhdI6sev_w3NT3YWg_GYnVLoLmUXGX4pmV31I_yaYvmmq_OvJNmjU4K5rujNHruEa56f'}}\n"
     ]
    }
   ],
   "source": [
    "get_margins_msg = \\\n",
    "{\n",
    "  \"jsonrpc\" : \"2.0\",\n",
    "  \"id\" : 2236,\n",
    "  \"method\" : \"private/get_positions\",\n",
    "  \"params\" : {\n",
    "    \"currency\" : \"BTC\",\n",
    "    \"kind\" : \"future\",\n",
    "    \"access_token\": access_token\n",
    "  }\n",
    "}\n",
    "print(get_margins_msg)"
   ]
  },
  {
   "cell_type": "code",
   "execution_count": 209,
   "metadata": {},
   "outputs": [
    {
     "data": {
      "text/plain": [
       "<Task pending coro=<call_api() running at <ipython-input-188-768be9d2a894>:1>>"
      ]
     },
     "execution_count": 209,
     "metadata": {},
     "output_type": "execute_result"
    },
    {
     "name": "stdout",
     "output_type": "stream",
     "text": [
      "{\"jsonrpc\":\"2.0\",\"id\":2236,\"error\":{\"message\":\"unauthorized\",\"code\":13009},\"usIn\":1628124005882099,\"usOut\":1628124005882365,\"usDiff\":266,\"testnet\":true}\n"
     ]
    },
    {
     "name": "stderr",
     "output_type": "stream",
     "text": [
      "Task exception was never retrieved\n",
      "future: <Task finished coro=<call_api() done, defined at <ipython-input-41-768be9d2a894>:1> exception=ConnectionClosedError('code = 1006 (connection closed abnormally [internal]), no reason')>\n",
      "Traceback (most recent call last):\n",
      "  File \"/Users/dennismacpro/miniconda3/lib/python3.7/site-packages/websockets/legacy/protocol.py\", line 750, in transfer_data\n",
      "    message = await self.read_message()\n",
      "  File \"/Users/dennismacpro/miniconda3/lib/python3.7/site-packages/websockets/legacy/protocol.py\", line 819, in read_message\n",
      "    frame = await self.read_data_frame(max_size=self.max_size)\n",
      "  File \"/Users/dennismacpro/miniconda3/lib/python3.7/site-packages/websockets/legacy/protocol.py\", line 895, in read_data_frame\n",
      "    frame = await self.read_frame(max_size)\n",
      "  File \"/Users/dennismacpro/miniconda3/lib/python3.7/site-packages/websockets/legacy/protocol.py\", line 975, in read_frame\n",
      "    extensions=self.extensions,\n",
      "  File \"/Users/dennismacpro/miniconda3/lib/python3.7/site-packages/websockets/legacy/framing.py\", line 55, in read\n",
      "    data = await reader(2)\n",
      "  File \"/Users/dennismacpro/miniconda3/lib/python3.7/asyncio/streams.py\", line 679, in readexactly\n",
      "    await self._wait_for_data('readexactly')\n",
      "  File \"/Users/dennismacpro/miniconda3/lib/python3.7/asyncio/streams.py\", line 473, in _wait_for_data\n",
      "    await self._waiter\n",
      "concurrent.futures._base.CancelledError\n",
      "\n",
      "The above exception was the direct cause of the following exception:\n",
      "\n",
      "Traceback (most recent call last):\n",
      "  File \"<ipython-input-41-768be9d2a894>\", line 5, in call_api\n",
      "    response = await websocket.recv()\n",
      "  File \"/Users/dennismacpro/miniconda3/lib/python3.7/site-packages/websockets/legacy/protocol.py\", line 421, in recv\n",
      "    await self.ensure_open()\n",
      "  File \"/Users/dennismacpro/miniconda3/lib/python3.7/site-packages/websockets/legacy/protocol.py\", line 735, in ensure_open\n",
      "    raise self.connection_closed_exc()\n",
      "websockets.exceptions.ConnectionClosedError: code = 1006 (connection closed abnormally [internal]), no reason\n",
      "Task exception was never retrieved\n",
      "future: <Task finished coro=<call_api() done, defined at <ipython-input-41-768be9d2a894>:1> exception=ConnectionClosedError('code = 1006 (connection closed abnormally [internal]), no reason')>\n",
      "Traceback (most recent call last):\n",
      "  File \"/Users/dennismacpro/miniconda3/lib/python3.7/site-packages/websockets/legacy/protocol.py\", line 750, in transfer_data\n",
      "    message = await self.read_message()\n",
      "  File \"/Users/dennismacpro/miniconda3/lib/python3.7/site-packages/websockets/legacy/protocol.py\", line 819, in read_message\n",
      "    frame = await self.read_data_frame(max_size=self.max_size)\n",
      "  File \"/Users/dennismacpro/miniconda3/lib/python3.7/site-packages/websockets/legacy/protocol.py\", line 895, in read_data_frame\n",
      "    frame = await self.read_frame(max_size)\n",
      "  File \"/Users/dennismacpro/miniconda3/lib/python3.7/site-packages/websockets/legacy/protocol.py\", line 975, in read_frame\n",
      "    extensions=self.extensions,\n",
      "  File \"/Users/dennismacpro/miniconda3/lib/python3.7/site-packages/websockets/legacy/framing.py\", line 55, in read\n",
      "    data = await reader(2)\n",
      "  File \"/Users/dennismacpro/miniconda3/lib/python3.7/asyncio/streams.py\", line 679, in readexactly\n",
      "    await self._wait_for_data('readexactly')\n",
      "  File \"/Users/dennismacpro/miniconda3/lib/python3.7/asyncio/streams.py\", line 473, in _wait_for_data\n",
      "    await self._waiter\n",
      "concurrent.futures._base.CancelledError\n",
      "\n",
      "The above exception was the direct cause of the following exception:\n",
      "\n",
      "Traceback (most recent call last):\n",
      "  File \"<ipython-input-41-768be9d2a894>\", line 5, in call_api\n",
      "    response = await websocket.recv()\n",
      "  File \"/Users/dennismacpro/miniconda3/lib/python3.7/site-packages/websockets/legacy/protocol.py\", line 421, in recv\n",
      "    await self.ensure_open()\n",
      "  File \"/Users/dennismacpro/miniconda3/lib/python3.7/site-packages/websockets/legacy/protocol.py\", line 735, in ensure_open\n",
      "    raise self.connection_closed_exc()\n",
      "websockets.exceptions.ConnectionClosedError: code = 1006 (connection closed abnormally [internal]), no reason\n",
      "Task exception was never retrieved\n",
      "future: <Task finished coro=<call_api() done, defined at <ipython-input-41-768be9d2a894>:1> exception=ConnectionClosedError('code = 1006 (connection closed abnormally [internal]), no reason')>\n",
      "Traceback (most recent call last):\n",
      "  File \"/Users/dennismacpro/miniconda3/lib/python3.7/site-packages/websockets/legacy/protocol.py\", line 750, in transfer_data\n",
      "    message = await self.read_message()\n",
      "  File \"/Users/dennismacpro/miniconda3/lib/python3.7/site-packages/websockets/legacy/protocol.py\", line 819, in read_message\n",
      "    frame = await self.read_data_frame(max_size=self.max_size)\n",
      "  File \"/Users/dennismacpro/miniconda3/lib/python3.7/site-packages/websockets/legacy/protocol.py\", line 895, in read_data_frame\n",
      "    frame = await self.read_frame(max_size)\n",
      "  File \"/Users/dennismacpro/miniconda3/lib/python3.7/site-packages/websockets/legacy/protocol.py\", line 975, in read_frame\n",
      "    extensions=self.extensions,\n",
      "  File \"/Users/dennismacpro/miniconda3/lib/python3.7/site-packages/websockets/legacy/framing.py\", line 55, in read\n",
      "    data = await reader(2)\n",
      "  File \"/Users/dennismacpro/miniconda3/lib/python3.7/asyncio/streams.py\", line 679, in readexactly\n",
      "    await self._wait_for_data('readexactly')\n",
      "  File \"/Users/dennismacpro/miniconda3/lib/python3.7/asyncio/streams.py\", line 473, in _wait_for_data\n",
      "    await self._waiter\n",
      "concurrent.futures._base.CancelledError\n",
      "\n",
      "The above exception was the direct cause of the following exception:\n",
      "\n",
      "Traceback (most recent call last):\n",
      "  File \"<ipython-input-41-768be9d2a894>\", line 5, in call_api\n",
      "    response = await websocket.recv()\n",
      "  File \"/Users/dennismacpro/miniconda3/lib/python3.7/site-packages/websockets/legacy/protocol.py\", line 421, in recv\n",
      "    await self.ensure_open()\n",
      "  File \"/Users/dennismacpro/miniconda3/lib/python3.7/site-packages/websockets/legacy/protocol.py\", line 735, in ensure_open\n",
      "    raise self.connection_closed_exc()\n",
      "websockets.exceptions.ConnectionClosedError: code = 1006 (connection closed abnormally [internal]), no reason\n",
      "Task exception was never retrieved\n",
      "future: <Task finished coro=<call_api() done, defined at <ipython-input-41-768be9d2a894>:1> exception=ConnectionClosedError('code = 1006 (connection closed abnormally [internal]), no reason')>\n",
      "Traceback (most recent call last):\n",
      "  File \"/Users/dennismacpro/miniconda3/lib/python3.7/site-packages/websockets/legacy/protocol.py\", line 750, in transfer_data\n",
      "    message = await self.read_message()\n",
      "  File \"/Users/dennismacpro/miniconda3/lib/python3.7/site-packages/websockets/legacy/protocol.py\", line 819, in read_message\n",
      "    frame = await self.read_data_frame(max_size=self.max_size)\n",
      "  File \"/Users/dennismacpro/miniconda3/lib/python3.7/site-packages/websockets/legacy/protocol.py\", line 895, in read_data_frame\n",
      "    frame = await self.read_frame(max_size)\n",
      "  File \"/Users/dennismacpro/miniconda3/lib/python3.7/site-packages/websockets/legacy/protocol.py\", line 975, in read_frame\n",
      "    extensions=self.extensions,\n",
      "  File \"/Users/dennismacpro/miniconda3/lib/python3.7/site-packages/websockets/legacy/framing.py\", line 55, in read\n",
      "    data = await reader(2)\n",
      "  File \"/Users/dennismacpro/miniconda3/lib/python3.7/asyncio/streams.py\", line 679, in readexactly\n",
      "    await self._wait_for_data('readexactly')\n",
      "  File \"/Users/dennismacpro/miniconda3/lib/python3.7/asyncio/streams.py\", line 473, in _wait_for_data\n",
      "    await self._waiter\n",
      "concurrent.futures._base.CancelledError\n",
      "\n",
      "The above exception was the direct cause of the following exception:\n",
      "\n",
      "Traceback (most recent call last):\n",
      "  File \"<ipython-input-41-768be9d2a894>\", line 5, in call_api\n",
      "    response = await websocket.recv()\n",
      "  File \"/Users/dennismacpro/miniconda3/lib/python3.7/site-packages/websockets/legacy/protocol.py\", line 421, in recv\n",
      "    await self.ensure_open()\n",
      "  File \"/Users/dennismacpro/miniconda3/lib/python3.7/site-packages/websockets/legacy/protocol.py\", line 735, in ensure_open\n",
      "    raise self.connection_closed_exc()\n",
      "websockets.exceptions.ConnectionClosedError: code = 1006 (connection closed abnormally [internal]), no reason\n",
      "Task exception was never retrieved\n",
      "future: <Task finished coro=<call_api() done, defined at <ipython-input-41-768be9d2a894>:1> exception=ConnectionClosedError('code = 1006 (connection closed abnormally [internal]), no reason')>\n",
      "Traceback (most recent call last):\n",
      "  File \"/Users/dennismacpro/miniconda3/lib/python3.7/site-packages/websockets/legacy/protocol.py\", line 750, in transfer_data\n",
      "    message = await self.read_message()\n",
      "  File \"/Users/dennismacpro/miniconda3/lib/python3.7/site-packages/websockets/legacy/protocol.py\", line 819, in read_message\n",
      "    frame = await self.read_data_frame(max_size=self.max_size)\n",
      "  File \"/Users/dennismacpro/miniconda3/lib/python3.7/site-packages/websockets/legacy/protocol.py\", line 895, in read_data_frame\n",
      "    frame = await self.read_frame(max_size)\n",
      "  File \"/Users/dennismacpro/miniconda3/lib/python3.7/site-packages/websockets/legacy/protocol.py\", line 975, in read_frame\n",
      "    extensions=self.extensions,\n",
      "  File \"/Users/dennismacpro/miniconda3/lib/python3.7/site-packages/websockets/legacy/framing.py\", line 55, in read\n",
      "    data = await reader(2)\n",
      "  File \"/Users/dennismacpro/miniconda3/lib/python3.7/asyncio/streams.py\", line 679, in readexactly\n",
      "    await self._wait_for_data('readexactly')\n",
      "  File \"/Users/dennismacpro/miniconda3/lib/python3.7/asyncio/streams.py\", line 473, in _wait_for_data\n",
      "    await self._waiter\n",
      "concurrent.futures._base.CancelledError\n",
      "\n",
      "The above exception was the direct cause of the following exception:\n",
      "\n",
      "Traceback (most recent call last):\n",
      "  File \"<ipython-input-41-768be9d2a894>\", line 5, in call_api\n",
      "    response = await websocket.recv()\n",
      "  File \"/Users/dennismacpro/miniconda3/lib/python3.7/site-packages/websockets/legacy/protocol.py\", line 421, in recv\n",
      "    await self.ensure_open()\n",
      "  File \"/Users/dennismacpro/miniconda3/lib/python3.7/site-packages/websockets/legacy/protocol.py\", line 735, in ensure_open\n",
      "    raise self.connection_closed_exc()\n",
      "websockets.exceptions.ConnectionClosedError: code = 1006 (connection closed abnormally [internal]), no reason\n"
     ]
    },
    {
     "name": "stderr",
     "output_type": "stream",
     "text": [
      "Task exception was never retrieved\n",
      "future: <Task finished coro=<call_api() done, defined at <ipython-input-41-768be9d2a894>:1> exception=ConnectionClosedError('code = 1006 (connection closed abnormally [internal]), no reason')>\n",
      "Traceback (most recent call last):\n",
      "  File \"/Users/dennismacpro/miniconda3/lib/python3.7/site-packages/websockets/legacy/protocol.py\", line 750, in transfer_data\n",
      "    message = await self.read_message()\n",
      "  File \"/Users/dennismacpro/miniconda3/lib/python3.7/site-packages/websockets/legacy/protocol.py\", line 819, in read_message\n",
      "    frame = await self.read_data_frame(max_size=self.max_size)\n",
      "  File \"/Users/dennismacpro/miniconda3/lib/python3.7/site-packages/websockets/legacy/protocol.py\", line 895, in read_data_frame\n",
      "    frame = await self.read_frame(max_size)\n",
      "  File \"/Users/dennismacpro/miniconda3/lib/python3.7/site-packages/websockets/legacy/protocol.py\", line 975, in read_frame\n",
      "    extensions=self.extensions,\n",
      "  File \"/Users/dennismacpro/miniconda3/lib/python3.7/site-packages/websockets/legacy/framing.py\", line 55, in read\n",
      "    data = await reader(2)\n",
      "  File \"/Users/dennismacpro/miniconda3/lib/python3.7/asyncio/streams.py\", line 679, in readexactly\n",
      "    await self._wait_for_data('readexactly')\n",
      "  File \"/Users/dennismacpro/miniconda3/lib/python3.7/asyncio/streams.py\", line 473, in _wait_for_data\n",
      "    await self._waiter\n",
      "concurrent.futures._base.CancelledError\n",
      "\n",
      "The above exception was the direct cause of the following exception:\n",
      "\n",
      "Traceback (most recent call last):\n",
      "  File \"<ipython-input-41-768be9d2a894>\", line 5, in call_api\n",
      "    response = await websocket.recv()\n",
      "  File \"/Users/dennismacpro/miniconda3/lib/python3.7/site-packages/websockets/legacy/protocol.py\", line 421, in recv\n",
      "    await self.ensure_open()\n",
      "  File \"/Users/dennismacpro/miniconda3/lib/python3.7/site-packages/websockets/legacy/protocol.py\", line 735, in ensure_open\n",
      "    raise self.connection_closed_exc()\n",
      "websockets.exceptions.ConnectionClosedError: code = 1006 (connection closed abnormally [internal]), no reason\n",
      "Task exception was never retrieved\n",
      "future: <Task finished coro=<call_api() done, defined at <ipython-input-41-768be9d2a894>:1> exception=ConnectionClosedError('code = 1006 (connection closed abnormally [internal]), no reason')>\n",
      "Traceback (most recent call last):\n",
      "  File \"/Users/dennismacpro/miniconda3/lib/python3.7/site-packages/websockets/legacy/protocol.py\", line 750, in transfer_data\n",
      "    message = await self.read_message()\n",
      "  File \"/Users/dennismacpro/miniconda3/lib/python3.7/site-packages/websockets/legacy/protocol.py\", line 819, in read_message\n",
      "    frame = await self.read_data_frame(max_size=self.max_size)\n",
      "  File \"/Users/dennismacpro/miniconda3/lib/python3.7/site-packages/websockets/legacy/protocol.py\", line 895, in read_data_frame\n",
      "    frame = await self.read_frame(max_size)\n",
      "  File \"/Users/dennismacpro/miniconda3/lib/python3.7/site-packages/websockets/legacy/protocol.py\", line 975, in read_frame\n",
      "    extensions=self.extensions,\n",
      "  File \"/Users/dennismacpro/miniconda3/lib/python3.7/site-packages/websockets/legacy/framing.py\", line 55, in read\n",
      "    data = await reader(2)\n",
      "  File \"/Users/dennismacpro/miniconda3/lib/python3.7/asyncio/streams.py\", line 679, in readexactly\n",
      "    await self._wait_for_data('readexactly')\n",
      "  File \"/Users/dennismacpro/miniconda3/lib/python3.7/asyncio/streams.py\", line 473, in _wait_for_data\n",
      "    await self._waiter\n",
      "concurrent.futures._base.CancelledError\n",
      "\n",
      "The above exception was the direct cause of the following exception:\n",
      "\n",
      "Traceback (most recent call last):\n",
      "  File \"<ipython-input-41-768be9d2a894>\", line 5, in call_api\n",
      "    response = await websocket.recv()\n",
      "  File \"/Users/dennismacpro/miniconda3/lib/python3.7/site-packages/websockets/legacy/protocol.py\", line 421, in recv\n",
      "    await self.ensure_open()\n",
      "  File \"/Users/dennismacpro/miniconda3/lib/python3.7/site-packages/websockets/legacy/protocol.py\", line 735, in ensure_open\n",
      "    raise self.connection_closed_exc()\n",
      "websockets.exceptions.ConnectionClosedError: code = 1006 (connection closed abnormally [internal]), no reason\n",
      "Task exception was never retrieved\n",
      "future: <Task finished coro=<call_api() done, defined at <ipython-input-41-768be9d2a894>:1> exception=ConnectionClosedError('code = 1006 (connection closed abnormally [internal]), no reason')>\n",
      "Traceback (most recent call last):\n",
      "  File \"/Users/dennismacpro/miniconda3/lib/python3.7/site-packages/websockets/legacy/protocol.py\", line 750, in transfer_data\n",
      "    message = await self.read_message()\n",
      "  File \"/Users/dennismacpro/miniconda3/lib/python3.7/site-packages/websockets/legacy/protocol.py\", line 819, in read_message\n",
      "    frame = await self.read_data_frame(max_size=self.max_size)\n",
      "  File \"/Users/dennismacpro/miniconda3/lib/python3.7/site-packages/websockets/legacy/protocol.py\", line 895, in read_data_frame\n",
      "    frame = await self.read_frame(max_size)\n",
      "  File \"/Users/dennismacpro/miniconda3/lib/python3.7/site-packages/websockets/legacy/protocol.py\", line 975, in read_frame\n",
      "    extensions=self.extensions,\n",
      "  File \"/Users/dennismacpro/miniconda3/lib/python3.7/site-packages/websockets/legacy/framing.py\", line 55, in read\n",
      "    data = await reader(2)\n",
      "  File \"/Users/dennismacpro/miniconda3/lib/python3.7/asyncio/streams.py\", line 679, in readexactly\n",
      "    await self._wait_for_data('readexactly')\n",
      "  File \"/Users/dennismacpro/miniconda3/lib/python3.7/asyncio/streams.py\", line 473, in _wait_for_data\n",
      "    await self._waiter\n",
      "concurrent.futures._base.CancelledError\n",
      "\n",
      "The above exception was the direct cause of the following exception:\n",
      "\n",
      "Traceback (most recent call last):\n",
      "  File \"<ipython-input-41-768be9d2a894>\", line 5, in call_api\n",
      "    response = await websocket.recv()\n",
      "  File \"/Users/dennismacpro/miniconda3/lib/python3.7/site-packages/websockets/legacy/protocol.py\", line 421, in recv\n",
      "    await self.ensure_open()\n",
      "  File \"/Users/dennismacpro/miniconda3/lib/python3.7/site-packages/websockets/legacy/protocol.py\", line 735, in ensure_open\n",
      "    raise self.connection_closed_exc()\n",
      "websockets.exceptions.ConnectionClosedError: code = 1006 (connection closed abnormally [internal]), no reason\n"
     ]
    }
   ],
   "source": [
    "loop.create_task(call_api(json.dumps(get_margins_msg)))"
   ]
  },
  {
   "cell_type": "code",
   "execution_count": 205,
   "metadata": {},
   "outputs": [],
   "source": [
    "buy_eth_perp_msg = \\\n",
    "{\n",
    "  \"jsonrpc\" : \"2.0\",\n",
    "  \"id\" : 5275,\n",
    "  \"method\" : \"private/buy\",\n",
    "  \"params\" : {\n",
    "    \"instrument_name\" : \"ETH-PERPETUAL\",\n",
    "    \"amount\" : 40,\n",
    "    \"type\" : \"market\",\n",
    "    \"label\" : \"market0000234\",\n",
    "    \"access_token\": '1659659732369.1OQBfcDj.522eFg0GiMUHIK2sqoqH8Q4pyTeYByHoKa933eUGOG7ntfbKY-i2NALvNFXP0e25Xkc5p_0OwPGnF_yHue4YJ06MiCLzsqBu1AzXO4viyl7XdDO_9K0ZmiInf3KTY933mmRPPm5HCDB4FPbPA5TLZKfzhS2FMpzAIlX5nSkV8fruwrf0LQe9S_z4FunRkxadu8QMtcK7AvevxiApC3EZoWVjoEZg-0vBXggzmr3FOyM1E8O_UO9V0hZkdVCy-ol1hc7pDhdI6sev_w3NT3YWg_GYnVLoLmUXGX4pmV31I_yaYvmmq_OvJNmjU4K5rujNHruEa56f'\n",
    "  }\n",
    "}"
   ]
  },
  {
   "cell_type": "code",
   "execution_count": 206,
   "metadata": {},
   "outputs": [
    {
     "data": {
      "text/plain": [
       "<Task pending coro=<call_api() running at <ipython-input-188-768be9d2a894>:1>>"
      ]
     },
     "execution_count": 206,
     "metadata": {},
     "output_type": "execute_result"
    },
    {
     "name": "stdout",
     "output_type": "stream",
     "text": [
      "{\"jsonrpc\":\"2.0\",\"id\":5275,\"error\":{\"message\":\"unauthorized\",\"code\":13009},\"usIn\":1628123797945498,\"usOut\":1628123797945755,\"usDiff\":257,\"testnet\":true}\n"
     ]
    }
   ],
   "source": [
    "loop.create_task(call_api(json.dumps(buy_eth_perp_msg)))"
   ]
  },
  {
   "cell_type": "code",
   "execution_count": 202,
   "metadata": {},
   "outputs": [],
   "source": [
    "async def call_private_api(msg,token):\n",
    "    header=\"Authorization: BEARER \" + str(token)\n",
    "    async with websockets.connect(url+'?access_token='+token) as websocket:\n",
    "        await websocket.send(msg)\n",
    "        while websocket.open:\n",
    "            response = await websocket.recv()\n",
    "            print(response)"
   ]
  },
  {
   "cell_type": "code",
   "execution_count": 203,
   "metadata": {},
   "outputs": [
    {
     "data": {
      "text/plain": [
       "<Task pending coro=<call_private_api() running at <ipython-input-202-9af80ad275cf>:1>>"
      ]
     },
     "execution_count": 203,
     "metadata": {},
     "output_type": "execute_result"
    },
    {
     "name": "stdout",
     "output_type": "stream",
     "text": [
      "{\"jsonrpc\":\"2.0\",\"id\":5275,\"error\":{\"message\":\"unauthorized\",\"code\":13009},\"usIn\":1628123772639918,\"usOut\":1628123772640192,\"usDiff\":274,\"testnet\":true}\n"
     ]
    }
   ],
   "source": [
    "loop.create_task(call_private_api(json.dumps(buy_eth_perp_msg),access_token))"
   ]
  },
  {
   "cell_type": "code",
   "execution_count": null,
   "metadata": {},
   "outputs": [],
   "source": []
  }
 ],
 "metadata": {
  "kernelspec": {
   "display_name": "Python 3",
   "language": "python",
   "name": "python3"
  },
  "language_info": {
   "codemirror_mode": {
    "name": "ipython",
    "version": 3
   },
   "file_extension": ".py",
   "mimetype": "text/x-python",
   "name": "python",
   "nbconvert_exporter": "python",
   "pygments_lexer": "ipython3",
   "version": "3.7.6"
  }
 },
 "nbformat": 4,
 "nbformat_minor": 4
}
