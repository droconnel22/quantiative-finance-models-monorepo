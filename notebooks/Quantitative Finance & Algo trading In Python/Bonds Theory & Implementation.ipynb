{
 "cells": [
  {
   "cell_type": "markdown",
   "metadata": {},
   "source": [
    "## Zero Coupon Bonds\n",
    "\n",
    "\n",
    "\n",
    "\n",
    "![Zero](./images/bond_image_2.png)\n",
    "\n",
    "![Maturity Date](./images/bond_image_3.png)\n",
    "\n",
    "![Maturity Date](./images/bond_image_4.png)\n",
    "\n",
    "![Maturity Date](./images/bond_image_5.png)\n",
    "\n",
    "![Maturity Date](./images/bond_image_6.png)"
   ]
  },
  {
   "cell_type": "code",
   "execution_count": 10,
   "metadata": {},
   "outputs": [
    {
     "data": {
      "text/plain": [
       "90.9090909090909"
      ]
     },
     "execution_count": 10,
     "metadata": {},
     "output_type": "execute_result"
    }
   ],
   "source": [
    "# x is the principal amount\n",
    "x = 1000\n",
    "r = 0.10\n",
    "c = 100\n",
    "t = 1\n",
    "payment = c/((1+r) ** t)\n",
    "payment"
   ]
  },
  {
   "cell_type": "code",
   "execution_count": 11,
   "metadata": {},
   "outputs": [
    {
     "name": "stdout",
     "output_type": "stream",
     "text": [
      "Period:1, Payment: 90.9090909090909 \n",
      "Period:2, Payment: 82.64462809917354 \n",
      "Period:3, Payment: 75.13148009015775 \n"
     ]
    }
   ],
   "source": [
    "for t in range(1,4):\n",
    "    payment =  c / ((1+r) ** t)\n",
    "    print(f\"Period:{t}, Payment: {payment} \" )"
   ]
  },
  {
   "cell_type": "markdown",
   "metadata": {},
   "source": [
    "![Maturity Date](./images/bond_image_7.png)\n",
    "![Maturity Date](./images/bond_image_8.png)"
   ]
  },
  {
   "cell_type": "markdown",
   "metadata": {},
   "source": [
    "## Yield to Maturity\n",
    "![Maturity Date](./images/bond_image_9.png)\n",
    "![Maturity Date](./images/bond_image_10.png)\n",
    "\n",
    "Note for zero coupon bond C(i) is zero so we only have to deal with the right hand function Pe^(-y*dt)\n",
    "This also assumes continous compounding\n",
    "\n",
    "\n",
    "![Maturity Date](./images/bond_image_11.png)\n",
    "\n",
    "\n",
    "![Maturity Date](./images/bond_image_12.png)"
   ]
  },
  {
   "cell_type": "markdown",
   "metadata": {},
   "source": [
    "\n",
    "## Interest Rate Risk\n",
    "![Maturity Date](./bond_image_13.png)\n",
    "\n",
    "Some Notes\n",
    "\n",
    "- The value and prices of bond and the market interest rates are negatively correlated\n",
    "- if there is a high market interest the value and price of the bond is low\n",
    "- if the market interest rate is low the price and value of the bond is high\n",
    "- when the cost of borrowing money from a bank rises bond prices usually fall\n",
    "- market interest rate is so import in ME, control the price and value of the bonds\n",
    "- if the market interest rate is high enough, better to lend to bank then buying bonds\n",
    "- if there is a higher interest rate (r) then the price will be lower so prinicipel x will be smaller\n",
    "\n",
    "![Maturity Date](./images/bond_image_14.png)\n",
    "\n",
    "![Maturity Date](./images/bond_image_15.png)\n",
    "\n",
    "![Maturity Date](./images/bond_image_16.png)"
   ]
  },
  {
   "cell_type": "markdown",
   "metadata": {},
   "source": [
    "## Risks With Bonds\n",
    "\n",
    "![Maturity Date](./images/bond_image_17.png)"
   ]
  },
  {
   "cell_type": "code",
   "execution_count": 13,
   "metadata": {},
   "outputs": [],
   "source": [
    "import numpy as np\n",
    "import pandas as pd\n",
    "import matplotlib as plt"
   ]
  },
  {
   "cell_type": "code",
   "execution_count": 23,
   "metadata": {},
   "outputs": [],
   "source": [
    "class ZeroCouponBonds:\n",
    "    def __init__(self, principal, maturity, interest_rate):\n",
    "        self.principal = principal\n",
    "        # date to maturity\n",
    "        self.maturity = maturity\n",
    "        #market related interest rate for discounting\n",
    "        self.interest_rate = interest_rate / 100\n",
    "        \n",
    "    # calculate the present value of the future cashflow\n",
    "    # zero coupon n is the same as time to maturity as it is a single future payment only\n",
    "    def present_value(self,x,n=1):\n",
    "        # n = 1 is the first period\n",
    "        return x / ( (1+self.interest_rate) ** n)\n",
    "    \n",
    "    def calculate_price(self):\n",
    "        return round(self.present_value(self.principal, self.maturity),2)\n",
    "        \n",
    "        "
   ]
  },
  {
   "cell_type": "code",
   "execution_count": 24,
   "metadata": {},
   "outputs": [
    {
     "name": "stdout",
     "output_type": "stream",
     "text": [
      "Calculate price $924.56\n"
     ]
    }
   ],
   "source": [
    "# Zero coupon bond example\n",
    "prinicpal = 1000 # amount in $\n",
    "maturity = 2 # years\n",
    "interest_rate = 4 # 4%\n",
    "zb = ZeroCouponBonds(prinicpal, maturity, interest_rate)\n",
    "print(f\"Calculate price ${zb.calculate_price()}\")"
   ]
  },
  {
   "cell_type": "code",
   "execution_count": 30,
   "metadata": {},
   "outputs": [],
   "source": [
    "# Coupon Bonds - Assume a fixed interest rate\n",
    "\n",
    "class CouponBonds:\n",
    "    def __init__(self, principal, interest_rate, maturity,market_interest_rate):\n",
    "        self.principal = principal\n",
    "        self.interest_rate = interest_rate / 100\n",
    "        self.maturity = maturity\n",
    "        self.market_interest_rate = market_interest_rate / 100\n",
    "    \n",
    "    def present_value(self, x, n):\n",
    "        return x / ( (1 + self.market_interest_rate) ** n)\n",
    "    \n",
    "    def calculate_price(self):\n",
    "        \n",
    "        price = 0\n",
    "        \n",
    "        # discount the coupon payments\n",
    "        for t in range(1, self.maturity+1):\n",
    "            # c / (1 + r)\n",
    "            price += self.present_value(self.principal * self.interest_rate, t)\n",
    "            \n",
    "        \n",
    "        # discount the present value of the principal amount\n",
    "        # c ( 1 + r) ^ n + x (1 + r)^ n\n",
    "        price += self.present_value(self.principal, self.maturity)\n",
    "        \n",
    "        return round(price,2)"
   ]
  },
  {
   "cell_type": "code",
   "execution_count": 31,
   "metadata": {},
   "outputs": [
    {
     "name": "stdout",
     "output_type": "stream",
     "text": [
      "Calculate price $1166.51\n"
     ]
    }
   ],
   "source": [
    "principal = 1000\n",
    "coupon_interest_rate = 10\n",
    "maturity = 3\n",
    "market_interest_rate = 4\n",
    "\n",
    "coupon_bond = CouponBonds(principal, coupon_interest_rate, maturity, market_interest_rate)\n",
    "print(f\"Calculate price ${coupon_bond.calculate_price()}\")\n"
   ]
  },
  {
   "cell_type": "markdown",
   "metadata": {},
   "source": [
    "![Maturity Date](./images/bond_image_10.png)\n",
    "\n",
    "**for some reason i think y here is the market interest rate**"
   ]
  },
  {
   "cell_type": "code",
   "execution_count": 40,
   "metadata": {},
   "outputs": [],
   "source": [
    "# Continous Compounding Coupon Bonds - Assume Fixed Interest Rate\n",
    "\n",
    "class ContinousCompoundCouponBonds:\n",
    "    def __init__(self, principal, interest_rate, maturity,market_interest_rate):\n",
    "        self.principal = principal\n",
    "        self.interest_rate = interest_rate / 100\n",
    "        self.maturity = maturity\n",
    "        self.market_interest_rate = market_interest_rate / 100\n",
    "    \n",
    "    def present_value(self, x, n):\n",
    "        return x / ( np.exp(-1* self.market_interest_rate*n) )\n",
    "    \n",
    "    def calculate_price(self):\n",
    "        \n",
    "        price = 0\n",
    "        \n",
    "        # discount the coupon payments\n",
    "        for t in range(1, self.maturity+1):\n",
    "            # c / (e^ RT)\n",
    "            price += self.present_value(self.principal * self.interest_rate, t)\n",
    "            \n",
    "        \n",
    "        # discount the present value of the principal amount\n",
    "        # c ( 1 + r) ^ n + x (e ^ Rn)\n",
    "        price += self.present_value(self.principal, self.maturity)\n",
    "        \n",
    "        return round(price,2)"
   ]
  },
  {
   "cell_type": "code",
   "execution_count": 41,
   "metadata": {},
   "outputs": [
    {
     "name": "stdout",
     "output_type": "stream",
     "text": [
      "Calculate price $1452.66\n"
     ]
    }
   ],
   "source": [
    "principal = 1000\n",
    "coupon_interest_rate = 10\n",
    "maturity = 3\n",
    "market_interest_rate = 4\n",
    "\n",
    "continous_coupon_bond = ContinousCompoundCouponBonds(principal, coupon_interest_rate, maturity, market_interest_rate)\n",
    "print(f\"Calculate price ${continous_coupon_bond.calculate_price()}\")"
   ]
  },
  {
   "cell_type": "code",
   "execution_count": null,
   "metadata": {},
   "outputs": [],
   "source": []
  }
 ],
 "metadata": {
  "kernelspec": {
   "display_name": "Python 3",
   "language": "python",
   "name": "python3"
  },
  "language_info": {
   "codemirror_mode": {
    "name": "ipython",
    "version": 3
   },
   "file_extension": ".py",
   "mimetype": "text/x-python",
   "name": "python",
   "nbconvert_exporter": "python",
   "pygments_lexer": "ipython3",
   "version": "3.7.6"
  }
 },
 "nbformat": 4,
 "nbformat_minor": 4
}
