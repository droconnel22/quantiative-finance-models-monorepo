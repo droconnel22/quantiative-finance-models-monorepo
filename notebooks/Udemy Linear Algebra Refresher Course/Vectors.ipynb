{
 "cells": [
  {
   "cell_type": "markdown",
   "metadata": {},
   "source": [
    "## Magnitude & Direction\n",
    "\n",
    "Normalization: the process of finding a unit vector in the same direction as a given vector.\n",
    "\n",
    "A unit vector is a magnitue of 1, and \n",
    "\n",
    "Normalize \n",
    "\n",
    "(1 / ||v||)*v\n",
    "\n",
    "sqrt(-1^2+1^2+1^2)\n",
    "\n",
    "computing its magnitude will reveal if its a unit vector\n",
    "\n",
    "1/3 + 1/3 + 1/3 = 1\n",
    "\n",
    "zero vector is a vector will all units as 0, magnitude is 0, normalize\n"
   ]
  },
  {
   "cell_type": "code",
   "execution_count": 220,
   "metadata": {},
   "outputs": [],
   "source": [
    "import math\n",
    "from decimal import Decimal, getcontext\n",
    "\n",
    "getcontext().prec = 30\n",
    "\n",
    "class Vector(object):\n",
    "    \n",
    "    CANNOT_NORMALIZE_ZERO_VECTOR_MSG = \"Cannot normalize the zero vector\"\n",
    "    \n",
    "    def __init__(self, coordinates):\n",
    "        try:\n",
    "            if not coordinates:\n",
    "                raise ValueError\n",
    "            self.coordinates = tuple(Decimal(x) for x in coordinates)\n",
    "            self.dimension = len(coordinates)\n",
    "\n",
    "        except ValueError:\n",
    "            raise ValueError('The coordinates must be nonempty')\n",
    "\n",
    "        except TypeError:\n",
    "            raise TypeError('The coordinates must be an iterable')\n",
    "\n",
    "\n",
    "    def __str__(self):\n",
    "        return 'Vector: {}'.format(self.coordinates)\n",
    "\n",
    "\n",
    "    def __eq__(self, v):\n",
    "        return self.coordinates == v.coordinates\n",
    "    \n",
    "    def plus(self,v):\n",
    "        new_coordinates = [x+y for x, y in zip(self.coordinates,v.coordinates)]\n",
    "        return Vector(new_coordinates)\n",
    "    \n",
    "    def minus(self,v):\n",
    "        return Vector([x-y for x,y in zip(self.coordinates, v.coordinates)])\n",
    "    \n",
    "    def times_scalar(self, c):\n",
    "        return Vector([Decimal(c)*x for x in self.coordinates])\n",
    "    \n",
    "    def magnitude(self):\n",
    "        return Decimal(math.sqrt(sum([x**2 for x in self.coordinates])))\n",
    "    \n",
    "    def normalize(self):\n",
    "        try:\n",
    "            return self.times_scalar(Decimal('1.0') / self.magnitude())\n",
    "        except ZeroDivisionError:\n",
    "            raise Exeception(self.CANNOT_NORMALIZE_ZERO_VECTOR_MSG)\n",
    "        \n",
    "            \n",
    "    def dot_product(self,w):\n",
    "        return float(\"{:.3f}\".format(sum([x*y for x, y in zip(self.coordinates,w.coordinates)])))\n",
    "    \n",
    "    def angle_with(self,w,inDegrees=False):   \n",
    "        try:\n",
    "            u1 = self.normalize()\n",
    "            u2 = w.normalize()\n",
    "            theta_in_radians = math.acos(u1.dot_product(u2))\n",
    "            if inDegrees:\n",
    "                degrees_per_radian = 189. / math.pi\n",
    "                return theta_in_radians * degrees_per_radian\n",
    "            else:\n",
    "                return theta_in_radians\n",
    "        except Exception as e:\n",
    "            raise e\n",
    "            \n",
    "    def check_orthogonal(self,w,tolerance=1e-10):\n",
    "        return abs(self.dot_product(w)) < tolerance\n",
    "    \n",
    "    def is_zero(self, tolerance=1e-10):\n",
    "        return self.magnitude() < tolerance\n",
    "    \n",
    "    def check_parallel(self,w):\n",
    "        return (self.is_zero() or \n",
    "                w.is_zero() or \n",
    "                self.angle_with(w) == 0 or \n",
    "                self.angle_with(w) == math.pi)\n",
    "    \n",
    "    def x(self,w):\n",
    "        try:\n",
    "            assert self.dimension == 3 and w.dimension == 3\n",
    "            x1 = self.coordinates[0]\n",
    "            y1 = self.coordinates[1]\n",
    "            z1 = self.coordinates[2]\n",
    "            \n",
    "            x2 = w.coordinates[0]\n",
    "            y2 = w.coordinates[1]\n",
    "            z2 = w.coordinates[2]\n",
    "            \n",
    "            a = y1*z2 - y2*z1\n",
    "            b = -(x1*z2 - x2*z1)\n",
    "            c = x1*y2 - x2*y1\n",
    "            return Vector([a,b,c])        \n",
    "        except ZeroDivisionError:\n",
    "            raise Exeception(self.CANNOT_NORMALIZE_ZERO_VECTOR_MSG)\n",
    "            \n",
    "    def get_parallelogram_area(self,w):\n",
    "        cross_product_vector = self.x(w)\n",
    "        return math.sqrt(sum([x**2 for x in cross_product_vector.coordinates]))\n",
    "    \n",
    "    def get_triangle_area(self,w):\n",
    "        cross_product_vector = self.x(w)\n",
    "        return 0.5*math.sqrt(sum([x**2 for x in cross_product_vector.coordinates]))\n",
    "    "
   ]
  },
  {
   "cell_type": "code",
   "execution_count": 207,
   "metadata": {},
   "outputs": [
    {
     "data": {
      "text/plain": [
       "Decimal('7.4402829247280646285389593685977160930633544921875')"
      ]
     },
     "execution_count": 207,
     "metadata": {},
     "output_type": "execute_result"
    }
   ],
   "source": [
    "p1 = [-0.221, 7.437]\n",
    "v1 = Vector(p1)\n",
    "v1.magnitude()"
   ]
  },
  {
   "cell_type": "code",
   "execution_count": 208,
   "metadata": {},
   "outputs": [
    {
     "data": {
      "text/plain": [
       "Decimal('10.8841875672922885343041343730874359607696533203125')"
      ]
     },
     "execution_count": 208,
     "metadata": {},
     "output_type": "execute_result"
    }
   ],
   "source": [
    "p2 = [8.813,-1.331,-6.247]\n",
    "v2 = Vector(p2)\n",
    "v2.magnitude()"
   ]
  },
  {
   "cell_type": "code",
   "execution_count": 209,
   "metadata": {},
   "outputs": [
    {
     "data": {
      "text/plain": [
       "(Decimal('0.9339352140866402951305391471'),\n",
       " Decimal('-0.3574423252623299835949640556'))"
      ]
     },
     "execution_count": 209,
     "metadata": {},
     "output_type": "execute_result"
    }
   ],
   "source": [
    "p3 = [5.581,-2.136]\n",
    "v3 = Vector(p3)\n",
    "v3a = v3.normalize()\n",
    "v3a.coordinates"
   ]
  },
  {
   "cell_type": "code",
   "execution_count": 210,
   "metadata": {},
   "outputs": [
    {
     "data": {
      "text/plain": [
       "(Decimal('0.3404012959433013535371710457'),\n",
       " Decimal('0.5300437012984872952550232004'),\n",
       " Decimal('-0.7766470449528028350089956868'))"
      ]
     },
     "execution_count": 210,
     "metadata": {},
     "output_type": "execute_result"
    }
   ],
   "source": [
    "p4 = [1.996,3.108,-4.554]\n",
    "v4 = Vector(p4)\n",
    "v4a = v4.normalize()\n",
    "v4a.coordinates"
   ]
  },
  {
   "cell_type": "markdown",
   "metadata": {},
   "source": [
    "# Inner Products"
   ]
  },
  {
   "cell_type": "code",
   "execution_count": 211,
   "metadata": {},
   "outputs": [
    {
     "data": {
      "text/plain": [
       "-41.382"
      ]
     },
     "execution_count": 211,
     "metadata": {},
     "output_type": "execute_result"
    }
   ],
   "source": [
    "v1 = Vector([7.887,4.138])\n",
    "w1 = Vector([-8.802,6.776])\n",
    "v1.dot_product(w1)"
   ]
  },
  {
   "cell_type": "code",
   "execution_count": 212,
   "metadata": {},
   "outputs": [
    {
     "data": {
      "text/plain": [
       "56.397"
      ]
     },
     "execution_count": 212,
     "metadata": {},
     "output_type": "execute_result"
    }
   ],
   "source": [
    "v2 = Vector([-5.955,-4.904,-1.874])\n",
    "w2 = Vector([-4.496,-8.755,7.103])\n",
    "v2.dot_product(w2)"
   ]
  },
  {
   "cell_type": "code",
   "execution_count": 213,
   "metadata": {},
   "outputs": [
    {
     "data": {
      "text/plain": [
       "3.07833655471465"
      ]
     },
     "execution_count": 213,
     "metadata": {},
     "output_type": "execute_result"
    }
   ],
   "source": [
    "v3 = Vector([3.183,-7.627])\n",
    "w3 = Vector([-2.668,5.319])\n",
    "v3.angle_with(w3)"
   ]
  },
  {
   "cell_type": "code",
   "execution_count": 214,
   "metadata": {},
   "outputs": [
    {
     "data": {
      "text/plain": [
       "63.27750123706954"
      ]
     },
     "execution_count": 214,
     "metadata": {},
     "output_type": "execute_result"
    }
   ],
   "source": [
    "v4 = Vector([7.35,0.221,5.188])\n",
    "w4 = Vector([2.751,8.259,3.985])\n",
    "v4.angle_with(w4,True)"
   ]
  },
  {
   "cell_type": "markdown",
   "metadata": {},
   "source": [
    "# Orthogonal and Parallel\n"
   ]
  },
  {
   "cell_type": "code",
   "execution_count": 215,
   "metadata": {},
   "outputs": [
    {
     "data": {
      "text/plain": [
       "(False, True)"
      ]
     },
     "execution_count": 215,
     "metadata": {},
     "output_type": "execute_result"
    }
   ],
   "source": [
    "v1 = Vector([-7.579,-7.88])\n",
    "w1 = Vector([22.737,23.64])\n",
    "v1.check_orthogonal(w1), v1.check_parallel(w1)"
   ]
  },
  {
   "cell_type": "code",
   "execution_count": 216,
   "metadata": {},
   "outputs": [
    {
     "data": {
      "text/plain": [
       "(False, False)"
      ]
     },
     "execution_count": 216,
     "metadata": {},
     "output_type": "execute_result"
    }
   ],
   "source": [
    "v2 = Vector([-2.029,9.97,4.172])\n",
    "w2 = Vector([-9.231,-6.639,-7.245])\n",
    "v2.check_parallel(w2), v2.check_orthogonal(w2)"
   ]
  },
  {
   "cell_type": "code",
   "execution_count": 217,
   "metadata": {},
   "outputs": [
    {
     "data": {
      "text/plain": [
       "(False, False)"
      ]
     },
     "execution_count": 217,
     "metadata": {},
     "output_type": "execute_result"
    }
   ],
   "source": [
    "v3 = Vector([-2.328,-7.284,-1.214])\n",
    "w3 = Vector([-1.821,1.072,-2.94])\n",
    "v3.check_parallel(w3), v2.check_orthogonal(w3)"
   ]
  },
  {
   "cell_type": "markdown",
   "metadata": {},
   "source": [
    "# Cross Products\n"
   ]
  },
  {
   "cell_type": "code",
   "execution_count": 224,
   "metadata": {},
   "outputs": [
    {
     "data": {
      "text/plain": [
       "((Decimal('-11.20457099999999773371683886'),\n",
       "  Decimal('-97.60944399999999084633373058'),\n",
       "  Decimal('-105.6851619999999939140451488')),\n",
       " True,\n",
       " True,\n",
       " Decimal('144.300032696633223849858040921390056610107421875'),\n",
       " Decimal('72.15001634831661192492902046'))"
      ]
     },
     "execution_count": 224,
     "metadata": {},
     "output_type": "execute_result"
    }
   ],
   "source": [
    "v1 = Vector([8.462,7.893,-8.187])\n",
    "w1 = Vector([6.984,-5.975,4.778])\n",
    "c1 = v1.x(w1)\n",
    "\n",
    "c1.coordinates, v1.check_orthogonal(c1),w1.check_orthogonal(c1),c1.magnitude(),Decimal('0.5')*c1.magnitude()"
   ]
  },
  {
   "cell_type": "code",
   "execution_count": 230,
   "metadata": {},
   "outputs": [
    {
     "data": {
      "text/plain": [
       "((Decimal('96.58639899999998883186513865'),\n",
       "  Decimal('-101.1510499999999954761520371'),\n",
       "  Decimal('-25.26377699999999444227150036')),\n",
       " Decimal('142.1222214018463319007423706352710723876953125'),\n",
       " True,\n",
       " True)"
      ]
     },
     "execution_count": 230,
     "metadata": {},
     "output_type": "execute_result"
    }
   ],
   "source": [
    "# area of parallogram\n",
    "v2 = Vector([-8.987,-9.838,5.031])\n",
    "w2 = Vector([-4.268,-1.861,-8.866])\n",
    "c2 = v2.x(w2)\n",
    "c2.coordinates, c2.magnitude(), v2.check_orthogonal(c2), w2.check_orthogonal(c2)"
   ]
  },
  {
   "cell_type": "code",
   "execution_count": null,
   "metadata": {},
   "outputs": [],
   "source": []
  }
 ],
 "metadata": {
  "kernelspec": {
   "display_name": "Python 3",
   "language": "python",
   "name": "python3"
  },
  "language_info": {
   "codemirror_mode": {
    "name": "ipython",
    "version": 3
   },
   "file_extension": ".py",
   "mimetype": "text/x-python",
   "name": "python",
   "nbconvert_exporter": "python",
   "pygments_lexer": "ipython3",
   "version": "3.7.6"
  }
 },
 "nbformat": 4,
 "nbformat_minor": 4
}
