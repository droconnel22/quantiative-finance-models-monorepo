{
 "cells": [
  {
   "cell_type": "markdown",
   "metadata": {},
   "source": [
    "# Common Types of Trading Algos\n",
    "\n",
    "This is a short overview of common types of quantitative finance alos that are traded today. Of course this is only an overview and not comprehensive.\n",
    "\n",
    "## Momentum\n",
    "#### The Trend Is Your Friend\n",
    "\n",
    "Momentum investing looks for the market trend to move significantly in one direction on high volume and join the parade.\n",
    "A simple example of this strategy is to buy a stock when the recent price is above a moving average and sell it when it's below the moving average.  A simple strategy is to rank the sectors and buy the top stocks when their trailing moving average exceeds a threshold. See example strategy.\n",
    "https://www.quantopian.com/posts/mebane-faber-relative-strength-strategy-with-ma-rule, https://www.quantopian.com/posts/long-slash-short-cross-sectional-momentum\n",
    "\n",
    "## Mean Reversion\n",
    "#### What goes up must come down\n",
    "Mean reversion investors assume that the price of the stock will over time revert back to its long-time average price.  They use stock price analysis to determine the trading bounds of statistical significance.\n",
    "https://www.quantopian.com/posts/ernie-chans-ewa-slash-ewc-pair-trading, https://www.quantopian.com/posts/trading-strategy-mean-reversion\n",
    "\n",
    "## Valuation\n",
    "#### Bargain Shopping\n",
    "Valuation strategies use fundamental analysis to identify stocks trading at a discount (or premium) and buy (or sell) them accordingly. Investors determine the fundamental value of the stock and compare to its market price.\n",
    "\n",
    "They scrutinize companies' financial statements for the revenue, gross margin, operating cash flow, EBITDA, pro forma earnings to name a few.  In a simple example, investors can use the price to earnings ratio as a proxy for value where low P/E looks ‘cheap’ and high P/E looks ‘expensive'. They can continue to rank a universe 1-100 based on the P/E ratio and take either of two positions: Long only or market neutral. In a long only strategy, the investor buys the bottom decile, which is the lowest P/E segment. The market neutral strategy will buy the bottom decile while simultaneously selling the top decile. \n",
    "https://www.quantopian.com/posts/using-the-fetcher-with-quandl\n",
    "\n",
    "### 7 Best Value Investing Algos to try\n",
    "1. https://www.quantopian.com/posts/grahamfundmantals-algo-simple-screening-on-benjamin-graham-number-fundamentals\n",
    "2. https://www.quantopian.com/posts/patrick-oshaughnessys-millennial-money-value-investing-algorithm-number-fundamentals\n",
    "3. https://www.quantopian.com/posts/using-number-fundamentals-growth-ranking-for-healthy-growth-stock-picking-strategy\n",
    "4. https://www.quantopian.com/posts/do-growth-stocks-beat-the-market\n",
    "5. https://www.quantopian.com/posts/fundamental-algo-inspired-by-benjamin-graham\n",
    "6. https://www.quantopian.com/posts/using-number-fundamentals-to-identify-uptrending-volatile-small-caps\n",
    "7. https://www.quantopian.com/posts/a-quantitative-value-investing-strategy-using-fundamental-data\n",
    "\n",
    "## Seasonality\n",
    "#### Sell in May and go away\n",
    "Investors create strategies that depend on the time of year.  It's well documented that markets tend of have better returns at the end of the year and during the summer months, while September is usually a month with lower returns.  In order to avoid capital loss, some investors choose to sell their positions with losses at the end of December to benefit from tax leniency. A simple strategy is to buy and hold equities (SPY) from October - April and then rotate to buy and hold bonds (BSV) from May - September. \n",
    "https://www.quantopian.com/posts/time-to-sell-in-may-and-go-away\n",
    "\n",
    "## Sentiment\n",
    "#### By the rumor sell the news\n",
    "Sentiment Analysis trading derives from crowd psychology, where investors stay up-to-date on recent news and purchase stocks predict the crowd's reaction. They attempt to capture short term price changes and reap the quick benefits. Investors may monitor sources including Google search trends, media outlets, blogs/forums, and Twitter posts. \n",
    "https://www.quantopian.com/posts/google-search-terms-predict-market-movements\n",
    "\n",
    "## Fundamental Investing\n",
    "This is a way of evaluating the true intrinsic value of a stock by examining macro-level factors such as econonmic indicators, industry and sector comparisons, and analyzing company's financial statements. The calculations derived from real data attempt to model the stock's true value, which is then compared to the  stock's market price - driving the decision to buy or sell. Example data points for fundamental analysis include companies revenues, earnings, future growth, return on equity, and profit margins.\n",
    "\n",
    "## Technical Investing\n",
    "This method examines past market activity for changes in the stock's price and volume, believing that historical performance is indicative of future results.This style of investing does not analyze the intrisic value of the stock, but rather the future movement of the security. \n",
    "\n",
    "#### Investors use charts, statistics, and other tools to discover patterns in the data to predict future price movements.\n",
    "https://ta-lib.org/\n"
   ]
  },
  {
   "cell_type": "code",
   "execution_count": null,
   "metadata": {},
   "outputs": [],
   "source": []
  }
 ],
 "metadata": {
  "kernelspec": {
   "display_name": "Python 3",
   "language": "python",
   "name": "python3"
  },
  "language_info": {
   "codemirror_mode": {
    "name": "ipython",
    "version": 3
   },
   "file_extension": ".py",
   "mimetype": "text/x-python",
   "name": "python",
   "nbconvert_exporter": "python",
   "pygments_lexer": "ipython3",
   "version": "3.7.6"
  }
 },
 "nbformat": 4,
 "nbformat_minor": 4
}
