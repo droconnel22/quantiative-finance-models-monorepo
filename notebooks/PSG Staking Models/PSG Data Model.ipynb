{
 "cells": [
  {
   "cell_type": "code",
   "execution_count": 1,
   "metadata": {},
   "outputs": [],
   "source": [
    "import os\n",
    "import requests"
   ]
  },
  {
   "cell_type": "code",
   "execution_count": 83,
   "metadata": {},
   "outputs": [],
   "source": [
    "binace_interval = [\"1m\",\"3m\",\"5m\",\"15m\",\"30m\",\"1h\",\"2h\",\"4h\",\"6h\",\"8h\",\"12h\",\"1d\",\"3d\",\"1w\",\"1M\"]\n",
    "\n",
    "\n",
    "BINANCE_URL_BASE = os.getenv(\"BINANCE_URL_BASE\") or \"https://dapi.binance.com\"\n",
    "\n",
    "def make_public_get_request(endpoint_url):\n",
    "    try:\n",
    "        headers = {\n",
    "            \"Content-Type\": \"application/json\"\n",
    "        }\n",
    "        request_url = f\"{BINANCE_URL_BASE}{endpoint_url}\"\n",
    "        raw_response = requests.get(request_url,headers=headers)\n",
    "        json_response = raw_response.json()\n",
    "        return json_response\n",
    "    except Exception as e:\n",
    "        print(e)\n",
    "        logging.error(e)  \n",
    "\n",
    "\n",
    "def get_data_from_binance(symbol=\"BTCUSD_PERP\",interval=\"15m\",limit=1):\n",
    "    \"\"\"\n",
    "            [\n",
    "        [\n",
    "            1591258320000,          // Open time\n",
    "            \"9640.7\",               // Open\n",
    "            \"9642.4\",               // High\n",
    "            \"9640.6\",               // Low\n",
    "            \"9642.0\",               // Close (or latest price)\n",
    "            \"206\",                  // Volume\n",
    "            1591258379999,          // Close time\n",
    "            \"2.13660389\",           // Base asset volume\n",
    "            48,                     // Number of trades\n",
    "            \"119\",                  // Taker buy volume\n",
    "            \"1.23424865\",           // Taker buy base asset volume\n",
    "            \"0\"                     // Ignore.\n",
    "        ]\n",
    "        ]\n",
    "                1m\n",
    "                3m\n",
    "                5m\n",
    "                15m\n",
    "                30m\n",
    "                1h\n",
    "                2h\n",
    "                4h\n",
    "                6h\n",
    "                8h\n",
    "                12h\n",
    "                1d\n",
    "                3d\n",
    "                1w\n",
    "                1M\n",
    "    Args:\n",
    "        limit (int, optional): _description_. Defaults to 1.\n",
    "    \"\"\"\n",
    "    try:\n",
    "       \n",
    "        CANDLESTICK_INFO_URL=f\"/dapi/v1/klines?symbol={symbol}&interval={interval}&limit={limit}\"\n",
    "        candle_sticks = make_public_get_request(CANDLESTICK_INFO_URL)\n",
    "        results = []\n",
    "        for item in candle_sticks:\n",
    "            results.append(item[:6])\n",
    "        return results\n",
    "    except Exception as e:\n",
    "        print(e)\n",
    "        \n",
    "def write_to_csv(file_name, candle_sticks):\n",
    "    try:\n",
    "        \"\"\"\n",
    "        [\n",
    "            [\n",
    "                1591258320000,          // Open time\n",
    "                \"9640.7\",               // Open\n",
    "                \"9642.4\",               // High\n",
    "                \"9640.6\",               // Low\n",
    "                \"9642.0\",               // Close (or latest price)\n",
    "                \"206\",                  // Volume\n",
    "                1591258379999,          // Close time\n",
    "                \"2.13660389\",           // Base asset volume\n",
    "                48,                     // Number of trades\n",
    "                \"119\",                  // Taker buy volume\n",
    "                \"1.23424865\",           // Taker buy base asset volume\n",
    "                \"0\"                     // Ignore.\n",
    "            ]\n",
    "        ]\n",
    "        \"\"\"\n",
    "        csv_file = open(f\"./data/{file_name}.csv\",\"w\")\n",
    "        titles = [\"date\",\"open\",\"high\",\"low\",\"close\",\"volume\"]\n",
    "        csv_file.write(f\"{','.join(titles)}\\n\")\n",
    "        for item in candle_sticks:\n",
    "            #print(','.join([str(i) for i in item]))\n",
    "            csv_file.write(f\"{','.join([str(i) for i in item])}\\n\")\n",
    "        csv_file.close()\n",
    "    except Exception as e:\n",
    "        print(e)\n",
    "    \n",
    "    "
   ]
  },
  {
   "cell_type": "code",
   "execution_count": 84,
   "metadata": {},
   "outputs": [],
   "source": [
    "symbol = \"ETHUSD_PERP\"\n",
    "interval = \"1d\"\n",
    "limit = 500\n",
    "candle_sticks = get_data_from_binance(symbol,interval,limit)\n",
    "file_name = \"eth_1d_365\"\n",
    "write_to_csv(file_name, candle_sticks)"
   ]
  },
  {
   "cell_type": "code",
   "execution_count": 85,
   "metadata": {},
   "outputs": [],
   "source": [
    "symbol = \"FTMUSD_PERP\"\n",
    "interval = \"1d\"\n",
    "limit = 500\n",
    "candle_sticks = get_data_from_binance(symbol,interval,limit)\n",
    "file_name = \"ftm_1d_365\"\n",
    "write_to_csv(file_name, candle_sticks)"
   ]
  },
  {
   "cell_type": "code",
   "execution_count": 86,
   "metadata": {},
   "outputs": [],
   "source": [
    "symbol = \"SOLUSD_PERP\"\n",
    "interval = \"1d\"\n",
    "limit = 500\n",
    "candle_sticks = get_data_from_binance(symbol,interval,limit)\n",
    "file_name = \"sol_1d_365\"\n",
    "write_to_csv(file_name, candle_sticks)"
   ]
  },
  {
   "cell_type": "code",
   "execution_count": 87,
   "metadata": {},
   "outputs": [],
   "source": [
    "symbol = \"AVAXUSD_PERP\"\n",
    "interval = \"1d\"\n",
    "limit = 500\n",
    "candle_sticks = get_data_from_binance(symbol,interval,limit)\n",
    "file_name = \"avax_1d_365\"\n",
    "write_to_csv(file_name, candle_sticks)"
   ]
  },
  {
   "cell_type": "code",
   "execution_count": 88,
   "metadata": {},
   "outputs": [],
   "source": [
    "symbol = \"LUNAUSD_PERP\"\n",
    "interval = \"1d\"\n",
    "limit = 500\n",
    "candle_sticks = get_data_from_binance(symbol,interval,limit)\n",
    "file_name = \"luna_1d_365\"\n",
    "write_to_csv(file_name, candle_sticks)"
   ]
  },
  {
   "cell_type": "code",
   "execution_count": 89,
   "metadata": {},
   "outputs": [],
   "source": [
    "symbol = \"NEARUSD_PERP\"\n",
    "interval = \"1d\"\n",
    "limit = 500\n",
    "candle_sticks = get_data_from_binance(symbol,interval,limit)\n",
    "file_name = \"near_1d_365\"\n",
    "write_to_csv(file_name, candle_sticks)"
   ]
  },
  {
   "cell_type": "code",
   "execution_count": 90,
   "metadata": {},
   "outputs": [],
   "source": [
    "symbol = \"ETHUSD_PERP\"\n",
    "interval = \"4h\"\n",
    "limit = 500\n",
    "candle_sticks = get_data_from_binance(symbol,interval,limit)\n",
    "file_name = \"eth_4h_365\"\n",
    "write_to_csv(file_name, candle_sticks)"
   ]
  },
  {
   "cell_type": "code",
   "execution_count": 91,
   "metadata": {},
   "outputs": [],
   "source": [
    "symbol = \"FTMUSD_PERP\"\n",
    "interval = \"4h\"\n",
    "limit = 500\n",
    "candle_sticks = get_data_from_binance(symbol,interval,limit)\n",
    "file_name = \"ftm_4h_365\"\n",
    "write_to_csv(file_name, candle_sticks)"
   ]
  },
  {
   "cell_type": "code",
   "execution_count": 92,
   "metadata": {},
   "outputs": [],
   "source": [
    "symbol = \"SOLUSD_PERP\"\n",
    "interval = \"4h\"\n",
    "limit = 500\n",
    "candle_sticks = get_data_from_binance(symbol,interval,limit)\n",
    "file_name = \"sol_4h_365\"\n",
    "write_to_csv(file_name, candle_sticks)"
   ]
  },
  {
   "cell_type": "code",
   "execution_count": 93,
   "metadata": {},
   "outputs": [],
   "source": [
    "symbol = \"AVAXUSD_PERP\"\n",
    "interval = \"4h\"\n",
    "limit = 500\n",
    "candle_sticks = get_data_from_binance(symbol,interval,limit)\n",
    "file_name = \"avax_4h_365\"\n",
    "write_to_csv(file_name, candle_sticks)"
   ]
  },
  {
   "cell_type": "code",
   "execution_count": 94,
   "metadata": {},
   "outputs": [],
   "source": [
    "symbol = \"LUNAUSD_PERP\"\n",
    "interval = \"4h\"\n",
    "limit = 500\n",
    "candle_sticks = get_data_from_binance(symbol,interval,limit)\n",
    "file_name = \"luna_4h_365\"\n",
    "write_to_csv(file_name, candle_sticks)"
   ]
  },
  {
   "cell_type": "code",
   "execution_count": 95,
   "metadata": {},
   "outputs": [],
   "source": [
    "symbol = \"NEARUSD_PERP\"\n",
    "interval = \"4h\"\n",
    "limit = 500\n",
    "candle_sticks = get_data_from_binance(symbol,interval,limit)\n",
    "file_name = \"near_4h_365\"\n",
    "write_to_csv(file_name, candle_sticks)"
   ]
  },
  {
   "cell_type": "code",
   "execution_count": null,
   "metadata": {},
   "outputs": [],
   "source": []
  }
 ],
 "metadata": {
  "kernelspec": {
   "display_name": "Python 3 (ipykernel)",
   "language": "python",
   "name": "python3"
  },
  "language_info": {
   "codemirror_mode": {
    "name": "ipython",
    "version": 3
   },
   "file_extension": ".py",
   "mimetype": "text/x-python",
   "name": "python",
   "nbconvert_exporter": "python",
   "pygments_lexer": "ipython3",
   "version": "3.7.6"
  }
 },
 "nbformat": 4,
 "nbformat_minor": 4
}
