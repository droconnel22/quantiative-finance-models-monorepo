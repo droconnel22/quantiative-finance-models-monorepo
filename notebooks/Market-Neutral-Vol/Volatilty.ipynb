{
 "cells": [
  {
   "cell_type": "code",
   "execution_count": 1,
   "metadata": {},
   "outputs": [],
   "source": [
    "# Help"
   ]
  },
  {
   "cell_type": "code",
   "execution_count": 2,
   "metadata": {},
   "outputs": [],
   "source": [
    "import numpy as np"
   ]
  },
  {
   "cell_type": "code",
   "execution_count": 3,
   "metadata": {},
   "outputs": [],
   "source": [
    "import pandas as pd"
   ]
  },
  {
   "cell_type": "code",
   "execution_count": 4,
   "metadata": {},
   "outputs": [],
   "source": [
    "import matplotlib.pyplot as plt"
   ]
  },
  {
   "cell_type": "code",
   "execution_count": 5,
   "metadata": {},
   "outputs": [],
   "source": [
    "import statsmodels.tsa.statespace.sarimax as sarima"
   ]
  },
  {
   "cell_type": "code",
   "execution_count": 6,
   "metadata": {},
   "outputs": [],
   "source": [
    "import statsmodels.tools.eval_measures as fa"
   ]
  },
  {
   "cell_type": "code",
   "execution_count": 7,
   "metadata": {},
   "outputs": [],
   "source": [
    "import arch.univariate as arch"
   ]
  },
  {
   "cell_type": "code",
   "execution_count": 8,
   "metadata": {},
   "outputs": [
    {
     "name": "stdout",
     "output_type": "stream",
     "text": [
      "<module 'arch.univariate' from '/Users/dennismacpro/miniconda3/lib/python3.7/site-packages/arch/univariate/__init__.py'>\n"
     ]
    }
   ],
   "source": [
    "print(arch)"
   ]
  },
  {
   "cell_type": "code",
   "execution_count": 9,
   "metadata": {},
   "outputs": [
    {
     "name": "stderr",
     "output_type": "stream",
     "text": [
      "/Users/dennismacpro/miniconda3/lib/python3.7/site-packages/pandas_datareader/compat/__init__.py:7: FutureWarning: pandas.util.testing is deprecated. Use the functions in the public API at pandas.testing instead.\n",
      "  from pandas.util.testing import assert_frame_equal\n"
     ]
    }
   ],
   "source": [
    "import pandas_datareader as web"
   ]
  },
  {
   "cell_type": "code",
   "execution_count": 10,
   "metadata": {},
   "outputs": [],
   "source": [
    "hdata = pd.read_csv(\"./Volatility-Trading-Analysis-Data.txt\");"
   ]
  },
  {
   "cell_type": "code",
   "execution_count": 11,
   "metadata": {},
   "outputs": [
    {
     "data": {
      "text/html": [
       "<div>\n",
       "<style scoped>\n",
       "    .dataframe tbody tr th:only-of-type {\n",
       "        vertical-align: middle;\n",
       "    }\n",
       "\n",
       "    .dataframe tbody tr th {\n",
       "        vertical-align: top;\n",
       "    }\n",
       "\n",
       "    .dataframe thead th {\n",
       "        text-align: right;\n",
       "    }\n",
       "</style>\n",
       "<table border=\"1\" class=\"dataframe\">\n",
       "  <thead>\n",
       "    <tr style=\"text-align: right;\">\n",
       "      <th></th>\n",
       "      <th>Date</th>\n",
       "      <th>SPX.Open</th>\n",
       "      <th>SPX.High</th>\n",
       "      <th>SPX.Low</th>\n",
       "      <th>SPX.Close</th>\n",
       "      <th>SPX.Adjusted</th>\n",
       "      <th>SPXTR.Adjusted</th>\n",
       "      <th>VIX.Close</th>\n",
       "      <th>VX1.Settle</th>\n",
       "      <th>SKEW</th>\n",
       "      <th>BXM</th>\n",
       "      <th>PUT</th>\n",
       "      <th>VXTH</th>\n",
       "      <th>SPY.Adjusted</th>\n",
       "      <th>PHDG.Adjusted</th>\n",
       "      <th>PBP.Adjusted</th>\n",
       "      <th>PUTW.Adjusted</th>\n",
       "    </tr>\n",
       "  </thead>\n",
       "  <tbody>\n",
       "    <tr>\n",
       "      <th>0</th>\n",
       "      <td>2007-01-03</td>\n",
       "      <td>1418.030029</td>\n",
       "      <td>1429.420044</td>\n",
       "      <td>1407.859985</td>\n",
       "      <td>1416.599976</td>\n",
       "      <td>1416.599976</td>\n",
       "      <td>2183.919922</td>\n",
       "      <td>12.04</td>\n",
       "      <td>12.300</td>\n",
       "      <td>118.77</td>\n",
       "      <td>800.200012</td>\n",
       "      <td>923.60</td>\n",
       "      <td>108.80</td>\n",
       "      <td>111.166000</td>\n",
       "      <td>NaN</td>\n",
       "      <td>NaN</td>\n",
       "      <td>NaN</td>\n",
       "    </tr>\n",
       "    <tr>\n",
       "      <th>1</th>\n",
       "      <td>2007-01-04</td>\n",
       "      <td>1416.599976</td>\n",
       "      <td>1421.839966</td>\n",
       "      <td>1408.430054</td>\n",
       "      <td>1418.339966</td>\n",
       "      <td>1418.339966</td>\n",
       "      <td>2186.600098</td>\n",
       "      <td>11.51</td>\n",
       "      <td>12.110</td>\n",
       "      <td>118.78</td>\n",
       "      <td>801.359985</td>\n",
       "      <td>925.10</td>\n",
       "      <td>108.93</td>\n",
       "      <td>111.401939</td>\n",
       "      <td>NaN</td>\n",
       "      <td>NaN</td>\n",
       "      <td>NaN</td>\n",
       "    </tr>\n",
       "    <tr>\n",
       "      <th>2</th>\n",
       "      <td>2007-01-05</td>\n",
       "      <td>1418.339966</td>\n",
       "      <td>1418.339966</td>\n",
       "      <td>1405.750000</td>\n",
       "      <td>1409.709961</td>\n",
       "      <td>1409.709961</td>\n",
       "      <td>2173.290039</td>\n",
       "      <td>12.14</td>\n",
       "      <td>12.380</td>\n",
       "      <td>117.27</td>\n",
       "      <td>797.549988</td>\n",
       "      <td>921.33</td>\n",
       "      <td>108.27</td>\n",
       "      <td>110.513351</td>\n",
       "      <td>NaN</td>\n",
       "      <td>NaN</td>\n",
       "      <td>NaN</td>\n",
       "    </tr>\n",
       "    <tr>\n",
       "      <th>3</th>\n",
       "      <td>2007-01-08</td>\n",
       "      <td>1409.260010</td>\n",
       "      <td>1414.979980</td>\n",
       "      <td>1403.969971</td>\n",
       "      <td>1412.839966</td>\n",
       "      <td>1412.839966</td>\n",
       "      <td>2178.800049</td>\n",
       "      <td>12.00</td>\n",
       "      <td>12.250</td>\n",
       "      <td>119.44</td>\n",
       "      <td>799.640015</td>\n",
       "      <td>924.05</td>\n",
       "      <td>108.54</td>\n",
       "      <td>111.024483</td>\n",
       "      <td>NaN</td>\n",
       "      <td>NaN</td>\n",
       "      <td>NaN</td>\n",
       "    </tr>\n",
       "    <tr>\n",
       "      <th>4</th>\n",
       "      <td>2007-01-09</td>\n",
       "      <td>1412.839966</td>\n",
       "      <td>1415.609985</td>\n",
       "      <td>1405.420044</td>\n",
       "      <td>1412.109985</td>\n",
       "      <td>1412.109985</td>\n",
       "      <td>2177.679932</td>\n",
       "      <td>11.91</td>\n",
       "      <td>12.340</td>\n",
       "      <td>116.28</td>\n",
       "      <td>799.469971</td>\n",
       "      <td>923.72</td>\n",
       "      <td>108.48</td>\n",
       "      <td>110.930107</td>\n",
       "      <td>NaN</td>\n",
       "      <td>NaN</td>\n",
       "      <td>NaN</td>\n",
       "    </tr>\n",
       "    <tr>\n",
       "      <th>...</th>\n",
       "      <td>...</td>\n",
       "      <td>...</td>\n",
       "      <td>...</td>\n",
       "      <td>...</td>\n",
       "      <td>...</td>\n",
       "      <td>...</td>\n",
       "      <td>...</td>\n",
       "      <td>...</td>\n",
       "      <td>...</td>\n",
       "      <td>...</td>\n",
       "      <td>...</td>\n",
       "      <td>...</td>\n",
       "      <td>...</td>\n",
       "      <td>...</td>\n",
       "      <td>...</td>\n",
       "      <td>...</td>\n",
       "      <td>...</td>\n",
       "    </tr>\n",
       "    <tr>\n",
       "      <th>2889</th>\n",
       "      <td>2018-06-25</td>\n",
       "      <td>2742.939941</td>\n",
       "      <td>2742.939941</td>\n",
       "      <td>2698.669922</td>\n",
       "      <td>2717.070068</td>\n",
       "      <td>2717.070068</td>\n",
       "      <td>5347.229980</td>\n",
       "      <td>17.33</td>\n",
       "      <td>16.325</td>\n",
       "      <td>134.66</td>\n",
       "      <td>1396.189941</td>\n",
       "      <td>1873.75</td>\n",
       "      <td>232.49</td>\n",
       "      <td>269.778778</td>\n",
       "      <td>28.086325</td>\n",
       "      <td>21.522589</td>\n",
       "      <td>29.400000</td>\n",
       "    </tr>\n",
       "    <tr>\n",
       "      <th>2890</th>\n",
       "      <td>2018-06-26</td>\n",
       "      <td>2722.120117</td>\n",
       "      <td>2732.909912</td>\n",
       "      <td>2715.600098</td>\n",
       "      <td>2723.060059</td>\n",
       "      <td>2723.060059</td>\n",
       "      <td>5359.009766</td>\n",
       "      <td>15.92</td>\n",
       "      <td>15.875</td>\n",
       "      <td>134.92</td>\n",
       "      <td>1398.790039</td>\n",
       "      <td>1877.70</td>\n",
       "      <td>233.00</td>\n",
       "      <td>270.376068</td>\n",
       "      <td>28.086325</td>\n",
       "      <td>21.562443</td>\n",
       "      <td>29.410000</td>\n",
       "    </tr>\n",
       "    <tr>\n",
       "      <th>2891</th>\n",
       "      <td>2018-06-27</td>\n",
       "      <td>2728.449951</td>\n",
       "      <td>2746.090088</td>\n",
       "      <td>2699.379883</td>\n",
       "      <td>2699.629883</td>\n",
       "      <td>2699.629883</td>\n",
       "      <td>5312.890137</td>\n",
       "      <td>17.91</td>\n",
       "      <td>16.925</td>\n",
       "      <td>131.30</td>\n",
       "      <td>1389.239990</td>\n",
       "      <td>1864.49</td>\n",
       "      <td>230.99</td>\n",
       "      <td>268.136200</td>\n",
       "      <td>27.946838</td>\n",
       "      <td>21.373125</td>\n",
       "      <td>29.209999</td>\n",
       "    </tr>\n",
       "    <tr>\n",
       "      <th>2892</th>\n",
       "      <td>2018-06-28</td>\n",
       "      <td>2698.689941</td>\n",
       "      <td>2724.340088</td>\n",
       "      <td>2691.989990</td>\n",
       "      <td>2716.310059</td>\n",
       "      <td>2716.310059</td>\n",
       "      <td>5346.439941</td>\n",
       "      <td>16.85</td>\n",
       "      <td>16.525</td>\n",
       "      <td>136.34</td>\n",
       "      <td>1396.300049</td>\n",
       "      <td>1874.43</td>\n",
       "      <td>232.45</td>\n",
       "      <td>269.669281</td>\n",
       "      <td>27.827282</td>\n",
       "      <td>21.532553</td>\n",
       "      <td>29.389999</td>\n",
       "    </tr>\n",
       "    <tr>\n",
       "      <th>2893</th>\n",
       "      <td>2018-06-29</td>\n",
       "      <td>2727.129883</td>\n",
       "      <td>2743.260010</td>\n",
       "      <td>2718.030029</td>\n",
       "      <td>2718.370117</td>\n",
       "      <td>2718.370117</td>\n",
       "      <td>5350.830078</td>\n",
       "      <td>16.09</td>\n",
       "      <td>16.025</td>\n",
       "      <td>141.72</td>\n",
       "      <td>1398.709961</td>\n",
       "      <td>1877.72</td>\n",
       "      <td>232.64</td>\n",
       "      <td>270.057495</td>\n",
       "      <td>27.837244</td>\n",
       "      <td>21.552479</td>\n",
       "      <td>29.430000</td>\n",
       "    </tr>\n",
       "  </tbody>\n",
       "</table>\n",
       "<p>2894 rows × 17 columns</p>\n",
       "</div>"
      ],
      "text/plain": [
       "            Date     SPX.Open     SPX.High      SPX.Low    SPX.Close  \\\n",
       "0     2007-01-03  1418.030029  1429.420044  1407.859985  1416.599976   \n",
       "1     2007-01-04  1416.599976  1421.839966  1408.430054  1418.339966   \n",
       "2     2007-01-05  1418.339966  1418.339966  1405.750000  1409.709961   \n",
       "3     2007-01-08  1409.260010  1414.979980  1403.969971  1412.839966   \n",
       "4     2007-01-09  1412.839966  1415.609985  1405.420044  1412.109985   \n",
       "...          ...          ...          ...          ...          ...   \n",
       "2889  2018-06-25  2742.939941  2742.939941  2698.669922  2717.070068   \n",
       "2890  2018-06-26  2722.120117  2732.909912  2715.600098  2723.060059   \n",
       "2891  2018-06-27  2728.449951  2746.090088  2699.379883  2699.629883   \n",
       "2892  2018-06-28  2698.689941  2724.340088  2691.989990  2716.310059   \n",
       "2893  2018-06-29  2727.129883  2743.260010  2718.030029  2718.370117   \n",
       "\n",
       "      SPX.Adjusted  SPXTR.Adjusted  VIX.Close  VX1.Settle    SKEW  \\\n",
       "0      1416.599976     2183.919922      12.04      12.300  118.77   \n",
       "1      1418.339966     2186.600098      11.51      12.110  118.78   \n",
       "2      1409.709961     2173.290039      12.14      12.380  117.27   \n",
       "3      1412.839966     2178.800049      12.00      12.250  119.44   \n",
       "4      1412.109985     2177.679932      11.91      12.340  116.28   \n",
       "...            ...             ...        ...         ...     ...   \n",
       "2889   2717.070068     5347.229980      17.33      16.325  134.66   \n",
       "2890   2723.060059     5359.009766      15.92      15.875  134.92   \n",
       "2891   2699.629883     5312.890137      17.91      16.925  131.30   \n",
       "2892   2716.310059     5346.439941      16.85      16.525  136.34   \n",
       "2893   2718.370117     5350.830078      16.09      16.025  141.72   \n",
       "\n",
       "              BXM      PUT    VXTH  SPY.Adjusted  PHDG.Adjusted  PBP.Adjusted  \\\n",
       "0      800.200012   923.60  108.80    111.166000            NaN           NaN   \n",
       "1      801.359985   925.10  108.93    111.401939            NaN           NaN   \n",
       "2      797.549988   921.33  108.27    110.513351            NaN           NaN   \n",
       "3      799.640015   924.05  108.54    111.024483            NaN           NaN   \n",
       "4      799.469971   923.72  108.48    110.930107            NaN           NaN   \n",
       "...           ...      ...     ...           ...            ...           ...   \n",
       "2889  1396.189941  1873.75  232.49    269.778778      28.086325     21.522589   \n",
       "2890  1398.790039  1877.70  233.00    270.376068      28.086325     21.562443   \n",
       "2891  1389.239990  1864.49  230.99    268.136200      27.946838     21.373125   \n",
       "2892  1396.300049  1874.43  232.45    269.669281      27.827282     21.532553   \n",
       "2893  1398.709961  1877.72  232.64    270.057495      27.837244     21.552479   \n",
       "\n",
       "      PUTW.Adjusted  \n",
       "0               NaN  \n",
       "1               NaN  \n",
       "2               NaN  \n",
       "3               NaN  \n",
       "4               NaN  \n",
       "...             ...  \n",
       "2889      29.400000  \n",
       "2890      29.410000  \n",
       "2891      29.209999  \n",
       "2892      29.389999  \n",
       "2893      29.430000  \n",
       "\n",
       "[2894 rows x 17 columns]"
      ]
     },
     "execution_count": 11,
     "metadata": {},
     "output_type": "execute_result"
    }
   ],
   "source": [
    "hdata"
   ]
  },
  {
   "cell_type": "code",
   "execution_count": 13,
   "metadata": {},
   "outputs": [],
   "source": [
    "hvcc = np.sqrt(252) * pd.DataFrame.rolling(np.log(hdata.loc[:,'SPX.Close'] / hdata.loc[:,\"SPX.Close\"].shift(1)), window=20).std()"
   ]
  },
  {
   "cell_type": "markdown",
   "metadata": {},
   "source": [
    "## Historical Volatily Estimation"
   ]
  },
  {
   "cell_type": "code",
   "execution_count": 14,
   "metadata": {},
   "outputs": [
    {
     "data": {
      "text/plain": [
       "0            NaN\n",
       "1            NaN\n",
       "2            NaN\n",
       "3            NaN\n",
       "4            NaN\n",
       "          ...   \n",
       "2889    0.106064\n",
       "2890    0.097063\n",
       "2891    0.091362\n",
       "2892    0.090889\n",
       "2893    0.081923\n",
       "Name: SPX.Close, Length: 2894, dtype: float64"
      ]
     },
     "execution_count": 14,
     "metadata": {},
     "output_type": "execute_result"
    }
   ],
   "source": [
    "hvcc"
   ]
  },
  {
   "cell_type": "code",
   "execution_count": 16,
   "metadata": {},
   "outputs": [
    {
     "data": {
      "image/png": "[encoded data removed]",
      "text/plain": [
       "<Figure size 432x288 with 1 Axes>"
      ]
     },
     "metadata": {
      "needs_background": "light"
     },
     "output_type": "display_data"
    }
   ],
   "source": [
    "plt.plot(hvcc, label='hvcc')\n",
    "plt.legend(loc='upper right')\n",
    "plt.title('Close to Close Estimation')\n",
    "plt.show()"
   ]
  },
  {
   "cell_type": "markdown",
   "metadata": {},
   "source": [
    "## Parkson Estimation\n",
    "\n",
    "Parkinson estimation consists of using logarithmic returns of intra-day high and low asset prices for its calculation. It doesn't take into consideratoin drifts or overnight jumps.\n",
    "\n",
    "Michael Parkinson \"The Extreme Value Method for Estimating the Variance of the Rate of Return\"\n",
    "\n",
    "A disadvantage of using the CCHV is that it does not take into account the information about intraday prices. The Parkinson volatility extends the CCHV by incorporating the stock’s daily high and low prices. It is calculated as follows,\n",
    "\n",
    "where hi denotes the daily high price, and li is the daily low price.\n",
    "\n",
    "We implemented the above equation in Python. We downloaded SPY data from Yahoo finance and calculated the Parkinson volatility using the Python program. The picture below shows the Parkinson historical volatility of SPY from March 2015 to March 2020.\n",
    "\n",
    "Advantages\n",
    "\n",
    "Using daily ranges seems sensible and provides completely separate information from using time-based  sampling such as closing prices\n",
    "Disadvantages\n",
    "\n",
    "It is really only appropriate for measuring the volatility of a GBM process. It cannot handle trends and jumps\n",
    "It systematically underestimates volatility.\n"
   ]
  },
  {
   "cell_type": "code",
   "execution_count": 18,
   "metadata": {},
   "outputs": [],
   "source": [
    "# sqrt(N(4(n(log(2)) * rollSum(log(Hi/Lo)^2, n))))"
   ]
  },
  {
   "cell_type": "code",
   "execution_count": 20,
   "metadata": {},
   "outputs": [],
   "source": [
    "hvp = np.sqrt(252 / (4 * 21 * np.log(2)) * pd.DataFrame.rolling(np.log(hdata.loc[:,'SPX.High'] / hdata.loc[:, 'SPX.Low']) ** 2, window=21).sum())"
   ]
  },
  {
   "cell_type": "code",
   "execution_count": 21,
   "metadata": {},
   "outputs": [],
   "source": [
    "hvpe = hvcc ** 2 / hvp ** 2"
   ]
  },
  {
   "cell_type": "code",
   "execution_count": 25,
   "metadata": {},
   "outputs": [
    {
     "data": {
      "image/png": "[encoded data removed]",
      "text/plain": [
       "<Figure size 432x288 with 1 Axes>"
      ]
     },
     "metadata": {
      "needs_background": "light"
     },
     "output_type": "display_data"
    }
   ],
   "source": [
    "plt.plot(hvcc, label='hvcc')\n",
    "plt.plot(hvp, label='hvp')\n",
    "plt.legend(loc='upper right')\n",
    "plt.title('Parkinson Estimation')\n",
    "plt.show();"
   ]
  },
  {
   "cell_type": "code",
   "execution_count": null,
   "metadata": {},
   "outputs": [],
   "source": [
    "p"
   ]
  }
 ],
 "metadata": {
  "kernelspec": {
   "display_name": "Python 3",
   "language": "python",
   "name": "python3"
  },
  "language_info": {
   "codemirror_mode": {
    "name": "ipython",
    "version": 3
   },
   "file_extension": ".py",
   "mimetype": "text/x-python",
   "name": "python",
   "nbconvert_exporter": "python",
   "pygments_lexer": "ipython3",
   "version": "3.7.6"
  }
 },
 "nbformat": 4,
 "nbformat_minor": 4
}
