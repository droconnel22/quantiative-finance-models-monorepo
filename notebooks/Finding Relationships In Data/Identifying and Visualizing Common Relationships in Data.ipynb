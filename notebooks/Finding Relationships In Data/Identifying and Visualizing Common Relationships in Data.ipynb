{
 "cells": [
  {
   "cell_type": "markdown",
   "metadata": {},
   "source": [
    "# Finding Relationships In Data\n",
    "\n",
    "1. Common statistical relationships\n",
    "2. Univariate, bivariate, and multivariate relationships\n",
    "3. Mean stanard deviation and variance univarite\n",
    "4. Covariance and correlation bivarate\n",
    "5. Autocorrelation multi variant\n",
    "\n",
    "\n",
    "## Statistics Family\n",
    "\n",
    "1. Descriptive Statistics\n",
    "    1. Univariate\n",
    "        1. Frequency\n",
    "        2. Central Tedency\n",
    "            1. Mean\n",
    "            2. Median\n",
    "            3. Mode\n",
    "        3. Dispersion\n",
    "    2. Bivariate\n",
    "        1. Correlation\n",
    "        2. Covariance\n",
    "    3. Multivarite\n",
    "        1. Correlation Matrix\n",
    "        2. Covariance Matrix\n",
    "\n",
    "## Measures of Central Tendency\n",
    "\n",
    "1. Average\n",
    "2. Median\n",
    "3. Mode\n",
    "4. Other infrequently used measurs\n",
    "    a. Geometric mean\n",
    "    b. harmonic mean\n",
    "    \n",
    "## Measures of Dispersion\n",
    "\n",
    "1. Range\n",
    "2. Inter quartile range (IQR) 75 -25 %\n",
    "3. Standard deviation\n",
    "4. variance\n",
    "\n",
    "Consider a line of discrete points randomly distributed\n",
    "\n",
    "Do the numbers jump around?\n",
    "If the range ignores the mean and is swayed by outliers tthat's where variance comes in.\n",
    "\n",
    "#### The variance is the second most important number to summarize a set of data\n",
    "\n",
    "Mean Deviation\n",
    "\n",
    "(mean value - data point)\n",
    "\n",
    "Mean Deviation Squared\n",
    "\n",
    "(mean - point)^2 gives smoothness\n",
    "\n",
    "Variance\n",
    "\n",
    "sum->of all points->((mean-point)^2) / (the size of the data set - 1)\n",
    "\n",
    "Standard deviation\n",
    "Tells how far a particular data points is from the mean. Showing outliers,rareness, or errors.\n",
    "\n",
    "(variance)^0.5\n",
    "\n",
    "Mean and variance complete a view of numbers\n",
    "\n",
    "Median is the data point at 50% or half of all data points (sorted)\n",
    "\n",
    "## Bivariate Descriptive Statistics\n",
    "\n",
    "1. Correlation\n",
    "2. Covariance\n",
    "\n",
    "#### Covariance measure the relationship between two variables. Specifically whether greater values of one variable correspond to greater values in the other.\n",
    "\n",
    "Positive covariance means the deviations around the means of the two series are in sync\n",
    "\n",
    "Negative Covariance means the deviations around the mean of the two series are out of sync.\n",
    "\n",
    "#### Correlation similar to covariance; measures whether greater values of one variable correspond to greater values in the other. Scaled to always lie between +1 and -1. Independent variable exhibit zero correlation\n",
    "\n",
    "Correlation (x,y) =  Covariance (x,y) / ((variance(x)^0.5 * (variance(y))^0.5)\n",
    "\n",
    "A definite linear relationship exists if the variables are correlated.\n",
    "\n",
    "## Multivariate Descriptive Statistics\n",
    "1. Correlaition Matrix\n",
    "2. Covariance Matrix\n",
    "\n"
   ]
  },
  {
   "cell_type": "code",
   "execution_count": 2,
   "metadata": {},
   "outputs": [
    {
     "name": "stdout",
     "output_type": "stream",
     "text": [
      "Python 3.7.6\r\n"
     ]
    }
   ],
   "source": [
    "!python --version"
   ]
  },
  {
   "cell_type": "code",
   "execution_count": 3,
   "metadata": {},
   "outputs": [],
   "source": [
    "import pandas as pd\n",
    "import numpy as np\n",
    "import matplotlib.pyplot as plt\n",
    "%matplotlib inline"
   ]
  },
  {
   "cell_type": "code",
   "execution_count": 5,
   "metadata": {
    "scrolled": true
   },
   "outputs": [
    {
     "data": {
      "text/html": [
       "<div>\n",
       "<style scoped>\n",
       "    .dataframe tbody tr th:only-of-type {\n",
       "        vertical-align: middle;\n",
       "    }\n",
       "\n",
       "    .dataframe tbody tr th {\n",
       "        vertical-align: top;\n",
       "    }\n",
       "\n",
       "    .dataframe thead th {\n",
       "        text-align: right;\n",
       "    }\n",
       "</style>\n",
       "<table border=\"1\" class=\"dataframe\">\n",
       "  <thead>\n",
       "    <tr style=\"text-align: right;\">\n",
       "      <th></th>\n",
       "      <th>Month</th>\n",
       "      <th>U.S. Crude Oil</th>\n",
       "      <th>Alabama</th>\n",
       "      <th>Alaska</th>\n",
       "      <th>Arkansas</th>\n",
       "      <th>Arizona</th>\n",
       "      <th>California</th>\n",
       "      <th>Colorado</th>\n",
       "      <th>Federal Offshore Gulf of Mexico Crude Oil</th>\n",
       "      <th>Federal Offshore Pacific Crude Oil</th>\n",
       "      <th>...</th>\n",
       "      <th>Ohio</th>\n",
       "      <th>Oklahoma</th>\n",
       "      <th>Pennsylvania</th>\n",
       "      <th>South Dakota</th>\n",
       "      <th>Wyoming</th>\n",
       "      <th>West Virginia</th>\n",
       "      <th>Virginia</th>\n",
       "      <th>Utah</th>\n",
       "      <th>Texas</th>\n",
       "      <th>Tennessee</th>\n",
       "    </tr>\n",
       "  </thead>\n",
       "  <tbody>\n",
       "    <tr>\n",
       "      <th>0</th>\n",
       "      <td>2008-06-01</td>\n",
       "      <td>5138</td>\n",
       "      <td>21</td>\n",
       "      <td>655</td>\n",
       "      <td>17</td>\n",
       "      <td>0</td>\n",
       "      <td>583</td>\n",
       "      <td>82</td>\n",
       "      <td>1326</td>\n",
       "      <td>67</td>\n",
       "      <td>...</td>\n",
       "      <td>14</td>\n",
       "      <td>186</td>\n",
       "      <td>8</td>\n",
       "      <td>5</td>\n",
       "      <td>144</td>\n",
       "      <td>6</td>\n",
       "      <td>0</td>\n",
       "      <td>60</td>\n",
       "      <td>1097</td>\n",
       "      <td>1</td>\n",
       "    </tr>\n",
       "    <tr>\n",
       "      <th>1</th>\n",
       "      <td>2008-07-01</td>\n",
       "      <td>5177</td>\n",
       "      <td>21</td>\n",
       "      <td>640</td>\n",
       "      <td>17</td>\n",
       "      <td>0</td>\n",
       "      <td>586</td>\n",
       "      <td>81</td>\n",
       "      <td>1372</td>\n",
       "      <td>61</td>\n",
       "      <td>...</td>\n",
       "      <td>14</td>\n",
       "      <td>184</td>\n",
       "      <td>8</td>\n",
       "      <td>5</td>\n",
       "      <td>145</td>\n",
       "      <td>5</td>\n",
       "      <td>0</td>\n",
       "      <td>61</td>\n",
       "      <td>1111</td>\n",
       "      <td>1</td>\n",
       "    </tr>\n",
       "    <tr>\n",
       "      <th>2</th>\n",
       "      <td>2008-08-01</td>\n",
       "      <td>5003</td>\n",
       "      <td>21</td>\n",
       "      <td>544</td>\n",
       "      <td>17</td>\n",
       "      <td>0</td>\n",
       "      <td>588</td>\n",
       "      <td>82</td>\n",
       "      <td>1272</td>\n",
       "      <td>70</td>\n",
       "      <td>...</td>\n",
       "      <td>14</td>\n",
       "      <td>188</td>\n",
       "      <td>8</td>\n",
       "      <td>5</td>\n",
       "      <td>145</td>\n",
       "      <td>6</td>\n",
       "      <td>0</td>\n",
       "      <td>62</td>\n",
       "      <td>1110</td>\n",
       "      <td>1</td>\n",
       "    </tr>\n",
       "    <tr>\n",
       "      <th>3</th>\n",
       "      <td>2008-09-01</td>\n",
       "      <td>3974</td>\n",
       "      <td>21</td>\n",
       "      <td>681</td>\n",
       "      <td>16</td>\n",
       "      <td>0</td>\n",
       "      <td>587</td>\n",
       "      <td>88</td>\n",
       "      <td>242</td>\n",
       "      <td>67</td>\n",
       "      <td>...</td>\n",
       "      <td>14</td>\n",
       "      <td>186</td>\n",
       "      <td>8</td>\n",
       "      <td>5</td>\n",
       "      <td>144</td>\n",
       "      <td>6</td>\n",
       "      <td>0</td>\n",
       "      <td>63</td>\n",
       "      <td>1055</td>\n",
       "      <td>1</td>\n",
       "    </tr>\n",
       "    <tr>\n",
       "      <th>4</th>\n",
       "      <td>2008-10-01</td>\n",
       "      <td>4738</td>\n",
       "      <td>21</td>\n",
       "      <td>716</td>\n",
       "      <td>17</td>\n",
       "      <td>0</td>\n",
       "      <td>586</td>\n",
       "      <td>86</td>\n",
       "      <td>803</td>\n",
       "      <td>66</td>\n",
       "      <td>...</td>\n",
       "      <td>14</td>\n",
       "      <td>185</td>\n",
       "      <td>8</td>\n",
       "      <td>5</td>\n",
       "      <td>145</td>\n",
       "      <td>6</td>\n",
       "      <td>0</td>\n",
       "      <td>64</td>\n",
       "      <td>1125</td>\n",
       "      <td>1</td>\n",
       "    </tr>\n",
       "  </tbody>\n",
       "</table>\n",
       "<p>5 rows × 36 columns</p>\n",
       "</div>"
      ],
      "text/plain": [
       "        Month  U.S. Crude Oil   Alabama  Alaska  Arkansas  Arizona  \\\n",
       "0  2008-06-01             5138       21     655        17        0   \n",
       "1  2008-07-01             5177       21     640        17        0   \n",
       "2  2008-08-01             5003       21     544        17        0   \n",
       "3  2008-09-01             3974       21     681        16        0   \n",
       "4  2008-10-01             4738       21     716        17        0   \n",
       "\n",
       "   California  Colorado  Federal Offshore Gulf of Mexico Crude Oil  \\\n",
       "0         583        82                                       1326   \n",
       "1         586        81                                       1372   \n",
       "2         588        82                                       1272   \n",
       "3         587        88                                        242   \n",
       "4         586        86                                        803   \n",
       "\n",
       "   Federal Offshore Pacific Crude Oil  ...  Ohio  Oklahoma  Pennsylvania  \\\n",
       "0                                  67  ...    14       186             8   \n",
       "1                                  61  ...    14       184             8   \n",
       "2                                  70  ...    14       188             8   \n",
       "3                                  67  ...    14       186             8   \n",
       "4                                  66  ...    14       185             8   \n",
       "\n",
       "   South Dakota  Wyoming  West Virginia  Virginia  Utah  Texas  Tennessee  \n",
       "0             5      144              6         0    60   1097          1  \n",
       "1             5      145              5         0    61   1111          1  \n",
       "2             5      145              6         0    62   1110          1  \n",
       "3             5      144              6         0    63   1055          1  \n",
       "4             5      145              6         0    64   1125          1  \n",
       "\n",
       "[5 rows x 36 columns]"
      ]
     },
     "execution_count": 5,
     "metadata": {},
     "output_type": "execute_result"
    }
   ],
   "source": [
    "crude_oil_data = pd.read_csv('oil_data/U.S._crude_oil_production.csv')\n",
    "crude_oil_data.head()"
   ]
  },
  {
   "cell_type": "code",
   "execution_count": 6,
   "metadata": {},
   "outputs": [
    {
     "data": {
      "text/html": [
       "<div>\n",
       "<style scoped>\n",
       "    .dataframe tbody tr th:only-of-type {\n",
       "        vertical-align: middle;\n",
       "    }\n",
       "\n",
       "    .dataframe tbody tr th {\n",
       "        vertical-align: top;\n",
       "    }\n",
       "\n",
       "    .dataframe thead th {\n",
       "        text-align: right;\n",
       "    }\n",
       "</style>\n",
       "<table border=\"1\" class=\"dataframe\">\n",
       "  <thead>\n",
       "    <tr style=\"text-align: right;\">\n",
       "      <th></th>\n",
       "      <th>Month</th>\n",
       "      <th>U.S. Crude Oil</th>\n",
       "      <th>Alabama</th>\n",
       "      <th>Alaska</th>\n",
       "      <th>Arkansas</th>\n",
       "      <th>Arizona</th>\n",
       "      <th>California</th>\n",
       "      <th>Colorado</th>\n",
       "      <th>Federal Offshore Gulf of Mexico Crude Oil</th>\n",
       "      <th>Federal Offshore Pacific Crude Oil</th>\n",
       "      <th>...</th>\n",
       "      <th>Ohio</th>\n",
       "      <th>Oklahoma</th>\n",
       "      <th>Pennsylvania</th>\n",
       "      <th>South Dakota</th>\n",
       "      <th>Wyoming</th>\n",
       "      <th>West Virginia</th>\n",
       "      <th>Virginia</th>\n",
       "      <th>Utah</th>\n",
       "      <th>Texas</th>\n",
       "      <th>Tennessee</th>\n",
       "    </tr>\n",
       "  </thead>\n",
       "  <tbody>\n",
       "    <tr>\n",
       "      <th>116</th>\n",
       "      <td>2018-02-01</td>\n",
       "      <td>10248</td>\n",
       "      <td>17</td>\n",
       "      <td>513</td>\n",
       "      <td>14</td>\n",
       "      <td>0</td>\n",
       "      <td>463</td>\n",
       "      <td>428</td>\n",
       "      <td>1704</td>\n",
       "      <td>14</td>\n",
       "      <td>...</td>\n",
       "      <td>54</td>\n",
       "      <td>527</td>\n",
       "      <td>18</td>\n",
       "      <td>4</td>\n",
       "      <td>223</td>\n",
       "      <td>27</td>\n",
       "      <td>0</td>\n",
       "      <td>100</td>\n",
       "      <td>4015</td>\n",
       "      <td>1</td>\n",
       "    </tr>\n",
       "    <tr>\n",
       "      <th>117</th>\n",
       "      <td>2018-03-01</td>\n",
       "      <td>10461</td>\n",
       "      <td>17</td>\n",
       "      <td>512</td>\n",
       "      <td>14</td>\n",
       "      <td>0</td>\n",
       "      <td>462</td>\n",
       "      <td>428</td>\n",
       "      <td>1681</td>\n",
       "      <td>16</td>\n",
       "      <td>...</td>\n",
       "      <td>54</td>\n",
       "      <td>543</td>\n",
       "      <td>18</td>\n",
       "      <td>4</td>\n",
       "      <td>231</td>\n",
       "      <td>29</td>\n",
       "      <td>0</td>\n",
       "      <td>104</td>\n",
       "      <td>4185</td>\n",
       "      <td>1</td>\n",
       "    </tr>\n",
       "    <tr>\n",
       "      <th>118</th>\n",
       "      <td>2018-04-01</td>\n",
       "      <td>10475</td>\n",
       "      <td>17</td>\n",
       "      <td>497</td>\n",
       "      <td>14</td>\n",
       "      <td>0</td>\n",
       "      <td>465</td>\n",
       "      <td>447</td>\n",
       "      <td>1583</td>\n",
       "      <td>16</td>\n",
       "      <td>...</td>\n",
       "      <td>54</td>\n",
       "      <td>531</td>\n",
       "      <td>19</td>\n",
       "      <td>4</td>\n",
       "      <td>232</td>\n",
       "      <td>29</td>\n",
       "      <td>0</td>\n",
       "      <td>103</td>\n",
       "      <td>4222</td>\n",
       "      <td>1</td>\n",
       "    </tr>\n",
       "    <tr>\n",
       "      <th>119</th>\n",
       "      <td>2018-05-01</td>\n",
       "      <td>10443</td>\n",
       "      <td>16</td>\n",
       "      <td>496</td>\n",
       "      <td>14</td>\n",
       "      <td>0</td>\n",
       "      <td>464</td>\n",
       "      <td>447</td>\n",
       "      <td>1504</td>\n",
       "      <td>15</td>\n",
       "      <td>...</td>\n",
       "      <td>58</td>\n",
       "      <td>529</td>\n",
       "      <td>19</td>\n",
       "      <td>3</td>\n",
       "      <td>228</td>\n",
       "      <td>29</td>\n",
       "      <td>0</td>\n",
       "      <td>97</td>\n",
       "      <td>4245</td>\n",
       "      <td>1</td>\n",
       "    </tr>\n",
       "    <tr>\n",
       "      <th>120</th>\n",
       "      <td>2018-06-01</td>\n",
       "      <td>10674</td>\n",
       "      <td>16</td>\n",
       "      <td>451</td>\n",
       "      <td>14</td>\n",
       "      <td>0</td>\n",
       "      <td>462</td>\n",
       "      <td>423</td>\n",
       "      <td>1658</td>\n",
       "      <td>15</td>\n",
       "      <td>...</td>\n",
       "      <td>65</td>\n",
       "      <td>526</td>\n",
       "      <td>18</td>\n",
       "      <td>4</td>\n",
       "      <td>226</td>\n",
       "      <td>30</td>\n",
       "      <td>0</td>\n",
       "      <td>94</td>\n",
       "      <td>4410</td>\n",
       "      <td>1</td>\n",
       "    </tr>\n",
       "  </tbody>\n",
       "</table>\n",
       "<p>5 rows × 36 columns</p>\n",
       "</div>"
      ],
      "text/plain": [
       "          Month  U.S. Crude Oil   Alabama  Alaska  Arkansas  Arizona  \\\n",
       "116  2018-02-01            10248       17     513        14        0   \n",
       "117  2018-03-01            10461       17     512        14        0   \n",
       "118  2018-04-01            10475       17     497        14        0   \n",
       "119  2018-05-01            10443       16     496        14        0   \n",
       "120  2018-06-01            10674       16     451        14        0   \n",
       "\n",
       "     California  Colorado  Federal Offshore Gulf of Mexico Crude Oil  \\\n",
       "116         463       428                                       1704   \n",
       "117         462       428                                       1681   \n",
       "118         465       447                                       1583   \n",
       "119         464       447                                       1504   \n",
       "120         462       423                                       1658   \n",
       "\n",
       "     Federal Offshore Pacific Crude Oil  ...  Ohio  Oklahoma  Pennsylvania  \\\n",
       "116                                  14  ...    54       527            18   \n",
       "117                                  16  ...    54       543            18   \n",
       "118                                  16  ...    54       531            19   \n",
       "119                                  15  ...    58       529            19   \n",
       "120                                  15  ...    65       526            18   \n",
       "\n",
       "     South Dakota  Wyoming  West Virginia  Virginia  Utah  Texas  Tennessee  \n",
       "116             4      223             27         0   100   4015          1  \n",
       "117             4      231             29         0   104   4185          1  \n",
       "118             4      232             29         0   103   4222          1  \n",
       "119             3      228             29         0    97   4245          1  \n",
       "120             4      226             30         0    94   4410          1  \n",
       "\n",
       "[5 rows x 36 columns]"
      ]
     },
     "execution_count": 6,
     "metadata": {},
     "output_type": "execute_result"
    }
   ],
   "source": [
    "crude_oil_data.tail()"
   ]
  },
  {
   "cell_type": "code",
   "execution_count": 7,
   "metadata": {},
   "outputs": [
    {
     "data": {
      "text/plain": [
       "(121, 36)"
      ]
     },
     "execution_count": 7,
     "metadata": {},
     "output_type": "execute_result"
    }
   ],
   "source": [
    "crude_oil_data.shape"
   ]
  },
  {
   "cell_type": "code",
   "execution_count": 8,
   "metadata": {},
   "outputs": [
    {
     "data": {
      "text/plain": [
       "Index(['Month', 'U.S. Crude Oil ', 'Alabama', 'Alaska', 'Arkansas', 'Arizona',\n",
       "       'California', 'Colorado', 'Federal Offshore Gulf of Mexico Crude Oil',\n",
       "       'Federal Offshore Pacific Crude Oil', 'Florida', 'Idaho', 'Illinois',\n",
       "       'Indiana', 'Kansas', 'Kentucky', 'Louisiana', 'Michigan', 'Mississippi',\n",
       "       'Missouri', 'Nebraska', 'Montana', 'Nevada', 'New Mexico', 'New York',\n",
       "       'North Dakota', 'Ohio', 'Oklahoma', 'Pennsylvania', 'South Dakota',\n",
       "       'Wyoming', 'West Virginia', 'Virginia', 'Utah', 'Texas', 'Tennessee'],\n",
       "      dtype='object')"
      ]
     },
     "execution_count": 8,
     "metadata": {},
     "output_type": "execute_result"
    }
   ],
   "source": [
    "crude_oil_data.columns"
   ]
  },
  {
   "cell_type": "code",
   "execution_count": 9,
   "metadata": {},
   "outputs": [
    {
     "data": {
      "text/plain": [
       "Index(['Arizona', 'Virginia'], dtype='object')"
      ]
     },
     "execution_count": 9,
     "metadata": {},
     "output_type": "execute_result"
    }
   ],
   "source": [
    "crude_oil_data.columns[(crude_oil_data.sum(axis=0)) == 0]"
   ]
  },
  {
   "cell_type": "code",
   "execution_count": 10,
   "metadata": {},
   "outputs": [],
   "source": [
    "crude_oil_data.drop(['Arizona','Virginia'],inplace=True,axis=1)"
   ]
  },
  {
   "cell_type": "code",
   "execution_count": 11,
   "metadata": {},
   "outputs": [
    {
     "data": {
      "text/plain": [
       "(Index(['Month', 'U.S. Crude Oil ', 'Alabama', 'Alaska', 'Arkansas',\n",
       "        'California', 'Colorado', 'Federal Offshore Gulf of Mexico Crude Oil',\n",
       "        'Federal Offshore Pacific Crude Oil', 'Florida', 'Idaho', 'Illinois',\n",
       "        'Indiana', 'Kansas', 'Kentucky', 'Louisiana', 'Michigan', 'Mississippi',\n",
       "        'Missouri', 'Nebraska', 'Montana', 'Nevada', 'New Mexico', 'New York',\n",
       "        'North Dakota', 'Ohio', 'Oklahoma', 'Pennsylvania', 'South Dakota',\n",
       "        'Wyoming', 'West Virginia', 'Utah', 'Texas', 'Tennessee'],\n",
       "       dtype='object'),\n",
       " (121, 34))"
      ]
     },
     "execution_count": 11,
     "metadata": {},
     "output_type": "execute_result"
    }
   ],
   "source": [
    "crude_oil_data.columns, crude_oil_data.shape"
   ]
  },
  {
   "cell_type": "code",
   "execution_count": 12,
   "metadata": {},
   "outputs": [
    {
     "data": {
      "text/plain": [
       "0   2008-06-01\n",
       "1   2008-07-01\n",
       "2   2008-08-01\n",
       "3   2008-09-01\n",
       "4   2008-10-01\n",
       "Name: Date, dtype: datetime64[ns]"
      ]
     },
     "execution_count": 12,
     "metadata": {},
     "output_type": "execute_result"
    }
   ],
   "source": [
    "crude_oil_data['Date'] = pd.to_datetime(crude_oil_data['Month'])\n",
    "crude_oil_data['Date'].head()"
   ]
  },
  {
   "cell_type": "code",
   "execution_count": 15,
   "metadata": {},
   "outputs": [
    {
     "data": {
      "text/plain": [
       "Index(['Month', 'U.S. Crude Oil ', 'Alabama', 'Alaska', 'Arkansas',\n",
       "       'California', 'Colorado', 'Mexico', 'Pacific', 'Florida', 'Idaho',\n",
       "       'Illinois', 'Indiana', 'Kansas', 'Kentucky', 'Louisiana', 'Michigan',\n",
       "       'Mississippi', 'Missouri', 'Nebraska', 'Montana', 'Nevada',\n",
       "       'New Mexico', 'New York', 'North Dakota', 'Ohio', 'Oklahoma',\n",
       "       'Pennsylvania', 'South Dakota', 'Wyoming', 'West Virginia', 'Utah',\n",
       "       'Texas', 'Tennessee', 'Date'],\n",
       "      dtype='object')"
      ]
     },
     "execution_count": 15,
     "metadata": {},
     "output_type": "execute_result"
    }
   ],
   "source": [
    "crude_oil_data = crude_oil_data.rename(columns={'Federal Offshore Gulf of Mexico Crude Oil':'Mexico',\n",
    "                                               'Federal Offshore Pacific Crude Oil':'Pacific'})\n",
    "crude_oil_data.columns"
   ]
  },
  {
   "cell_type": "code",
   "execution_count": 16,
   "metadata": {},
   "outputs": [
    {
     "data": {
      "text/plain": [
       "12    2009\n",
       "31    2011\n",
       "51    2012\n",
       "54    2012\n",
       "14    2009\n",
       "19    2010\n",
       "21    2010\n",
       "77    2014\n",
       "78    2014\n",
       "85    2015\n",
       "Name: Year, dtype: int64"
      ]
     },
     "execution_count": 16,
     "metadata": {},
     "output_type": "execute_result"
    }
   ],
   "source": [
    "crude_oil_data['Year'] = crude_oil_data['Date'].dt.year\n",
    "crude_oil_data['Year'].sample(10)"
   ]
  },
  {
   "cell_type": "code",
   "execution_count": 17,
   "metadata": {},
   "outputs": [
    {
     "data": {
      "text/plain": [
       "71      5\n",
       "44      2\n",
       "36      6\n",
       "105     3\n",
       "91      1\n",
       "80      2\n",
       "84      6\n",
       "16     10\n",
       "90     12\n",
       "114    12\n",
       "Name: Month, dtype: int64"
      ]
     },
     "execution_count": 17,
     "metadata": {},
     "output_type": "execute_result"
    }
   ],
   "source": [
    "crude_oil_data['Month'] = crude_oil_data['Date'].dt.month\n",
    "crude_oil_data['Month'].sample(10)"
   ]
  },
  {
   "cell_type": "code",
   "execution_count": 18,
   "metadata": {},
   "outputs": [],
   "source": [
    "crude_oil_data.to_csv('oil_data/processed_crude_oil_data.csv',index=False)"
   ]
  },
  {
   "cell_type": "code",
   "execution_count": 19,
   "metadata": {},
   "outputs": [
    {
     "data": {
      "text/html": [
       "<div>\n",
       "<style scoped>\n",
       "    .dataframe tbody tr th:only-of-type {\n",
       "        vertical-align: middle;\n",
       "    }\n",
       "\n",
       "    .dataframe tbody tr th {\n",
       "        vertical-align: top;\n",
       "    }\n",
       "\n",
       "    .dataframe thead th {\n",
       "        text-align: right;\n",
       "    }\n",
       "</style>\n",
       "<table border=\"1\" class=\"dataframe\">\n",
       "  <thead>\n",
       "    <tr style=\"text-align: right;\">\n",
       "      <th></th>\n",
       "      <th>Month</th>\n",
       "      <th>U.S. Crude Oil</th>\n",
       "      <th>Alabama</th>\n",
       "      <th>Alaska</th>\n",
       "      <th>Arkansas</th>\n",
       "      <th>California</th>\n",
       "      <th>Colorado</th>\n",
       "      <th>Mexico</th>\n",
       "      <th>Pacific</th>\n",
       "      <th>Florida</th>\n",
       "      <th>...</th>\n",
       "      <th>Ohio</th>\n",
       "      <th>Oklahoma</th>\n",
       "      <th>Pennsylvania</th>\n",
       "      <th>South Dakota</th>\n",
       "      <th>Wyoming</th>\n",
       "      <th>West Virginia</th>\n",
       "      <th>Utah</th>\n",
       "      <th>Texas</th>\n",
       "      <th>Tennessee</th>\n",
       "      <th>Year</th>\n",
       "    </tr>\n",
       "  </thead>\n",
       "  <tbody>\n",
       "    <tr>\n",
       "      <th>count</th>\n",
       "      <td>121.000000</td>\n",
       "      <td>121.000000</td>\n",
       "      <td>121.000000</td>\n",
       "      <td>121.000000</td>\n",
       "      <td>121.000000</td>\n",
       "      <td>121.000000</td>\n",
       "      <td>121.000000</td>\n",
       "      <td>121.000000</td>\n",
       "      <td>121.000000</td>\n",
       "      <td>121.000000</td>\n",
       "      <td>...</td>\n",
       "      <td>121.000000</td>\n",
       "      <td>121.000000</td>\n",
       "      <td>121.000000</td>\n",
       "      <td>121.000000</td>\n",
       "      <td>121.000000</td>\n",
       "      <td>121.000000</td>\n",
       "      <td>121.000000</td>\n",
       "      <td>121.000000</td>\n",
       "      <td>121.0</td>\n",
       "      <td>121.000000</td>\n",
       "    </tr>\n",
       "    <tr>\n",
       "      <th>mean</th>\n",
       "      <td>6.495868</td>\n",
       "      <td>7423.694215</td>\n",
       "      <td>22.958678</td>\n",
       "      <td>540.404959</td>\n",
       "      <td>16.462810</td>\n",
       "      <td>536.388430</td>\n",
       "      <td>212.115702</td>\n",
       "      <td>1444.264463</td>\n",
       "      <td>43.115702</td>\n",
       "      <td>5.190083</td>\n",
       "      <td>...</td>\n",
       "      <td>33.322314</td>\n",
       "      <td>321.611570</td>\n",
       "      <td>13.876033</td>\n",
       "      <td>4.504132</td>\n",
       "      <td>180.429752</td>\n",
       "      <td>16.471074</td>\n",
       "      <td>85.148760</td>\n",
       "      <td>2403.826446</td>\n",
       "      <td>1.0</td>\n",
       "      <td>2012.958678</td>\n",
       "    </tr>\n",
       "    <tr>\n",
       "      <th>std</th>\n",
       "      <td>3.452352</td>\n",
       "      <td>1801.581601</td>\n",
       "      <td>3.773585</td>\n",
       "      <td>73.691879</td>\n",
       "      <td>1.483472</td>\n",
       "      <td>33.228595</td>\n",
       "      <td>117.403165</td>\n",
       "      <td>216.197200</td>\n",
       "      <td>18.735523</td>\n",
       "      <td>1.273539</td>\n",
       "      <td>...</td>\n",
       "      <td>22.429971</td>\n",
       "      <td>119.141958</td>\n",
       "      <td>4.497352</td>\n",
       "      <td>0.564564</td>\n",
       "      <td>34.097367</td>\n",
       "      <td>10.968952</td>\n",
       "      <td>16.662163</td>\n",
       "      <td>1025.413694</td>\n",
       "      <td>0.0</td>\n",
       "      <td>2.950697</td>\n",
       "    </tr>\n",
       "    <tr>\n",
       "      <th>min</th>\n",
       "      <td>1.000000</td>\n",
       "      <td>3974.000000</td>\n",
       "      <td>16.000000</td>\n",
       "      <td>398.000000</td>\n",
       "      <td>14.000000</td>\n",
       "      <td>461.000000</td>\n",
       "      <td>81.000000</td>\n",
       "      <td>242.000000</td>\n",
       "      <td>13.000000</td>\n",
       "      <td>2.000000</td>\n",
       "      <td>...</td>\n",
       "      <td>13.000000</td>\n",
       "      <td>152.000000</td>\n",
       "      <td>8.000000</td>\n",
       "      <td>3.000000</td>\n",
       "      <td>137.000000</td>\n",
       "      <td>3.000000</td>\n",
       "      <td>59.000000</td>\n",
       "      <td>1055.000000</td>\n",
       "      <td>1.0</td>\n",
       "      <td>2008.000000</td>\n",
       "    </tr>\n",
       "    <tr>\n",
       "      <th>25%</th>\n",
       "      <td>4.000000</td>\n",
       "      <td>5555.000000</td>\n",
       "      <td>20.000000</td>\n",
       "      <td>497.000000</td>\n",
       "      <td>15.000000</td>\n",
       "      <td>534.000000</td>\n",
       "      <td>97.000000</td>\n",
       "      <td>1322.000000</td>\n",
       "      <td>18.000000</td>\n",
       "      <td>5.000000</td>\n",
       "      <td>...</td>\n",
       "      <td>13.000000</td>\n",
       "      <td>201.000000</td>\n",
       "      <td>9.000000</td>\n",
       "      <td>4.000000</td>\n",
       "      <td>147.000000</td>\n",
       "      <td>6.000000</td>\n",
       "      <td>71.000000</td>\n",
       "      <td>1243.000000</td>\n",
       "      <td>1.0</td>\n",
       "      <td>2010.000000</td>\n",
       "    </tr>\n",
       "    <tr>\n",
       "      <th>50%</th>\n",
       "      <td>6.000000</td>\n",
       "      <td>7355.000000</td>\n",
       "      <td>22.000000</td>\n",
       "      <td>523.000000</td>\n",
       "      <td>16.000000</td>\n",
       "      <td>544.000000</td>\n",
       "      <td>169.000000</td>\n",
       "      <td>1452.000000</td>\n",
       "      <td>51.000000</td>\n",
       "      <td>6.000000</td>\n",
       "      <td>...</td>\n",
       "      <td>18.000000</td>\n",
       "      <td>320.000000</td>\n",
       "      <td>13.000000</td>\n",
       "      <td>5.000000</td>\n",
       "      <td>174.000000</td>\n",
       "      <td>20.000000</td>\n",
       "      <td>85.000000</td>\n",
       "      <td>2533.000000</td>\n",
       "      <td>1.0</td>\n",
       "      <td>2013.000000</td>\n",
       "    </tr>\n",
       "    <tr>\n",
       "      <th>75%</th>\n",
       "      <td>9.000000</td>\n",
       "      <td>9085.000000</td>\n",
       "      <td>26.000000</td>\n",
       "      <td>582.000000</td>\n",
       "      <td>18.000000</td>\n",
       "      <td>559.000000</td>\n",
       "      <td>320.000000</td>\n",
       "      <td>1593.000000</td>\n",
       "      <td>56.000000</td>\n",
       "      <td>6.000000</td>\n",
       "      <td>...</td>\n",
       "      <td>53.000000</td>\n",
       "      <td>433.000000</td>\n",
       "      <td>18.000000</td>\n",
       "      <td>5.000000</td>\n",
       "      <td>209.000000</td>\n",
       "      <td>25.000000</td>\n",
       "      <td>97.000000</td>\n",
       "      <td>3301.000000</td>\n",
       "      <td>1.0</td>\n",
       "      <td>2015.000000</td>\n",
       "    </tr>\n",
       "    <tr>\n",
       "      <th>max</th>\n",
       "      <td>12.000000</td>\n",
       "      <td>10674.000000</td>\n",
       "      <td>29.000000</td>\n",
       "      <td>728.000000</td>\n",
       "      <td>19.000000</td>\n",
       "      <td>588.000000</td>\n",
       "      <td>447.000000</td>\n",
       "      <td>1775.000000</td>\n",
       "      <td>70.000000</td>\n",
       "      <td>7.000000</td>\n",
       "      <td>...</td>\n",
       "      <td>79.000000</td>\n",
       "      <td>543.000000</td>\n",
       "      <td>22.000000</td>\n",
       "      <td>5.000000</td>\n",
       "      <td>251.000000</td>\n",
       "      <td>39.000000</td>\n",
       "      <td>116.000000</td>\n",
       "      <td>4410.000000</td>\n",
       "      <td>1.0</td>\n",
       "      <td>2018.000000</td>\n",
       "    </tr>\n",
       "  </tbody>\n",
       "</table>\n",
       "<p>8 rows × 35 columns</p>\n",
       "</div>"
      ],
      "text/plain": [
       "            Month  U.S. Crude Oil      Alabama      Alaska    Arkansas  \\\n",
       "count  121.000000       121.000000  121.000000  121.000000  121.000000   \n",
       "mean     6.495868      7423.694215   22.958678  540.404959   16.462810   \n",
       "std      3.452352      1801.581601    3.773585   73.691879    1.483472   \n",
       "min      1.000000      3974.000000   16.000000  398.000000   14.000000   \n",
       "25%      4.000000      5555.000000   20.000000  497.000000   15.000000   \n",
       "50%      6.000000      7355.000000   22.000000  523.000000   16.000000   \n",
       "75%      9.000000      9085.000000   26.000000  582.000000   18.000000   \n",
       "max     12.000000     10674.000000   29.000000  728.000000   19.000000   \n",
       "\n",
       "       California    Colorado       Mexico     Pacific     Florida  ...  \\\n",
       "count  121.000000  121.000000   121.000000  121.000000  121.000000  ...   \n",
       "mean   536.388430  212.115702  1444.264463   43.115702    5.190083  ...   \n",
       "std     33.228595  117.403165   216.197200   18.735523    1.273539  ...   \n",
       "min    461.000000   81.000000   242.000000   13.000000    2.000000  ...   \n",
       "25%    534.000000   97.000000  1322.000000   18.000000    5.000000  ...   \n",
       "50%    544.000000  169.000000  1452.000000   51.000000    6.000000  ...   \n",
       "75%    559.000000  320.000000  1593.000000   56.000000    6.000000  ...   \n",
       "max    588.000000  447.000000  1775.000000   70.000000    7.000000  ...   \n",
       "\n",
       "             Ohio    Oklahoma  Pennsylvania  South Dakota     Wyoming  \\\n",
       "count  121.000000  121.000000    121.000000    121.000000  121.000000   \n",
       "mean    33.322314  321.611570     13.876033      4.504132  180.429752   \n",
       "std     22.429971  119.141958      4.497352      0.564564   34.097367   \n",
       "min     13.000000  152.000000      8.000000      3.000000  137.000000   \n",
       "25%     13.000000  201.000000      9.000000      4.000000  147.000000   \n",
       "50%     18.000000  320.000000     13.000000      5.000000  174.000000   \n",
       "75%     53.000000  433.000000     18.000000      5.000000  209.000000   \n",
       "max     79.000000  543.000000     22.000000      5.000000  251.000000   \n",
       "\n",
       "       West Virginia        Utah        Texas  Tennessee         Year  \n",
       "count     121.000000  121.000000   121.000000      121.0   121.000000  \n",
       "mean       16.471074   85.148760  2403.826446        1.0  2012.958678  \n",
       "std        10.968952   16.662163  1025.413694        0.0     2.950697  \n",
       "min         3.000000   59.000000  1055.000000        1.0  2008.000000  \n",
       "25%         6.000000   71.000000  1243.000000        1.0  2010.000000  \n",
       "50%        20.000000   85.000000  2533.000000        1.0  2013.000000  \n",
       "75%        25.000000   97.000000  3301.000000        1.0  2015.000000  \n",
       "max        39.000000  116.000000  4410.000000        1.0  2018.000000  \n",
       "\n",
       "[8 rows x 35 columns]"
      ]
     },
     "execution_count": 19,
     "metadata": {},
     "output_type": "execute_result"
    }
   ],
   "source": [
    "crude_oil_data.describe()"
   ]
  },
  {
   "cell_type": "code",
   "execution_count": 25,
   "metadata": {},
   "outputs": [
    {
     "data": {
      "image/png": "[encoded data removed]",
      "text/plain": [
       "<Figure size 864x576 with 1 Axes>"
      ]
     },
     "metadata": {
      "needs_background": "light"
     },
     "output_type": "display_data"
    }
   ],
   "source": [
    "crude_oil_data.plot(x='Date',y='U.S. Crude Oil ', figsize=(12,8),color='blue');\n",
    "plt.ylabel('Production')\n",
    "plt.title(\"U.S. Crude Oil Production\");"
   ]
  },
  {
   "cell_type": "code",
   "execution_count": 26,
   "metadata": {},
   "outputs": [
    {
     "data": {
      "image/png": "[encoded data removed]",
      "text/plain": [
       "<Figure size 864x576 with 1 Axes>"
      ]
     },
     "metadata": {
      "needs_background": "light"
     },
     "output_type": "display_data"
    }
   ],
   "source": [
    "# Summary of descriptive statistics is the box plot\n",
    "crude_oil_data.boxplot('U.S. Crude Oil ', figsize=(12,8));\n",
    "plt.ylabel('Production')\n",
    "plt.title(\"U.S. Crude Oil Production\");"
   ]
  },
  {
   "cell_type": "code",
   "execution_count": 27,
   "metadata": {},
   "outputs": [
    {
     "data": {
      "image/png": "[encoded data removed]",
      "text/plain": [
       "<Figure size 864x576 with 1 Axes>"
      ]
     },
     "metadata": {
      "needs_background": "light"
     },
     "output_type": "display_data"
    }
   ],
   "source": [
    "crude_oil_data[['California']].boxplot(figsize=(12,8))\n",
    "plt.ylabel('Production')\n",
    "plt.title(\"California Oil Production\");"
   ]
  },
  {
   "cell_type": "code",
   "execution_count": 28,
   "metadata": {},
   "outputs": [
    {
     "data": {
      "image/png": "[encoded data removed]",
      "text/plain": [
       "<Figure size 864x576 with 1 Axes>"
      ]
     },
     "metadata": {
      "needs_background": "light"
     },
     "output_type": "display_data"
    }
   ],
   "source": [
    "crude_oil_data[['California','Alaska']].boxplot(figsize=(12,8))\n",
    "plt.ylabel('Production')\n",
    "plt.title(\"Alaska & California Oil Production\");"
   ]
  },
  {
   "cell_type": "code",
   "execution_count": 30,
   "metadata": {},
   "outputs": [
    {
     "data": {
      "image/png": "[encoded data removed]",
      "text/plain": [
       "<Figure size 864x576 with 1 Axes>"
      ]
     },
     "metadata": {
      "needs_background": "light"
     },
     "output_type": "display_data"
    }
   ],
   "source": [
    "crude_oil_data.boxplot(column=['U.S. Crude Oil '],by=['Year'], figsize=(12,8))\n",
    "plt.ylabel('Production');"
   ]
  },
  {
   "cell_type": "code",
   "execution_count": 31,
   "metadata": {},
   "outputs": [
    {
     "data": {
      "text/html": [
       "<div>\n",
       "<style scoped>\n",
       "    .dataframe tbody tr th:only-of-type {\n",
       "        vertical-align: middle;\n",
       "    }\n",
       "\n",
       "    .dataframe tbody tr th {\n",
       "        vertical-align: top;\n",
       "    }\n",
       "\n",
       "    .dataframe thead th {\n",
       "        text-align: right;\n",
       "    }\n",
       "</style>\n",
       "<table border=\"1\" class=\"dataframe\">\n",
       "  <thead>\n",
       "    <tr style=\"text-align: right;\">\n",
       "      <th></th>\n",
       "      <th>Year</th>\n",
       "      <th>U.S. Crude Oil</th>\n",
       "    </tr>\n",
       "  </thead>\n",
       "  <tbody>\n",
       "    <tr>\n",
       "      <th>0</th>\n",
       "      <td>2008</td>\n",
       "      <td>34211</td>\n",
       "    </tr>\n",
       "    <tr>\n",
       "      <th>1</th>\n",
       "      <td>2009</td>\n",
       "      <td>64180</td>\n",
       "    </tr>\n",
       "    <tr>\n",
       "      <th>2</th>\n",
       "      <td>2010</td>\n",
       "      <td>65741</td>\n",
       "    </tr>\n",
       "    <tr>\n",
       "      <th>3</th>\n",
       "      <td>2011</td>\n",
       "      <td>67829</td>\n",
       "    </tr>\n",
       "    <tr>\n",
       "      <th>4</th>\n",
       "      <td>2012</td>\n",
       "      <td>78007</td>\n",
       "    </tr>\n",
       "    <tr>\n",
       "      <th>5</th>\n",
       "      <td>2013</td>\n",
       "      <td>89585</td>\n",
       "    </tr>\n",
       "    <tr>\n",
       "      <th>6</th>\n",
       "      <td>2014</td>\n",
       "      <td>105064</td>\n",
       "    </tr>\n",
       "    <tr>\n",
       "      <th>7</th>\n",
       "      <td>2015</td>\n",
       "      <td>113179</td>\n",
       "    </tr>\n",
       "    <tr>\n",
       "      <th>8</th>\n",
       "      <td>2016</td>\n",
       "      <td>105970</td>\n",
       "    </tr>\n",
       "    <tr>\n",
       "      <th>9</th>\n",
       "      <td>2017</td>\n",
       "      <td>112205</td>\n",
       "    </tr>\n",
       "    <tr>\n",
       "      <th>10</th>\n",
       "      <td>2018</td>\n",
       "      <td>62296</td>\n",
       "    </tr>\n",
       "  </tbody>\n",
       "</table>\n",
       "</div>"
      ],
      "text/plain": [
       "    Year  U.S. Crude Oil \n",
       "0   2008            34211\n",
       "1   2009            64180\n",
       "2   2010            65741\n",
       "3   2011            67829\n",
       "4   2012            78007\n",
       "5   2013            89585\n",
       "6   2014           105064\n",
       "7   2015           113179\n",
       "8   2016           105970\n",
       "9   2017           112205\n",
       "10  2018            62296"
      ]
     },
     "execution_count": 31,
     "metadata": {},
     "output_type": "execute_result"
    }
   ],
   "source": [
    "year_data = crude_oil_data.groupby('Year',as_index=False).sum()\n",
    "year_data[['Year','U.S. Crude Oil ']]"
   ]
  },
  {
   "cell_type": "code",
   "execution_count": 32,
   "metadata": {},
   "outputs": [
    {
     "data": {
      "image/png": "[encoded data removed]",
      "text/plain": [
       "<Figure size 864x576 with 1 Axes>"
      ]
     },
     "metadata": {
      "needs_background": "light"
     },
     "output_type": "display_data"
    }
   ],
   "source": [
    "colors = ['C0','C1','C2','C3','C4','C5','C6','C7','C8','C9']\n",
    "year_data.plot.bar(x='Year',y='U.S. Crude Oil ', figsize=(12,8), color=colors, legend=False)\n",
    "plt.ylabel('Production')\n",
    "plt.title('U.S. Crude Oil Production');"
   ]
  },
  {
   "cell_type": "code",
   "execution_count": 38,
   "metadata": {},
   "outputs": [
    {
     "data": {
      "text/plain": [
       "Alabama            22.958678\n",
       "Alaska            540.404959\n",
       "Arkansas           16.462810\n",
       "California        536.388430\n",
       "Colorado          212.115702\n",
       "Mexico           1444.264463\n",
       "Pacific            43.115702\n",
       "Florida             5.190083\n",
       "Idaho               0.066116\n",
       "Illinois           25.008264\n",
       "Indiana             5.619835\n",
       "Kansas            114.520661\n",
       "Kentucky            7.041322\n",
       "Louisiana         177.404959\n",
       "Michigan           18.016529\n",
       "Mississippi        62.355372\n",
       "Missouri            0.223140\n",
       "Nebraska            6.966942\n",
       "Montana            71.537190\n",
       "Nevada              1.000000\n",
       "New Mexico        305.495868\n",
       "New York            1.000000\n",
       "North Dakota      746.380165\n",
       "Ohio               33.322314\n",
       "Oklahoma          321.611570\n",
       "Pennsylvania       13.876033\n",
       "South Dakota        4.504132\n",
       "Wyoming           180.429752\n",
       "West Virginia      16.471074\n",
       "Utah               85.148760\n",
       "Texas            2403.826446\n",
       "dtype: float64"
      ]
     },
     "execution_count": 38,
     "metadata": {},
     "output_type": "execute_result"
    }
   ],
   "source": [
    "mean_prod_data = crude_oil_data.mean()[2:-2]\n",
    "mean_prod_data"
   ]
  },
  {
   "cell_type": "code",
   "execution_count": 39,
   "metadata": {},
   "outputs": [
    {
     "data": {
      "text/plain": [
       "Texas            2403.826446\n",
       "Mexico           1444.264463\n",
       "North Dakota      746.380165\n",
       "Alaska            540.404959\n",
       "California        536.388430\n",
       "Oklahoma          321.611570\n",
       "New Mexico        305.495868\n",
       "Colorado          212.115702\n",
       "Wyoming           180.429752\n",
       "Louisiana         177.404959\n",
       "Kansas            114.520661\n",
       "Utah               85.148760\n",
       "Montana            71.537190\n",
       "Mississippi        62.355372\n",
       "Pacific            43.115702\n",
       "Ohio               33.322314\n",
       "Illinois           25.008264\n",
       "Alabama            22.958678\n",
       "Michigan           18.016529\n",
       "West Virginia      16.471074\n",
       "Arkansas           16.462810\n",
       "Pennsylvania       13.876033\n",
       "Kentucky            7.041322\n",
       "Nebraska            6.966942\n",
       "Indiana             5.619835\n",
       "Florida             5.190083\n",
       "South Dakota        4.504132\n",
       "Nevada              1.000000\n",
       "New York            1.000000\n",
       "Missouri            0.223140\n",
       "Idaho               0.066116\n",
       "dtype: float64"
      ]
     },
     "execution_count": 39,
     "metadata": {},
     "output_type": "execute_result"
    }
   ],
   "source": [
    "mean_prod_data = mean_prod_data.sort_values(ascending=False)\n",
    "mean_prod_data"
   ]
  },
  {
   "cell_type": "code",
   "execution_count": 40,
   "metadata": {},
   "outputs": [
    {
     "data": {
      "text/html": [
       "<div>\n",
       "<style scoped>\n",
       "    .dataframe tbody tr th:only-of-type {\n",
       "        vertical-align: middle;\n",
       "    }\n",
       "\n",
       "    .dataframe tbody tr th {\n",
       "        vertical-align: top;\n",
       "    }\n",
       "\n",
       "    .dataframe thead th {\n",
       "        text-align: right;\n",
       "    }\n",
       "</style>\n",
       "<table border=\"1\" class=\"dataframe\">\n",
       "  <thead>\n",
       "    <tr style=\"text-align: right;\">\n",
       "      <th></th>\n",
       "      <th>State</th>\n",
       "      <th>Production</th>\n",
       "    </tr>\n",
       "  </thead>\n",
       "  <tbody>\n",
       "    <tr>\n",
       "      <th>0</th>\n",
       "      <td>Texas</td>\n",
       "      <td>2403.826446</td>\n",
       "    </tr>\n",
       "    <tr>\n",
       "      <th>1</th>\n",
       "      <td>Mexico</td>\n",
       "      <td>1444.264463</td>\n",
       "    </tr>\n",
       "    <tr>\n",
       "      <th>2</th>\n",
       "      <td>North Dakota</td>\n",
       "      <td>746.380165</td>\n",
       "    </tr>\n",
       "    <tr>\n",
       "      <th>3</th>\n",
       "      <td>Alaska</td>\n",
       "      <td>540.404959</td>\n",
       "    </tr>\n",
       "    <tr>\n",
       "      <th>4</th>\n",
       "      <td>California</td>\n",
       "      <td>536.388430</td>\n",
       "    </tr>\n",
       "  </tbody>\n",
       "</table>\n",
       "</div>"
      ],
      "text/plain": [
       "          State   Production\n",
       "0         Texas  2403.826446\n",
       "1        Mexico  1444.264463\n",
       "2  North Dakota   746.380165\n",
       "3        Alaska   540.404959\n",
       "4    California   536.388430"
      ]
     },
     "execution_count": 40,
     "metadata": {},
     "output_type": "execute_result"
    }
   ],
   "source": [
    "mean_production_df = pd.DataFrame(mean_prod_data).reset_index()\n",
    "mean_production_df.columns = ['State','Production']\n",
    "mean_production_df.head()"
   ]
  },
  {
   "cell_type": "code",
   "execution_count": 41,
   "metadata": {},
   "outputs": [
    {
     "data": {
      "image/png": "[encoded data removed]",
      "text/plain": [
       "<Figure size 864x576 with 1 Axes>"
      ]
     },
     "metadata": {
      "needs_background": "light"
     },
     "output_type": "display_data"
    }
   ],
   "source": [
    "plt.figure(figsize=(12,8))\n",
    "plt.bar(mean_production_df['State'], mean_production_df['Production'], width = 0.85)\n",
    "plt.title('US Oil Mean-Production June 2008 to H1 June 2018')\n",
    "plt.xticks(rotation=90)\n",
    "plt.xlabel('State')\n",
    "plt.ylabel('Production')\n",
    "plt.show();"
   ]
  },
  {
   "cell_type": "code",
   "execution_count": 42,
   "metadata": {},
   "outputs": [
    {
     "data": {
      "image/png": "[encoded data removed]",
      "text/plain": [
       "<Figure size 864x576 with 1 Axes>"
      ]
     },
     "metadata": {
      "needs_background": "light"
     },
     "output_type": "display_data"
    }
   ],
   "source": [
    "# Probability Density Distribution\n",
    "mean_production_df['Production'].plot.kde(figsize=(12,8))\n",
    "plt.show();"
   ]
  },
  {
   "cell_type": "code",
   "execution_count": 48,
   "metadata": {},
   "outputs": [
    {
     "data": {
      "image/png": "[encoded data removed]",
      "text/plain": [
       "<Figure size 864x576 with 1 Axes>"
      ]
     },
     "metadata": {
      "needs_background": "light"
     },
     "output_type": "display_data"
    }
   ],
   "source": [
    "plt.figure(figsize=(12,8))\n",
    "plt.scatter(crude_oil_data['Texas'],crude_oil_data['U.S. Crude Oil '],c='g')\n",
    "plt.xlabel('US Production')\n",
    "plt.ylabel('Texas Production');\n",
    "plt.show();"
   ]
  },
  {
   "cell_type": "code",
   "execution_count": null,
   "metadata": {},
   "outputs": [],
   "source": []
  }
 ],
 "metadata": {
  "kernelspec": {
   "display_name": "Python 3",
   "language": "python",
   "name": "python3"
  },
  "language_info": {
   "codemirror_mode": {
    "name": "ipython",
    "version": 3
   },
   "file_extension": ".py",
   "mimetype": "text/x-python",
   "name": "python",
   "nbconvert_exporter": "python",
   "pygments_lexer": "ipython3",
   "version": "3.7.6"
  }
 },
 "nbformat": 4,
 "nbformat_minor": 4
}
